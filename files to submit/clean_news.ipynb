{
 "cells": [
  {
   "cell_type": "code",
   "execution_count": 1,
   "metadata": {},
   "outputs": [],
   "source": [
    "import numpy as np\n",
    "import pandas as pd\n",
    "import ftfy\n",
    "from langdetect import detect\n",
    "import os"
   ]
  },
  {
   "cell_type": "code",
   "execution_count": 2,
   "metadata": {},
   "outputs": [],
   "source": [
    "os.chdir('C:\\\\Users\\\\rmartinez4\\\\Box\\\\Personal Git\\\\Drug-Epidemic-Tracking-With-Social-Media')"
   ]
  },
  {
   "cell_type": "code",
   "execution_count": 3,
   "metadata": {},
   "outputs": [],
   "source": [
    "NEWS = './data/usnewspaper-Jun-Aug.csv'"
   ]
  },
  {
   "cell_type": "markdown",
   "metadata": {},
   "source": [
    "### read data"
   ]
  },
  {
   "cell_type": "code",
   "execution_count": 4,
   "metadata": {},
   "outputs": [],
   "source": [
    "df = pd.read_csv(NEWS)"
   ]
  },
  {
   "cell_type": "code",
   "execution_count": 5,
   "metadata": {},
   "outputs": [],
   "source": [
    "df = df[['publishdate', 'src', 'title', 'news']] # keep these columns only"
   ]
  },
  {
   "cell_type": "code",
   "execution_count": 6,
   "metadata": {},
   "outputs": [
    {
     "data": {
      "text/html": [
       "<div>\n",
       "<style scoped>\n",
       "    .dataframe tbody tr th:only-of-type {\n",
       "        vertical-align: middle;\n",
       "    }\n",
       "\n",
       "    .dataframe tbody tr th {\n",
       "        vertical-align: top;\n",
       "    }\n",
       "\n",
       "    .dataframe thead th {\n",
       "        text-align: right;\n",
       "    }\n",
       "</style>\n",
       "<table border=\"1\" class=\"dataframe\">\n",
       "  <thead>\n",
       "    <tr style=\"text-align: right;\">\n",
       "      <th></th>\n",
       "      <th>publishdate</th>\n",
       "      <th>src</th>\n",
       "      <th>title</th>\n",
       "      <th>news</th>\n",
       "    </tr>\n",
       "  </thead>\n",
       "  <tbody>\n",
       "    <tr>\n",
       "      <th>0</th>\n",
       "      <td>2020-06-01</td>\n",
       "      <td>https://www.prnewswire.com/news-releases/</td>\n",
       "      <td>A Natural Partnership: PopSockets &amp; Burt`s Bee...</td>\n",
       "      <td>PopGrip Lips x Burt`s Bees will provide consum...</td>\n",
       "    </tr>\n",
       "    <tr>\n",
       "      <th>1</th>\n",
       "      <td>2020-06-01</td>\n",
       "      <td>http://www.pionline.com</td>\n",
       "      <td>Continued market volatility contributes to 27....</td>\n",
       "      <td>NaN</td>\n",
       "    </tr>\n",
       "    <tr>\n",
       "      <th>2</th>\n",
       "      <td>2020-06-01</td>\n",
       "      <td>http://www.denverpost.com/</td>\n",
       "      <td>Comments on: Mass gatherings, erosion of trust...</td>\n",
       "      <td>NaN</td>\n",
       "    </tr>\n",
       "    <tr>\n",
       "      <th>3</th>\n",
       "      <td>2020-06-01</td>\n",
       "      <td>http://www.denverpost.com/</td>\n",
       "      <td>Comments on: How I got hooked on sports: My “W...</td>\n",
       "      <td>NaN</td>\n",
       "    </tr>\n",
       "    <tr>\n",
       "      <th>4</th>\n",
       "      <td>2020-06-01</td>\n",
       "      <td>https://www.post-gazette.com/</td>\n",
       "      <td>Gene Collier: Are we bored enough yet to bet o...</td>\n",
       "      <td>NaN</td>\n",
       "    </tr>\n",
       "  </tbody>\n",
       "</table>\n",
       "</div>"
      ],
      "text/plain": [
       "  publishdate                                        src  \\\n",
       "0  2020-06-01  https://www.prnewswire.com/news-releases/   \n",
       "1  2020-06-01                    http://www.pionline.com   \n",
       "2  2020-06-01                 http://www.denverpost.com/   \n",
       "3  2020-06-01                 http://www.denverpost.com/   \n",
       "4  2020-06-01              https://www.post-gazette.com/   \n",
       "\n",
       "                                               title  \\\n",
       "0  A Natural Partnership: PopSockets & Burt`s Bee...   \n",
       "1  Continued market volatility contributes to 27....   \n",
       "2  Comments on: Mass gatherings, erosion of trust...   \n",
       "3  Comments on: How I got hooked on sports: My “W...   \n",
       "4  Gene Collier: Are we bored enough yet to bet o...   \n",
       "\n",
       "                                                news  \n",
       "0  PopGrip Lips x Burt`s Bees will provide consum...  \n",
       "1                                                NaN  \n",
       "2                                                NaN  \n",
       "3                                                NaN  \n",
       "4                                                NaN  "
      ]
     },
     "execution_count": 6,
     "metadata": {},
     "output_type": "execute_result"
    }
   ],
   "source": [
    "df.head()"
   ]
  },
  {
   "cell_type": "code",
   "execution_count": 7,
   "metadata": {},
   "outputs": [
    {
     "data": {
      "text/plain": [
       "publishdate    object\n",
       "src            object\n",
       "title          object\n",
       "news           object\n",
       "dtype: object"
      ]
     },
     "execution_count": 7,
     "metadata": {},
     "output_type": "execute_result"
    }
   ],
   "source": [
    "df.dtypes"
   ]
  },
  {
   "cell_type": "code",
   "execution_count": 8,
   "metadata": {},
   "outputs": [
    {
     "data": {
      "text/plain": [
       "publishdate        0\n",
       "src                0\n",
       "title            833\n",
       "news           52953\n",
       "dtype: int64"
      ]
     },
     "execution_count": 8,
     "metadata": {},
     "output_type": "execute_result"
    }
   ],
   "source": [
    "df.isna().sum()"
   ]
  },
  {
   "cell_type": "markdown",
   "metadata": {},
   "source": [
    "### remove nan rows for 'title' and 'news'"
   ]
  },
  {
   "cell_type": "code",
   "execution_count": 9,
   "metadata": {},
   "outputs": [],
   "source": [
    "df_clean = df.dropna(subset=['news', 'title'], axis=0)"
   ]
  },
  {
   "cell_type": "code",
   "execution_count": 10,
   "metadata": {},
   "outputs": [
    {
     "data": {
      "text/plain": [
       "publishdate    0\n",
       "src            0\n",
       "title          0\n",
       "news           0\n",
       "dtype: int64"
      ]
     },
     "execution_count": 10,
     "metadata": {},
     "output_type": "execute_result"
    }
   ],
   "source": [
    "df_clean.isna().sum()"
   ]
  },
  {
   "cell_type": "markdown",
   "metadata": {},
   "source": [
    "### remove non english articles"
   ]
  },
  {
   "cell_type": "code",
   "execution_count": 11,
   "metadata": {},
   "outputs": [],
   "source": [
    "def detect_language(article):\n",
    "    language = detect(article)\n",
    "    return language"
   ]
  },
  {
   "cell_type": "code",
   "execution_count": 12,
   "metadata": {},
   "outputs": [],
   "source": [
    "%%time\n",
    "df_clean = df_clean[df_clean['title'].map(detect_language)=='en']"
   ]
  },
  {
   "cell_type": "markdown",
   "metadata": {},
   "source": [
    "### converting text from ISO-8859-1/latin1 to UTF-8"
   ]
  },
  {
   "cell_type": "code",
   "execution_count": 13,
   "metadata": {},
   "outputs": [],
   "source": [
    "%%time\n",
    "\n",
    "t_list, n_list = [], []\n",
    "idx = 0\n",
    "for t, n in zip(df_clean['title'], df_clean['news']):\n",
    "    \n",
    "    try:\n",
    "        t_value = ftfy.fix_text(t)\n",
    "    except:\n",
    "        t_value = t\n",
    "    \n",
    "    try:\n",
    "        n_value = ftfy.fix_text(n)\n",
    "    except:\n",
    "        n_value = n\n",
    "        \n",
    "    t_list.append(t_value)\n",
    "    n_list.append(n_value)\n",
    "    \n",
    "#     print(idx, end=' ')\n",
    "    idx+=1\n",
    "    \n",
    "df_clean['title'] = t_list\n",
    "df_clean['news'] = n_list"
   ]
  },
  {
   "cell_type": "markdown",
   "metadata": {},
   "source": [
    "### remove duplicates"
   ]
  },
  {
   "cell_type": "code",
   "execution_count": 14,
   "metadata": {},
   "outputs": [],
   "source": [
    "df_clean = df_clean.drop_duplicates(subset=['news'])"
   ]
  },
  {
   "cell_type": "markdown",
   "metadata": {},
   "source": [
    "### convert text to lower case"
   ]
  },
  {
   "cell_type": "code",
   "execution_count": 15,
   "metadata": {},
   "outputs": [],
   "source": [
    "df_clean['title'] = df_clean['title'].str.lower()\n",
    "df_clean['news'] = df_clean['news'].str.lower()"
   ]
  },
  {
   "cell_type": "markdown",
   "metadata": {},
   "source": [
    "### filter relevant articles with drugs, addiction, epidemic"
   ]
  },
  {
   "cell_type": "code",
   "execution_count": 16,
   "metadata": {},
   "outputs": [],
   "source": [
    "\"\"\"\n",
    "sources:\n",
    "    - https://www.drugabuse.gov/publications/media-guide/glossary\n",
    "    - https://www.cdc.gov/drugoverdose/opioids/terms.html\n",
    "    \n",
    "\"\"\"\n",
    "\n",
    "relev_NIH_words = ['Abstinence','Addiction','Agonist','Amphetamine','Anabolic',\n",
    "                         'androgenic','steroids','Analgesics','Anesthetic','Antagonist','Barbiturate',\n",
    "                         'Basal','ganglia','Benzodiazepine','Brainstem','Buprenorphine',\n",
    "                         'Cannabidiol','CBD','Cannabinoid','receptor','Cannabinoids','Cannabis',\n",
    "                         'Cardiovascular system','Central nervous system','CNS','Cerebellum',\n",
    "                         'Cerebral cortex','Cerebral hemispheres','Cerebrum','CNS depressants',\n",
    "                          'Cognition','Cognitive-behavioral therapy','CBT','Comorbidity',\n",
    "                          'Contingency management','Craving','Dependence','Detoxification',\n",
    "                          'Dopamine','Drug abuse','Drugged driving','Electronic cigarette',\n",
    "                          'Flashback','Hallucinations','Hippocampus','Hypothalamus',\n",
    "                          'Illicit','Impulsivity','Injection drug use','IDU','Intranasal',\n",
    "                          'Limbic system','Mental disorder','Methadone','Motivational Enhancement Therapy',\n",
    "                          'Naloxone','Naltrexone','Neonatal abstinence syndrome','NAS','Neurobiology',\n",
    "                          'Neuron','nerve cell','Neurotransmitter','Norepinephrine','Nucleus accumbens',\n",
    "                          'Opioid','opioids','Opioid receptors','Overdose','Paranoia','Partial agonist',\n",
    "                          'Pharmacodynamics','Pharmacokinetics','Pharmacotherapy','Prefrontal cortex',\n",
    "                          'Prescription drug misuse','Psychedelic drug','Psychoactive',\n",
    "                          'Psychosis','Psychotherapeutics','Psychotropic','Receptor','Recovery',\n",
    "                          'Relapse','Remission','Reward','Reward system','brain reward system',\n",
    "                          'Risk factors','Route of administration','Self-medication','Serotonin',\n",
    "                          'Stigma','Substance use disorder','sud','thc','Tolerance','Vaping','vape',\n",
    "                          'Ventral striatum','Ventral tegmental area','Withdrawal','therapy'\n",
    "]\n",
    "\n",
    "\n",
    "relev_CDC_words = ['Acute','pain','Analgesics','Analog','Benzodiazepines',\n",
    "                        'Chronic pain','Drug misuse','Drug addiction','Extended-release',\n",
    "                        'long-acting','er','la','opioids','Fentanyl','Heroin','Illicit drugs',\n",
    "                        'Immediate-release opioids','medication','assisted','treatment','mat',\n",
    "                        'morphine','miligram','equivalents','mme','Naloxone','Narcotic drugs',\n",
    "                        'nonmedical use','Non-opioid therapy','Non-pharmacologic therapy','opiates',\n",
    "                        'Opioid analgesics','Natural opioid analgesics','Semi-synthetic opioid analgesics',\n",
    "                        'Methadone','Synthetic opioid analgesics','synthetic','analgesics',\n",
    "                        'Opioid use disorder','disorder','oud','dependence','Physical dependence',\n",
    "                        'Prescription drug monitoring programs','prescription','monitor',\n",
    "                        'Tolerance'\n",
    "]\n",
    "\n",
    "\n",
    "other_relev_words = ['health','addicted','epidemic']\n",
    "\n",
    "words_list = [i.lower() for i in set(relev_NIH_words+relev_CDC_words+other_relev_words)]\n",
    "bag_of_words = '|'.join(words_list)\n",
    "\n",
    "title_matches = df_clean['title'].str.contains(bag_of_words)\n",
    "news_matches = df_clean['news'].str.contains(bag_of_words)\n",
    "\n",
    "total_matches = np.array([i or j for i,j in zip(title_matches, news_matches)])\n",
    "\n",
    "df_clean = df_clean[total_matches]"
   ]
  },
  {
   "cell_type": "markdown",
   "metadata": {},
   "source": [
    "### extract source name from URL (src)"
   ]
  },
  {
   "cell_type": "code",
   "execution_count": 17,
   "metadata": {},
   "outputs": [],
   "source": [
    "df_clean['src_name'] = [i.split('/')[2].replace('www.','').replace('www-1.','').split('.')[0] for i in df_clean.src]"
   ]
  },
  {
   "cell_type": "markdown",
   "metadata": {},
   "source": [
    "### save to file"
   ]
  },
  {
   "cell_type": "code",
   "execution_count": 18,
   "metadata": {},
   "outputs": [],
   "source": [
    "df_clean.to_csv(NEWS.replace('.csv', '_cleaned.csv'), index=False)"
   ]
  },
  {
   "cell_type": "code",
   "execution_count": null,
   "metadata": {},
   "outputs": [],
   "source": []
  }
 ],
 "metadata": {
  "kernelspec": {
   "display_name": "Python 3",
   "language": "python",
   "name": "python3"
  },
  "language_info": {
   "codemirror_mode": {
    "name": "ipython",
    "version": 3
   },
   "file_extension": ".py",
   "mimetype": "text/x-python",
   "name": "python",
   "nbconvert_exporter": "python",
   "pygments_lexer": "ipython3",
   "version": "3.8.3"
  },
  "toc": {
   "base_numbering": 1,
   "nav_menu": {},
   "number_sections": true,
   "sideBar": true,
   "skip_h1_title": false,
   "title_cell": "Table of Contents",
   "title_sidebar": "Contents",
   "toc_cell": false,
   "toc_position": {
    "height": "calc(100% - 180px)",
    "left": "10px",
    "top": "150px",
    "width": "165px"
   },
   "toc_section_display": true,
   "toc_window_display": true
  },
  "varInspector": {
   "cols": {
    "lenName": 16,
    "lenType": 16,
    "lenVar": 40
   },
   "kernels_config": {
    "python": {
     "delete_cmd_postfix": "",
     "delete_cmd_prefix": "del ",
     "library": "var_list.py",
     "varRefreshCmd": "print(var_dic_list())"
    },
    "r": {
     "delete_cmd_postfix": ") ",
     "delete_cmd_prefix": "rm(",
     "library": "var_list.r",
     "varRefreshCmd": "cat(var_dic_list()) "
    }
   },
   "types_to_exclude": [
    "module",
    "function",
    "builtin_function_or_method",
    "instance",
    "_Feature"
   ],
   "window_display": false
  }
 },
 "nbformat": 4,
 "nbformat_minor": 4
}
