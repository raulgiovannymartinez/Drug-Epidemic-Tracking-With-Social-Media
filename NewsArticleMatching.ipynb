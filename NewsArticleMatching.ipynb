{
 "cells": [
  {
   "cell_type": "code",
   "execution_count": 289,
   "metadata": {},
   "outputs": [],
   "source": [
    "import numpy as np\n",
    "import pandas as pd\n",
    "import ftfy as fy\n",
    "import nltk\n",
    "import string\n",
    "import py_stringsimjoin as ssj\n",
    "import py_stringmatching as sm\n",
    "from nltk.corpus import stopwords\n",
    "from nltk.tokenize import word_tokenize  \n",
    "from langdetect import detect"
   ]
  },
  {
   "cell_type": "markdown",
   "metadata": {},
   "source": [
    "# Check title and news data (Ivan's addition)\n",
    "Here we explore the filtered titles and news articles. Primarily we check for encoding issues.\n",
    "\n",
    "Load the pre-filtered data"
   ]
  },
  {
   "cell_type": "code",
   "execution_count": 290,
   "metadata": {},
   "outputs": [],
   "source": [
    "df_clean_test = pd.read_csv('./data/usnewspaper-Jun-Aug_cleaned.csv')"
   ]
  },
  {
   "cell_type": "code",
   "execution_count": 291,
   "metadata": {
    "scrolled": true
   },
   "outputs": [
    {
     "data": {
      "text/html": [
       "<div>\n",
       "<style scoped>\n",
       "    .dataframe tbody tr th:only-of-type {\n",
       "        vertical-align: middle;\n",
       "    }\n",
       "\n",
       "    .dataframe tbody tr th {\n",
       "        vertical-align: top;\n",
       "    }\n",
       "\n",
       "    .dataframe thead th {\n",
       "        text-align: right;\n",
       "    }\n",
       "</style>\n",
       "<table border=\"1\" class=\"dataframe\">\n",
       "  <thead>\n",
       "    <tr style=\"text-align: right;\">\n",
       "      <th></th>\n",
       "      <th>publishdate</th>\n",
       "      <th>src</th>\n",
       "      <th>title</th>\n",
       "      <th>news</th>\n",
       "    </tr>\n",
       "  </thead>\n",
       "  <tbody>\n",
       "    <tr>\n",
       "      <th>0</th>\n",
       "      <td>2020-06-01</td>\n",
       "      <td>https://www.prnewswire.com/news-releases/</td>\n",
       "      <td>a natural partnership: popsockets &amp; burt`s bees collaborate on a new product</td>\n",
       "      <td>popgrip lips x burt`s bees will provide consumers with a two-in-one product that features the cl...</td>\n",
       "    </tr>\n",
       "    <tr>\n",
       "      <th>1</th>\n",
       "      <td>2020-06-01</td>\n",
       "      <td>http://www.reuters.com/</td>\n",
       "      <td>keep your distance: people queue for school and ikea in england</td>\n",
       "      <td>warrington, england (reuters) - thousands of people across england queued up for school and ikea...</td>\n",
       "    </tr>\n",
       "    <tr>\n",
       "      <th>2</th>\n",
       "      <td>2020-06-01</td>\n",
       "      <td>http://www.aljazeera.com/</td>\n",
       "      <td>mapping us cities where george floyd protests have erupted</td>\n",
       "      <td>demonstrations have erupted in dozens of us cities after george floyd, an unarmed black man, die...</td>\n",
       "    </tr>\n",
       "    <tr>\n",
       "      <th>3</th>\n",
       "      <td>2020-06-01</td>\n",
       "      <td>https://www.dallasnews.com/</td>\n",
       "      <td>enjoy the dallas museum of art’s exploration of home from the comfort of yours</td>\n",
       "      <td>what does it mean for a house to be a home?\\n\\nfor one thing, it means that a structure built of...</td>\n",
       "    </tr>\n",
       "    <tr>\n",
       "      <th>4</th>\n",
       "      <td>2020-06-01</td>\n",
       "      <td>https://www.dallasnews.com/</td>\n",
       "      <td>target opens some dallas stores as protesters move overnight, causing damage to west end and upt...</td>\n",
       "      <td>the protests that have spread around the country are closing stores at a time when retailers are...</td>\n",
       "    </tr>\n",
       "  </tbody>\n",
       "</table>\n",
       "</div>"
      ],
      "text/plain": [
       "  publishdate                                        src  \\\n",
       "0  2020-06-01  https://www.prnewswire.com/news-releases/   \n",
       "1  2020-06-01                    http://www.reuters.com/   \n",
       "2  2020-06-01                  http://www.aljazeera.com/   \n",
       "3  2020-06-01                https://www.dallasnews.com/   \n",
       "4  2020-06-01                https://www.dallasnews.com/   \n",
       "\n",
       "                                                                                                 title  \\\n",
       "0                         a natural partnership: popsockets & burt`s bees collaborate on a new product   \n",
       "1                                      keep your distance: people queue for school and ikea in england   \n",
       "2                                           mapping us cities where george floyd protests have erupted   \n",
       "3                       enjoy the dallas museum of art’s exploration of home from the comfort of yours   \n",
       "4  target opens some dallas stores as protesters move overnight, causing damage to west end and upt...   \n",
       "\n",
       "                                                                                                  news  \n",
       "0  popgrip lips x burt`s bees will provide consumers with a two-in-one product that features the cl...  \n",
       "1  warrington, england (reuters) - thousands of people across england queued up for school and ikea...  \n",
       "2  demonstrations have erupted in dozens of us cities after george floyd, an unarmed black man, die...  \n",
       "3  what does it mean for a house to be a home?\\n\\nfor one thing, it means that a structure built of...  \n",
       "4  the protests that have spread around the country are closing stores at a time when retailers are...  "
      ]
     },
     "execution_count": 291,
     "metadata": {},
     "output_type": "execute_result"
    }
   ],
   "source": [
    "df_clean_test.head()"
   ]
  },
  {
   "cell_type": "markdown",
   "metadata": {},
   "source": [
    "## Remove empty NaN rows"
   ]
  },
  {
   "cell_type": "code",
   "execution_count": 292,
   "metadata": {},
   "outputs": [
    {
     "data": {
      "text/plain": [
       "publishdate    0\n",
       "src            0\n",
       "title          0\n",
       "news           0\n",
       "dtype: int64"
      ]
     },
     "execution_count": 292,
     "metadata": {},
     "output_type": "execute_result"
    }
   ],
   "source": [
    "df_clean_test.isna().sum()\n",
    "df_clean_test = df_clean_test.dropna()\n",
    "df_clean_test.isna().sum()"
   ]
  },
  {
   "cell_type": "markdown",
   "metadata": {},
   "source": [
    "Replace line breaks with empty spaces from news and titles if they exist."
   ]
  },
  {
   "cell_type": "code",
   "execution_count": 293,
   "metadata": {},
   "outputs": [],
   "source": [
    "df_clean_test['news'] = df_clean_test['news'].str.replace('\\n\\n',' ')\n",
    "df_clean_test['title'] = df_clean_test['title'].str.replace('\\n\\n',' ')"
   ]
  },
  {
   "cell_type": "markdown",
   "metadata": {},
   "source": [
    "## Remove non english articles (function)"
   ]
  },
  {
   "cell_type": "code",
   "execution_count": 294,
   "metadata": {},
   "outputs": [],
   "source": [
    "def detect_language(article):\n",
    "    language = detect(article)\n",
    "    return language"
   ]
  },
  {
   "cell_type": "markdown",
   "metadata": {},
   "source": [
    "## Import Drug Name List\n",
    "Here we will use the \"common name\" or \"generic name\" to make comparisons\""
   ]
  },
  {
   "cell_type": "code",
   "execution_count": 321,
   "metadata": {},
   "outputs": [
    {
     "data": {
      "text/html": [
       "<div>\n",
       "<style scoped>\n",
       "    .dataframe tbody tr th:only-of-type {\n",
       "        vertical-align: middle;\n",
       "    }\n",
       "\n",
       "    .dataframe tbody tr th {\n",
       "        vertical-align: top;\n",
       "    }\n",
       "\n",
       "    .dataframe thead th {\n",
       "        text-align: right;\n",
       "    }\n",
       "</style>\n",
       "<table border=\"1\" class=\"dataframe\">\n",
       "  <thead>\n",
       "    <tr style=\"text-align: right;\">\n",
       "      <th></th>\n",
       "      <th>name</th>\n",
       "      <th>common_name</th>\n",
       "      <th>name_type</th>\n",
       "      <th>full_common_name</th>\n",
       "    </tr>\n",
       "  </thead>\n",
       "  <tbody>\n",
       "    <tr>\n",
       "      <th>0</th>\n",
       "      <td>Apache</td>\n",
       "      <td>fentanyl</td>\n",
       "      <td>street_name</td>\n",
       "      <td>fentanyl</td>\n",
       "    </tr>\n",
       "    <tr>\n",
       "      <th>1</th>\n",
       "      <td>Birria</td>\n",
       "      <td>fentanyl</td>\n",
       "      <td>street_name</td>\n",
       "      <td>fentanyl</td>\n",
       "    </tr>\n",
       "    <tr>\n",
       "      <th>2</th>\n",
       "      <td>Blonde</td>\n",
       "      <td>fentanyl</td>\n",
       "      <td>street_name</td>\n",
       "      <td>fentanyl</td>\n",
       "    </tr>\n",
       "    <tr>\n",
       "      <th>3</th>\n",
       "      <td>Blue Diamond</td>\n",
       "      <td>fentanyl</td>\n",
       "      <td>street_name</td>\n",
       "      <td>fentanyl</td>\n",
       "    </tr>\n",
       "    <tr>\n",
       "      <th>4</th>\n",
       "      <td>Blue Dolphin</td>\n",
       "      <td>fentanyl</td>\n",
       "      <td>street_name</td>\n",
       "      <td>fentanyl</td>\n",
       "    </tr>\n",
       "  </tbody>\n",
       "</table>\n",
       "</div>"
      ],
      "text/plain": [
       "           name common_name    name_type full_common_name\n",
       "0        Apache    fentanyl  street_name         fentanyl\n",
       "1        Birria    fentanyl  street_name         fentanyl\n",
       "2        Blonde    fentanyl  street_name         fentanyl\n",
       "3  Blue Diamond    fentanyl  street_name         fentanyl\n",
       "4  Blue Dolphin    fentanyl  street_name         fentanyl"
      ]
     },
     "execution_count": 321,
     "metadata": {},
     "output_type": "execute_result"
    }
   ],
   "source": [
    "drug_names = pd.read_csv('./data/cleaned_files/drug_names_additional_column.csv')\n",
    "drug_names.head(5)"
   ]
  },
  {
   "cell_type": "markdown",
   "metadata": {},
   "source": [
    "## Prepare Data for Join"
   ]
  },
  {
   "cell_type": "code",
   "execution_count": 322,
   "metadata": {},
   "outputs": [],
   "source": [
    "# Use only the common_name column for the dataframe, can be expanded to keep the rest of the columns.\n",
    "drug_names = pd.DataFrame(set(drug_names['common_name']),columns=['common_name'])\n",
    "\n",
    "# Generate keys\n",
    "drug_names['keyleft'] = list(range(len(drug_names['common_name'])))\n",
    "df_clean_test['keyright'] = list(range(len(df_clean_test['news'])))"
   ]
  },
  {
   "cell_type": "markdown",
   "metadata": {},
   "source": [
    "## Execute the Join - (Change method and threshold here)"
   ]
  },
  {
   "cell_type": "code",
   "execution_count": 323,
   "metadata": {},
   "outputs": [],
   "source": [
    "# Choose join method\n",
    "JCjoin = ssj.join.cosine_join.cosine_join\n",
    "# Create the alphabetic tokenizer\n",
    "alphabet_tok_set = sm.AlphabeticTokenizer(return_set=True)\n",
    "# Execute the Join\n",
    "match_B = JCjoin(drug_names, df_clean_test, 'keyleft', 'keyright', 'common_name', 'news', alphabet_tok_set, 0.05, \n",
    "                                l_out_attrs=['common_name'], r_out_attrs=['publishdate','src','title','news'], n_jobs=-1);"
   ]
  },
  {
   "cell_type": "markdown",
   "metadata": {},
   "source": [
    "## Sort by similarity coefficient value and also remove non-english articles based on the title (faster than looking at the whole article)"
   ]
  },
  {
   "cell_type": "code",
   "execution_count": 324,
   "metadata": {},
   "outputs": [],
   "source": [
    "sorted_df = match_B.sort_values(by=['_sim_score'])\n",
    "sorted_df = sorted_df[sorted_df['r_title'].map(detect_language)=='en']"
   ]
  },
  {
   "cell_type": "markdown",
   "metadata": {},
   "source": [
    "## Export to CSV and Excel format. It may not work if size is too large"
   ]
  },
  {
   "cell_type": "code",
   "execution_count": 325,
   "metadata": {},
   "outputs": [],
   "source": [
    "sorted_df.to_excel('matched_output.xlsx',index=False)"
   ]
  },
  {
   "cell_type": "code",
   "execution_count": 326,
   "metadata": {},
   "outputs": [],
   "source": [
    "sorted_df.to_csv('matched_output.csv',index=False)"
   ]
  },
  {
   "cell_type": "code",
   "execution_count": null,
   "metadata": {},
   "outputs": [],
   "source": []
  }
 ],
 "metadata": {
  "kernelspec": {
   "display_name": "Python 3",
   "language": "python",
   "name": "python3"
  },
  "language_info": {
   "codemirror_mode": {
    "name": "ipython",
    "version": 3
   },
   "file_extension": ".py",
   "mimetype": "text/x-python",
   "name": "python",
   "nbconvert_exporter": "python",
   "pygments_lexer": "ipython3",
   "version": "3.8.5"
  }
 },
 "nbformat": 4,
 "nbformat_minor": 4
}
