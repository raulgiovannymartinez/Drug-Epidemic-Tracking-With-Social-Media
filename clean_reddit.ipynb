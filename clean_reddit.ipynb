{
 "cells": [
  {
   "cell_type": "code",
   "execution_count": 52,
   "metadata": {},
   "outputs": [],
   "source": [
    "import os\n",
    "import numpy as np\n",
    "import pandas as pd\n",
    "import py_stringsimjoin as ssj\n",
    "import py_stringmatching as sm"
   ]
  },
  {
   "cell_type": "code",
   "execution_count": 2,
   "metadata": {},
   "outputs": [],
   "source": [
    "REDDIT_DATA = './data/parsed_reddit/'"
   ]
  },
  {
   "cell_type": "code",
   "execution_count": 3,
   "metadata": {},
   "outputs": [],
   "source": [
    "dfs = []\n",
    "for i, file in enumerate(os.listdir(REDDIT_DATA)):\n",
    "    df = pd.read_csv(REDDIT_DATA+file)\n",
    "    df['Week'] = i\n",
    "    dfs.append(df)\n",
    "reddit_df = pd.concat(dfs)"
   ]
  },
  {
   "cell_type": "code",
   "execution_count": 4,
   "metadata": {},
   "outputs": [
    {
     "data": {
      "text/html": [
       "<div>\n",
       "<style scoped>\n",
       "    .dataframe tbody tr th:only-of-type {\n",
       "        vertical-align: middle;\n",
       "    }\n",
       "\n",
       "    .dataframe tbody tr th {\n",
       "        vertical-align: top;\n",
       "    }\n",
       "\n",
       "    .dataframe thead th {\n",
       "        text-align: right;\n",
       "    }\n",
       "</style>\n",
       "<table border=\"1\" class=\"dataframe\">\n",
       "  <thead>\n",
       "    <tr style=\"text-align: right;\">\n",
       "      <th></th>\n",
       "      <th>all_awardings</th>\n",
       "      <th>allow_live_comments</th>\n",
       "      <th>author</th>\n",
       "      <th>author_flair_css_class</th>\n",
       "      <th>author_flair_richtext</th>\n",
       "      <th>author_flair_text</th>\n",
       "      <th>author_flair_type</th>\n",
       "      <th>author_fullname</th>\n",
       "      <th>author_patreon_flair</th>\n",
       "      <th>author_premium</th>\n",
       "      <th>...</th>\n",
       "      <th>media_embed</th>\n",
       "      <th>secure_media</th>\n",
       "      <th>secure_media_embed</th>\n",
       "      <th>author_cakeday</th>\n",
       "      <th>author_flair_template_id</th>\n",
       "      <th>Week</th>\n",
       "      <th>distinguished</th>\n",
       "      <th>url_overridden_by_dest</th>\n",
       "      <th>gilded</th>\n",
       "      <th>poll_data</th>\n",
       "    </tr>\n",
       "  </thead>\n",
       "  <tbody>\n",
       "    <tr>\n",
       "      <th>0</th>\n",
       "      <td>[]</td>\n",
       "      <td>False</td>\n",
       "      <td>Machinexa2</td>\n",
       "      <td>NaN</td>\n",
       "      <td>[]</td>\n",
       "      <td>NaN</td>\n",
       "      <td>text</td>\n",
       "      <td>t2_5ywol7ol</td>\n",
       "      <td>False</td>\n",
       "      <td>False</td>\n",
       "      <td>...</td>\n",
       "      <td>NaN</td>\n",
       "      <td>NaN</td>\n",
       "      <td>NaN</td>\n",
       "      <td>NaN</td>\n",
       "      <td>NaN</td>\n",
       "      <td>0</td>\n",
       "      <td>NaN</td>\n",
       "      <td>NaN</td>\n",
       "      <td>NaN</td>\n",
       "      <td>NaN</td>\n",
       "    </tr>\n",
       "    <tr>\n",
       "      <th>1</th>\n",
       "      <td>[]</td>\n",
       "      <td>False</td>\n",
       "      <td>ForthName</td>\n",
       "      <td>NaN</td>\n",
       "      <td>[]</td>\n",
       "      <td>NaN</td>\n",
       "      <td>text</td>\n",
       "      <td>t2_rba4mai</td>\n",
       "      <td>False</td>\n",
       "      <td>False</td>\n",
       "      <td>...</td>\n",
       "      <td>NaN</td>\n",
       "      <td>NaN</td>\n",
       "      <td>NaN</td>\n",
       "      <td>NaN</td>\n",
       "      <td>NaN</td>\n",
       "      <td>0</td>\n",
       "      <td>NaN</td>\n",
       "      <td>NaN</td>\n",
       "      <td>NaN</td>\n",
       "      <td>NaN</td>\n",
       "    </tr>\n",
       "    <tr>\n",
       "      <th>2</th>\n",
       "      <td>[]</td>\n",
       "      <td>False</td>\n",
       "      <td>oihavequestions</td>\n",
       "      <td>NaN</td>\n",
       "      <td>[]</td>\n",
       "      <td>NaN</td>\n",
       "      <td>text</td>\n",
       "      <td>t2_70alxtbe</td>\n",
       "      <td>False</td>\n",
       "      <td>False</td>\n",
       "      <td>...</td>\n",
       "      <td>NaN</td>\n",
       "      <td>NaN</td>\n",
       "      <td>NaN</td>\n",
       "      <td>NaN</td>\n",
       "      <td>NaN</td>\n",
       "      <td>0</td>\n",
       "      <td>NaN</td>\n",
       "      <td>NaN</td>\n",
       "      <td>NaN</td>\n",
       "      <td>NaN</td>\n",
       "    </tr>\n",
       "    <tr>\n",
       "      <th>3</th>\n",
       "      <td>[]</td>\n",
       "      <td>False</td>\n",
       "      <td>xluzix</td>\n",
       "      <td>NaN</td>\n",
       "      <td>[]</td>\n",
       "      <td>NaN</td>\n",
       "      <td>text</td>\n",
       "      <td>t2_1f7si46i</td>\n",
       "      <td>False</td>\n",
       "      <td>False</td>\n",
       "      <td>...</td>\n",
       "      <td>NaN</td>\n",
       "      <td>NaN</td>\n",
       "      <td>NaN</td>\n",
       "      <td>NaN</td>\n",
       "      <td>NaN</td>\n",
       "      <td>0</td>\n",
       "      <td>NaN</td>\n",
       "      <td>NaN</td>\n",
       "      <td>NaN</td>\n",
       "      <td>NaN</td>\n",
       "    </tr>\n",
       "    <tr>\n",
       "      <th>4</th>\n",
       "      <td>[]</td>\n",
       "      <td>False</td>\n",
       "      <td>xxxPeniBanini</td>\n",
       "      <td>NaN</td>\n",
       "      <td>[]</td>\n",
       "      <td>NaN</td>\n",
       "      <td>text</td>\n",
       "      <td>t2_6p0oqyzl</td>\n",
       "      <td>False</td>\n",
       "      <td>False</td>\n",
       "      <td>...</td>\n",
       "      <td>NaN</td>\n",
       "      <td>NaN</td>\n",
       "      <td>NaN</td>\n",
       "      <td>NaN</td>\n",
       "      <td>NaN</td>\n",
       "      <td>0</td>\n",
       "      <td>NaN</td>\n",
       "      <td>NaN</td>\n",
       "      <td>NaN</td>\n",
       "      <td>NaN</td>\n",
       "    </tr>\n",
       "  </tbody>\n",
       "</table>\n",
       "<p>5 rows × 84 columns</p>\n",
       "</div>"
      ],
      "text/plain": [
       "  all_awardings  allow_live_comments           author  author_flair_css_class  \\\n",
       "0            []                False       Machinexa2                     NaN   \n",
       "1            []                False        ForthName                     NaN   \n",
       "2            []                False  oihavequestions                     NaN   \n",
       "3            []                False           xluzix                     NaN   \n",
       "4            []                False    xxxPeniBanini                     NaN   \n",
       "\n",
       "  author_flair_richtext author_flair_text author_flair_type author_fullname  \\\n",
       "0                    []               NaN              text     t2_5ywol7ol   \n",
       "1                    []               NaN              text      t2_rba4mai   \n",
       "2                    []               NaN              text     t2_70alxtbe   \n",
       "3                    []               NaN              text     t2_1f7si46i   \n",
       "4                    []               NaN              text     t2_6p0oqyzl   \n",
       "\n",
       "  author_patreon_flair author_premium  ... media_embed  secure_media  \\\n",
       "0                False          False  ...         NaN           NaN   \n",
       "1                False          False  ...         NaN           NaN   \n",
       "2                False          False  ...         NaN           NaN   \n",
       "3                False          False  ...         NaN           NaN   \n",
       "4                False          False  ...         NaN           NaN   \n",
       "\n",
       "   secure_media_embed  author_cakeday author_flair_template_id Week  \\\n",
       "0                 NaN             NaN                      NaN    0   \n",
       "1                 NaN             NaN                      NaN    0   \n",
       "2                 NaN             NaN                      NaN    0   \n",
       "3                 NaN             NaN                      NaN    0   \n",
       "4                 NaN             NaN                      NaN    0   \n",
       "\n",
       "  distinguished url_overridden_by_dest  gilded  poll_data  \n",
       "0           NaN                    NaN     NaN        NaN  \n",
       "1           NaN                    NaN     NaN        NaN  \n",
       "2           NaN                    NaN     NaN        NaN  \n",
       "3           NaN                    NaN     NaN        NaN  \n",
       "4           NaN                    NaN     NaN        NaN  \n",
       "\n",
       "[5 rows x 84 columns]"
      ]
     },
     "execution_count": 4,
     "metadata": {},
     "output_type": "execute_result"
    }
   ],
   "source": [
    "reddit_df.head()"
   ]
  },
  {
   "cell_type": "code",
   "execution_count": 5,
   "metadata": {},
   "outputs": [
    {
     "data": {
      "text/plain": [
       "(17355, 84)"
      ]
     },
     "execution_count": 5,
     "metadata": {},
     "output_type": "execute_result"
    }
   ],
   "source": [
    "reddit_df.shape"
   ]
  },
  {
   "cell_type": "code",
   "execution_count": 29,
   "metadata": {},
   "outputs": [
    {
     "name": "stdout",
     "output_type": "stream",
     "text": [
      "0 all_awardings []\n",
      "0 allow_live_comments False\n",
      "0 author Machinexa2\n",
      "17345 author_flair_css_class 3.0\n",
      "1209 author_flair_richtext []\n",
      "17331 author_flair_text Overlord\n",
      "1209 author_flair_type text\n",
      "1209 author_fullname t2_5ywol7ol\n",
      "1209 author_patreon_flair False\n",
      "1209 author_premium False\n",
      "0 awarders []\n",
      "0 can_mod_post False\n",
      "0 contest_mode False\n",
      "0 created_utc 1592809171\n",
      "4 domain self.Drugs\n",
      "0 full_link https://www.reddit.com/r/Drugs/comments/hdn9ur/cannabis_betelareca_nut_bacopa_monnieri_awesome/\n",
      "0 gildings {}\n",
      "0 id hdn9ur\n",
      "0 is_crosspostable True\n",
      "0 is_meta False\n",
      "0 is_original_content False\n",
      "0 is_reddit_media_domain False\n",
      "0 is_robot_indexable True\n",
      "0 is_self True\n",
      "0 is_video False\n",
      "10322 link_flair_background_color #ffffff\n",
      "0 link_flair_richtext [{'e': 'text', 't': 'I '}, {'a': ':love:', 'e': 'emoji', 'u': 'https://emoji.redditmedia.com/g4dzwm8dnvm11_t5_2qh7l/love'}, {'e': 'text', 't': ' Drugs'}]\n",
      "10322 link_flair_template_id e3e60fc2-9638-11e8-b910-0e8093d70bd0\n",
      "8893 link_flair_text I :love: Drugs\n",
      "0 link_flair_text_color dark\n",
      "0 link_flair_type richtext\n",
      "0 locked False\n",
      "0 media_only False\n",
      "0 no_follow True\n",
      "0 num_comments 0\n",
      "0 num_crossposts 0\n",
      "0 over_18 False\n",
      "192 parent_whitelist_status no_ads\n",
      "0 permalink /r/Drugs/comments/hdn9ur/cannabis_betelareca_nut_bacopa_monnieri_awesome/\n",
      "0 pinned False\n",
      "192 pwls 0.0\n",
      "0 retrieved_on 1592809172\n",
      "0 score 1\n",
      "1291 selftext I have stopped use of edibles for more than 2 months due to corona. However the shop was open yesterday so I bought a edible. I swallowed the big black ugly tasting shitting fucking shit. I couldnt eat it alone as it has worst taste ever. However I ate it with chywanprash. I didn't feel much upto slight less than  two hours so I thought it was of bad quality. I went to eat dinner and my appetite was slightly increased. Then suddenly when I completed my eating OH GOD. It hit me, as I was watching, I first smiled and smiled. Soon my smile changed into uncontrollable laughter and oh got. For sometime I was laughing and laughing. When the effect was in peak, I chewed about 2 betel nuts. It was so stimulating that I was feeling sleepy and at the same time quite energized. This was max peak time so I drank 30ml of Bacopa Monnieri to increase its effect. Then I started to dance. I kept on dancing and dancing weirdly moving my head here and there. My parents saw me and I told them I was exercising. Oh god they didn't knew. Later, I chewed more nuts and music was AWESOME. This was the best feeling of my life. As it was first time I tried cannabis after so long I was feeling extremely awesome. Bacopa is great drug enhancer and so is betel nut\n",
      "0 send_replies True\n",
      "0 spoiler False\n",
      "0 stickied False\n",
      "0 subreddit Drugs\n",
      "0 subreddit_id t5_2qh7l\n",
      "0 subreddit_subscribers 688106\n",
      "0 subreddit_type public\n",
      "0 suggested_sort confidence\n",
      "0 thumbnail self\n",
      "0 title Cannabis + Betel/Areca nut + Bacopa Monnieri = AWESOME\n",
      "0 total_awards_received 0\n",
      "0 treatment_tags []\n",
      "0 upvote_ratio 1.0\n",
      "0 url https://www.reddit.com/r/Drugs/comments/hdn9ur/cannabis_betelareca_nut_bacopa_monnieri_awesome/\n",
      "192 whitelist_status no_ads\n",
      "192 wls 0.0\n",
      "0 created 1592837971.0\n",
      "9839 link_flair_css_class Stimulants\n",
      "17109 crosspost_parent t3_hdmygj\n",
      "17109 crosspost_parent_list [{'all_awardings': [], 'allow_live_comments': False, 'approved_at_utc': None, 'approved_by': None, 'archived': False, 'author': 'exoeso22', 'author_flair_background_color': None, 'author_flair_css_class': None, 'author_flair_richtext': [], 'author_flair_template_id': None, 'author_flair_text': None, 'author_flair_text_color': None, 'author_flair_type': 'text', 'author_fullname': 't2_3dhff1cf', 'author_patreon_flair': False, 'author_premium': False, 'awarders': [], 'banned_at_utc': None, 'banned_by': None, 'can_gild': True, 'can_mod_post': False, 'category': None, 'clicked': False, 'content_categories': None, 'contest_mode': False, 'created': 1592836499.0, 'created_utc': 1592807699.0, 'discussion_type': None, 'distinguished': None, 'domain': 'self.shrooms', 'downs': 0, 'edited': 1592807996.0, 'gilded': 0, 'gildings': {}, 'hidden': False, 'hide_score': True, 'id': 'hdmygj', 'is_crosspostable': True, 'is_meta': False, 'is_original_content': False, 'is_reddit_media_domain': False, 'is_robot_indexable': True, 'is_self': True, 'is_video': False, 'likes': None, 'link_flair_background_color': '', 'link_flair_css_class': None, 'link_flair_richtext': [], 'link_flair_text': None, 'link_flair_text_color': 'dark', 'link_flair_type': 'text', 'locked': False, 'media': None, 'media_embed': {}, 'media_only': False, 'mod_note': None, 'mod_reason_by': None, 'mod_reason_title': None, 'mod_reports': [], 'name': 't3_hdmygj', 'no_follow': True, 'num_comments': 0, 'num_crossposts': 1, 'num_reports': None, 'over_18': False, 'parent_whitelist_status': 'no_ads', 'permalink': '/r/shrooms/comments/hdmygj/grandmas_first_trip_tomorrow_25gs_advice_wanted/', 'pinned': False, 'pwls': 0, 'quarantine': False, 'removal_reason': None, 'removed_by': None, 'removed_by_category': None, 'report_reasons': None, 'saved': False, 'score': 1, 'secure_media': None, 'secure_media_embed': {}, 'selftext': \"I came across a good bit of mushrooms, and my grandmother who is 61 and is very interested in them. I've given her 0.5g's, then 1g just to get her a bit acquainted to the tryptamine headspace. She's now very interested in taking a larger dose to work through some issues. She's gone through so much in her life, from finding her daughter dead (my mother) to a pain pill overdose, being abused by her first husband at 16. Like he literally beat and stabbed her, suffocated her, and so much more heinous things. Just a life full of pain, I could go on forever about her traumas. But we talked a lot and cried a lot and she asked me if she could take a bigger dose of mushrooms, and of course I agreed. I believe it could help her a lot, along with me nagging her to call and make an appointment with a psychiatrist, which will hopefully happen later this morning. Should I wait 'till shes seen by the psychiatrist before I give her the mushrooms, or should I just give them to her tomorrow as we have planned now and have her work through her issues before ever seeing the psychiatrist.\\n\\nIf I do go through with it, should it be 2.5gs or should I up it to 3.5g to really get her in a space to face her traumas. We have plenty of benzos around since she's prescribed Ativan, so if anything goes wrong I can always help her calm down.\\n\\nAnyways, should I give her 2.5g's or 3.5g's, and should I wait till she has seen the psychiatrist before I give her the mushrooms?\\n\\nAlso just wanted to add that I've given her a few half tabs of acid before, and she had an experience with MDMA with my mother before she passed and she says she enjoyed it a lot. So I think she might be ready for this sorta thing. Anyways this is like useless info, but thanks to anyone who reads and gives suggestions.\", 'selftext_html': '&lt;!-- SC_OFF --&gt;&lt;div class=\"md\"&gt;&lt;p&gt;I came across a good bit of mushrooms, and my grandmother who is 61 and is very interested in them. I&amp;#39;ve given her 0.5g&amp;#39;s, then 1g just to get her a bit acquainted to the tryptamine headspace. She&amp;#39;s now very interested in taking a larger dose to work through some issues. She&amp;#39;s gone through so much in her life, from finding her daughter dead (my mother) to a pain pill overdose, being abused by her first husband at 16. Like he literally beat and stabbed her, suffocated her, and so much more heinous things. Just a life full of pain, I could go on forever about her traumas. But we talked a lot and cried a lot and she asked me if she could take a bigger dose of mushrooms, and of course I agreed. I believe it could help her a lot, along with me nagging her to call and make an appointment with a psychiatrist, which will hopefully happen later this morning. Should I wait &amp;#39;till shes seen by the psychiatrist before I give her the mushrooms, or should I just give them to her tomorrow as we have planned now and have her work through her issues before ever seeing the psychiatrist.&lt;/p&gt;\\n\\n&lt;p&gt;If I do go through with it, should it be 2.5gs or should I up it to 3.5g to really get her in a space to face her traumas. We have plenty of benzos around since she&amp;#39;s prescribed Ativan, so if anything goes wrong I can always help her calm down.&lt;/p&gt;\\n\\n&lt;p&gt;Anyways, should I give her 2.5g&amp;#39;s or 3.5g&amp;#39;s, and should I wait till she has seen the psychiatrist before I give her the mushrooms?&lt;/p&gt;\\n\\n&lt;p&gt;Also just wanted to add that I&amp;#39;ve given her a few half tabs of acid before, and she had an experience with MDMA with my mother before she passed and she says she enjoyed it a lot. So I think she might be ready for this sorta thing. Anyways this is like useless info, but thanks to anyone who reads and gives suggestions.&lt;/p&gt;\\n&lt;/div&gt;&lt;!-- SC_ON --&gt;', 'send_replies': True, 'spoiler': False, 'stickied': False, 'subreddit': 'shrooms', 'subreddit_id': 't5_2qszq', 'subreddit_name_prefixed': 'r/shrooms', 'subreddit_subscribers': 235076, 'subreddit_type': 'public', 'suggested_sort': None, 'thumbnail': 'self', 'thumbnail_height': None, 'thumbnail_width': None, 'title': \"Grandma's first trip tomorrow, 2.5gs, advice wanted\", 'top_awarded_type': None, 'total_awards_received': 0, 'treatment_tags': [], 'ups': 1, 'upvote_ratio': 1.0, 'url': 'https://www.reddit.com/r/shrooms/comments/hdmygj/grandmas_first_trip_tomorrow_25gs_advice_wanted/', 'user_reports': [], 'view_count': None, 'visited': False, 'whitelist_status': 'no_ads', 'wls': 0}]\n",
      "11989 removed_by_category moderator\n",
      "17341 author_flair_background_color transparent\n",
      "16122 author_flair_text_color dark\n",
      "16762 post_hint self\n",
      "16762 preview {'enabled': False, 'images': [{'id': 'UzSVwrDt8_6rKADv_Sd5NE-sEaLbFd4IrfW1vCqhw3o', 'resolutions': [{'height': 108, 'url': 'https://external-preview.redd.it/4OqV01sVRcOA2E1wjXrr9OvkBrLwklQiwMZzJxKAcuQ.jpg?width=108&amp;crop=smart&amp;auto=webp&amp;s=e2484592b016b661a02462b7d7a39cf3d1135255', 'width': 108}], 'source': {'height': 128, 'url': 'https://external-preview.redd.it/4OqV01sVRcOA2E1wjXrr9OvkBrLwklQiwMZzJxKAcuQ.jpg?auto=webp&amp;s=11572628f1206d1d1279e7e4751e1b981eec1ef7', 'width': 128}, 'variants': {}}]}\n",
      "16971 thumbnail_height 65.0\n",
      "16971 thumbnail_width 140.0\n",
      "16877 edited 1592785830.0\n",
      "16697 banned_by moderators\n",
      "17174 media {'oembed': {'author_name': 'Brain Switch', 'author_url': 'https://www.youtube.com/channel/UCGXdVTx69cXfgVeFfYWFPfg', 'height': 338, 'html': '&lt;iframe width=\"600\" height=\"338\" src=\"https://www.youtube.com/embed/frGLiO_0smY?feature=oembed&amp;enablejsapi=1\" frameborder=\"0\" allow=\"accelerometer; autoplay; encrypted-media; gyroscope; picture-in-picture\" allowfullscreen&gt;&lt;/iframe&gt;', 'provider_name': 'YouTube', 'provider_url': 'https://www.youtube.com/', 'thumbnail_height': 360, 'thumbnail_url': 'https://i.ytimg.com/vi/frGLiO_0smY/hqdefault.jpg', 'thumbnail_width': 480, 'title': 'Mad Cow: Ignorance is Bliss', 'type': 'video', 'version': '1.0', 'width': 600}, 'type': 'youtube.com'}\n",
      "17174 media_embed {'content': '&lt;iframe width=\"600\" height=\"338\" src=\"https://www.youtube.com/embed/frGLiO_0smY?feature=oembed&amp;enablejsapi=1\" frameborder=\"0\" allow=\"accelerometer; autoplay; encrypted-media; gyroscope; picture-in-picture\" allowfullscreen&gt;&lt;/iframe&gt;', 'height': 338, 'scrolling': False, 'width': 600}\n",
      "17174 secure_media {'oembed': {'author_name': 'Brain Switch', 'author_url': 'https://www.youtube.com/channel/UCGXdVTx69cXfgVeFfYWFPfg', 'height': 338, 'html': '&lt;iframe width=\"600\" height=\"338\" src=\"https://www.youtube.com/embed/frGLiO_0smY?feature=oembed&amp;enablejsapi=1\" frameborder=\"0\" allow=\"accelerometer; autoplay; encrypted-media; gyroscope; picture-in-picture\" allowfullscreen&gt;&lt;/iframe&gt;', 'provider_name': 'YouTube', 'provider_url': 'https://www.youtube.com/', 'thumbnail_height': 360, 'thumbnail_url': 'https://i.ytimg.com/vi/frGLiO_0smY/hqdefault.jpg', 'thumbnail_width': 480, 'title': 'Mad Cow: Ignorance is Bliss', 'type': 'video', 'version': '1.0', 'width': 600}, 'type': 'youtube.com'}\n",
      "17174 secure_media_embed {'content': '&lt;iframe width=\"600\" height=\"338\" src=\"https://www.youtube.com/embed/frGLiO_0smY?feature=oembed&amp;enablejsapi=1\" frameborder=\"0\" allow=\"accelerometer; autoplay; encrypted-media; gyroscope; picture-in-picture\" allowfullscreen&gt;&lt;/iframe&gt;', 'height': 338, 'media_domain_url': 'https://www.redditmedia.com/mediaembed/hdhah2', 'scrolling': False, 'width': 600}\n",
      "17316 author_cakeday True\n",
      "17341 author_flair_template_id aa3f0ce6-f746-11e8-b6c6-0ec57780f0b4\n",
      "0 Week 0\n",
      "17348 distinguished moderator\n",
      "16914 url_overridden_by_dest https://www.youtube.com/watch?v=0BNejY1e9ik&amp;feature=share\n",
      "17352 gilded 1.0\n",
      "17354 poll_data {'options': [{'id': '2128385', 'text': 'Fuck yes!'}, {'id': '2128386', 'text': 'Fuck no!'}, {'id': '2128387', 'text': 'Wow!?  Fuck you!'}, {'id': '2128388', 'text': 'No, because drugs are also a woman’s best friend.'}, {'id': '2128389', 'text': 'I won’t say. This question hits way too close for comfort.'}, {'id': '2128390', 'text': 'No! Weed is not a drug.'}], 'total_vote_count': 0, 'user_selection': None, 'voting_end_timestamp': 1596202713971}\n"
     ]
    }
   ],
   "source": [
    "# Print number of na's and example of value\n",
    "for col in reddit_df.columns:\n",
    "    print(reddit_df[col].isna().sum(), col, reddit_df[col][~reddit_df[col].isna()].iloc[0])"
   ]
  },
  {
   "cell_type": "code",
   "execution_count": 55,
   "metadata": {},
   "outputs": [],
   "source": [
    "keep_cols = ['author', 'link_flair_text', 'id', 'num_comments', 'num_crossposts', 'score', 'selftext', 'title', \n",
    "             'total_awards_received', 'upvote_ratio', 'Week']"
   ]
  },
  {
   "cell_type": "code",
   "execution_count": 56,
   "metadata": {},
   "outputs": [],
   "source": [
    "r_df = reddit_df[keep_cols].copy()"
   ]
  },
  {
   "cell_type": "code",
   "execution_count": 57,
   "metadata": {},
   "outputs": [
    {
     "data": {
      "text/plain": [
       "author                      0\n",
       "link_flair_text          8893\n",
       "id                          0\n",
       "num_comments                0\n",
       "num_crossposts              0\n",
       "score                       0\n",
       "selftext                 1291\n",
       "title                       0\n",
       "total_awards_received       0\n",
       "upvote_ratio                0\n",
       "Week                        0\n",
       "dtype: int64"
      ]
     },
     "execution_count": 57,
     "metadata": {},
     "output_type": "execute_result"
    }
   ],
   "source": [
    "r_df.isna().sum()"
   ]
  },
  {
   "cell_type": "code",
   "execution_count": 58,
   "metadata": {},
   "outputs": [],
   "source": [
    "clean_df = r_df[~r_df['selftext'].isna()]\n",
    "clean_df = clean_df[clean_df['selftext'] != '[removed]']\n",
    "clean_df = clean_df[clean_df['selftext'] != '[deleted]']"
   ]
  },
  {
   "cell_type": "code",
   "execution_count": 59,
   "metadata": {},
   "outputs": [
    {
     "data": {
      "text/plain": [
       "(11589, 11)"
      ]
     },
     "execution_count": 59,
     "metadata": {},
     "output_type": "execute_result"
    }
   ],
   "source": [
    "clean_df.shape"
   ]
  },
  {
   "cell_type": "code",
   "execution_count": 60,
   "metadata": {},
   "outputs": [],
   "source": [
    "clean_df.to_csv('./data/cleaned_files/reddit_clean.csv', index=False)"
   ]
  }
 ],
 "metadata": {
  "kernelspec": {
   "display_name": "DSE203",
   "language": "python",
   "name": "dse203"
  },
  "language_info": {
   "codemirror_mode": {
    "name": "ipython",
    "version": 3
   },
   "file_extension": ".py",
   "mimetype": "text/x-python",
   "name": "python",
   "nbconvert_exporter": "python",
   "pygments_lexer": "ipython3",
   "version": "3.7.9"
  },
  "toc": {
   "base_numbering": 1,
   "nav_menu": {},
   "number_sections": true,
   "sideBar": true,
   "skip_h1_title": false,
   "title_cell": "Table of Contents",
   "title_sidebar": "Contents",
   "toc_cell": false,
   "toc_position": {},
   "toc_section_display": true,
   "toc_window_display": false
  }
 },
 "nbformat": 4,
 "nbformat_minor": 4
}
