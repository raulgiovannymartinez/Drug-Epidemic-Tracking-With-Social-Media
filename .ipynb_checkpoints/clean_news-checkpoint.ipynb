{
 "cells": [
  {
   "cell_type": "code",
   "execution_count": 1,
   "metadata": {},
   "outputs": [],
   "source": [
    "import numpy as np\n",
    "import pandas as pd"
   ]
  },
  {
   "cell_type": "code",
   "execution_count": 2,
   "metadata": {},
   "outputs": [],
   "source": [
    "NEWS = './data/usnewspaper-Jun-Aug.csv'"
   ]
  },
  {
   "cell_type": "code",
   "execution_count": 27,
   "metadata": {},
   "outputs": [],
   "source": [
    "df = pd.read_csv(NEWS)"
   ]
  },
  {
   "cell_type": "code",
   "execution_count": 28,
   "metadata": {},
   "outputs": [
    {
     "data": {
      "text/html": [
       "<div>\n",
       "<style scoped>\n",
       "    .dataframe tbody tr th:only-of-type {\n",
       "        vertical-align: middle;\n",
       "    }\n",
       "\n",
       "    .dataframe tbody tr th {\n",
       "        vertical-align: top;\n",
       "    }\n",
       "\n",
       "    .dataframe thead th {\n",
       "        text-align: right;\n",
       "    }\n",
       "</style>\n",
       "<table border=\"1\" class=\"dataframe\">\n",
       "  <thead>\n",
       "    <tr style=\"text-align: right;\">\n",
       "      <th></th>\n",
       "      <th>publishdate</th>\n",
       "      <th>src</th>\n",
       "      <th>title</th>\n",
       "      <th>news</th>\n",
       "    </tr>\n",
       "  </thead>\n",
       "  <tbody>\n",
       "    <tr>\n",
       "      <th>0</th>\n",
       "      <td>2020-06-01</td>\n",
       "      <td>https://www.prnewswire.com/news-releases/</td>\n",
       "      <td>A Natural Partnership: PopSockets &amp; Burt`s Bee...</td>\n",
       "      <td>PopGrip Lips x Burt`s Bees will provide consum...</td>\n",
       "    </tr>\n",
       "    <tr>\n",
       "      <th>1</th>\n",
       "      <td>2020-06-01</td>\n",
       "      <td>http://www.pionline.com</td>\n",
       "      <td>Continued market volatility contributes to 27....</td>\n",
       "      <td>NaN</td>\n",
       "    </tr>\n",
       "    <tr>\n",
       "      <th>2</th>\n",
       "      <td>2020-06-01</td>\n",
       "      <td>http://www.denverpost.com/</td>\n",
       "      <td>Comments on: Mass gatherings, erosion of trust...</td>\n",
       "      <td>NaN</td>\n",
       "    </tr>\n",
       "    <tr>\n",
       "      <th>3</th>\n",
       "      <td>2020-06-01</td>\n",
       "      <td>http://www.denverpost.com/</td>\n",
       "      <td>Comments on: How I got hooked on sports: My “W...</td>\n",
       "      <td>NaN</td>\n",
       "    </tr>\n",
       "    <tr>\n",
       "      <th>4</th>\n",
       "      <td>2020-06-01</td>\n",
       "      <td>https://www.post-gazette.com/</td>\n",
       "      <td>Gene Collier: Are we bored enough yet to bet o...</td>\n",
       "      <td>NaN</td>\n",
       "    </tr>\n",
       "  </tbody>\n",
       "</table>\n",
       "</div>"
      ],
      "text/plain": [
       "  publishdate                                        src  \\\n",
       "0  2020-06-01  https://www.prnewswire.com/news-releases/   \n",
       "1  2020-06-01                    http://www.pionline.com   \n",
       "2  2020-06-01                 http://www.denverpost.com/   \n",
       "3  2020-06-01                 http://www.denverpost.com/   \n",
       "4  2020-06-01              https://www.post-gazette.com/   \n",
       "\n",
       "                                               title  \\\n",
       "0  A Natural Partnership: PopSockets & Burt`s Bee...   \n",
       "1  Continued market volatility contributes to 27....   \n",
       "2  Comments on: Mass gatherings, erosion of trust...   \n",
       "3  Comments on: How I got hooked on sports: My “W...   \n",
       "4  Gene Collier: Are we bored enough yet to bet o...   \n",
       "\n",
       "                                                news  \n",
       "0  PopGrip Lips x Burt`s Bees will provide consum...  \n",
       "1                                                NaN  \n",
       "2                                                NaN  \n",
       "3                                                NaN  \n",
       "4                                                NaN  "
      ]
     },
     "execution_count": 28,
     "metadata": {},
     "output_type": "execute_result"
    }
   ],
   "source": [
    "df.head()"
   ]
  },
  {
   "cell_type": "code",
   "execution_count": 30,
   "metadata": {},
   "outputs": [
    {
     "data": {
      "text/plain": [
       "publishdate    object\n",
       "src            object\n",
       "title          object\n",
       "news           object\n",
       "dtype: object"
      ]
     },
     "execution_count": 30,
     "metadata": {},
     "output_type": "execute_result"
    }
   ],
   "source": [
    "df.dtypes"
   ]
  },
  {
   "cell_type": "code",
   "execution_count": 32,
   "metadata": {},
   "outputs": [
    {
     "data": {
      "text/plain": [
       "(542607, 4)"
      ]
     },
     "execution_count": 32,
     "metadata": {},
     "output_type": "execute_result"
    }
   ],
   "source": [
    "df.shape"
   ]
  },
  {
   "cell_type": "code",
   "execution_count": 33,
   "metadata": {},
   "outputs": [],
   "source": [
    "df['publishdate'] = pd.to_datetime(df['publishdate'])"
   ]
  },
  {
   "cell_type": "code",
   "execution_count": 34,
   "metadata": {},
   "outputs": [
    {
     "data": {
      "text/plain": [
       "publishdate        0\n",
       "src                0\n",
       "title            833\n",
       "news           52953\n",
       "dtype: int64"
      ]
     },
     "execution_count": 34,
     "metadata": {},
     "output_type": "execute_result"
    }
   ],
   "source": [
    "df.isna().sum()"
   ]
  },
  {
   "cell_type": "code",
   "execution_count": 35,
   "metadata": {},
   "outputs": [
    {
     "data": {
      "text/plain": [
       "(489654, 4)"
      ]
     },
     "execution_count": 35,
     "metadata": {},
     "output_type": "execute_result"
    }
   ],
   "source": [
    "df_clean = df.dropna(subset=['news'], axis=0)\n",
    "df_clean.shape"
   ]
  },
  {
   "cell_type": "code",
   "execution_count": 36,
   "metadata": {},
   "outputs": [
    {
     "data": {
      "text/html": [
       "<div>\n",
       "<style scoped>\n",
       "    .dataframe tbody tr th:only-of-type {\n",
       "        vertical-align: middle;\n",
       "    }\n",
       "\n",
       "    .dataframe tbody tr th {\n",
       "        vertical-align: top;\n",
       "    }\n",
       "\n",
       "    .dataframe thead th {\n",
       "        text-align: right;\n",
       "    }\n",
       "</style>\n",
       "<table border=\"1\" class=\"dataframe\">\n",
       "  <thead>\n",
       "    <tr style=\"text-align: right;\">\n",
       "      <th></th>\n",
       "      <th>publishdate</th>\n",
       "      <th>src</th>\n",
       "      <th>title</th>\n",
       "      <th>news</th>\n",
       "    </tr>\n",
       "  </thead>\n",
       "  <tbody>\n",
       "    <tr>\n",
       "      <th>0</th>\n",
       "      <td>2020-06-01</td>\n",
       "      <td>https://www.prnewswire.com/news-releases/</td>\n",
       "      <td>A Natural Partnership: PopSockets &amp; Burt`s Bee...</td>\n",
       "      <td>PopGrip Lips x Burt`s Bees will provide consum...</td>\n",
       "    </tr>\n",
       "    <tr>\n",
       "      <th>23</th>\n",
       "      <td>2020-06-01</td>\n",
       "      <td>http://www.reuters.com/</td>\n",
       "      <td>Keep your distance: people queue for school an...</td>\n",
       "      <td>WARRINGTON, England (Reuters) - Thousands of p...</td>\n",
       "    </tr>\n",
       "    <tr>\n",
       "      <th>26</th>\n",
       "      <td>2020-06-01</td>\n",
       "      <td>http://www.aljazeera.com/</td>\n",
       "      <td>Mapping US cities where George Floyd protests ...</td>\n",
       "      <td>Demonstrations have erupted in dozens of US ci...</td>\n",
       "    </tr>\n",
       "    <tr>\n",
       "      <th>27</th>\n",
       "      <td>2020-06-01</td>\n",
       "      <td>https://www.dallasnews.com/</td>\n",
       "      <td>Enjoy the Dallas Museum of Art’s exploration o...</td>\n",
       "      <td>What does it mean for a house to be a home?\\n\\...</td>\n",
       "    </tr>\n",
       "    <tr>\n",
       "      <th>28</th>\n",
       "      <td>2020-06-01</td>\n",
       "      <td>https://www.dallasnews.com/</td>\n",
       "      <td>Target opens some Dallas stores as protesters ...</td>\n",
       "      <td>The protests that have spread around the count...</td>\n",
       "    </tr>\n",
       "    <tr>\n",
       "      <th>...</th>\n",
       "      <td>...</td>\n",
       "      <td>...</td>\n",
       "      <td>...</td>\n",
       "      <td>...</td>\n",
       "    </tr>\n",
       "    <tr>\n",
       "      <th>542602</th>\n",
       "      <td>2020-08-03</td>\n",
       "      <td>https://www.prnewswire.com/news-releases/</td>\n",
       "      <td>Lançamento do mercado do turismo gastronômico ...</td>\n",
       "      <td>Novo mercado on-line revoluciona o setor das e...</td>\n",
       "    </tr>\n",
       "    <tr>\n",
       "      <th>542603</th>\n",
       "      <td>2020-08-03</td>\n",
       "      <td>https://www.prnewswire.com/news-releases/</td>\n",
       "      <td>2021 Kia Seltos Named To Wards 10 Best User Ex...</td>\n",
       "      <td>Now in its fifth year, the Wards 10 Best UX co...</td>\n",
       "    </tr>\n",
       "    <tr>\n",
       "      <th>542604</th>\n",
       "      <td>2020-08-03</td>\n",
       "      <td>https://www.prnewswire.com/news-releases/</td>\n",
       "      <td>Georgia Power prepares for Tropical Storm Isaias</td>\n",
       "      <td>ATLANTA, Aug. 2, 2020 /PRNewswire/ -- As Tropi...</td>\n",
       "    </tr>\n",
       "    <tr>\n",
       "      <th>542605</th>\n",
       "      <td>2020-08-03</td>\n",
       "      <td>https://www.prnewswire.com/news-releases/</td>\n",
       "      <td>InventHelp Inventor Presents a Fencing Compone...</td>\n",
       "      <td>PITTSBURGH, Aug. 3, 2020 /PRNewswire/ -- An in...</td>\n",
       "    </tr>\n",
       "    <tr>\n",
       "      <th>542606</th>\n",
       "      <td>2020-08-03</td>\n",
       "      <td>https://www.prnewswire.com/news-releases/</td>\n",
       "      <td>Average New-Vehicle Prices Up 2% Year-Over-Yea...</td>\n",
       "      <td>IRVINE, Calif., Aug. 3, 2020 /PRNewswire/ -- T...</td>\n",
       "    </tr>\n",
       "  </tbody>\n",
       "</table>\n",
       "<p>325043 rows × 4 columns</p>\n",
       "</div>"
      ],
      "text/plain": [
       "       publishdate                                        src  \\\n",
       "0       2020-06-01  https://www.prnewswire.com/news-releases/   \n",
       "23      2020-06-01                    http://www.reuters.com/   \n",
       "26      2020-06-01                  http://www.aljazeera.com/   \n",
       "27      2020-06-01                https://www.dallasnews.com/   \n",
       "28      2020-06-01                https://www.dallasnews.com/   \n",
       "...            ...                                        ...   \n",
       "542602  2020-08-03  https://www.prnewswire.com/news-releases/   \n",
       "542603  2020-08-03  https://www.prnewswire.com/news-releases/   \n",
       "542604  2020-08-03  https://www.prnewswire.com/news-releases/   \n",
       "542605  2020-08-03  https://www.prnewswire.com/news-releases/   \n",
       "542606  2020-08-03  https://www.prnewswire.com/news-releases/   \n",
       "\n",
       "                                                    title  \\\n",
       "0       A Natural Partnership: PopSockets & Burt`s Bee...   \n",
       "23      Keep your distance: people queue for school an...   \n",
       "26      Mapping US cities where George Floyd protests ...   \n",
       "27      Enjoy the Dallas Museum of Art’s exploration o...   \n",
       "28      Target opens some Dallas stores as protesters ...   \n",
       "...                                                   ...   \n",
       "542602  Lançamento do mercado do turismo gastronômico ...   \n",
       "542603  2021 Kia Seltos Named To Wards 10 Best User Ex...   \n",
       "542604   Georgia Power prepares for Tropical Storm Isaias   \n",
       "542605  InventHelp Inventor Presents a Fencing Compone...   \n",
       "542606  Average New-Vehicle Prices Up 2% Year-Over-Yea...   \n",
       "\n",
       "                                                     news  \n",
       "0       PopGrip Lips x Burt`s Bees will provide consum...  \n",
       "23      WARRINGTON, England (Reuters) - Thousands of p...  \n",
       "26      Demonstrations have erupted in dozens of US ci...  \n",
       "27      What does it mean for a house to be a home?\\n\\...  \n",
       "28      The protests that have spread around the count...  \n",
       "...                                                   ...  \n",
       "542602  Novo mercado on-line revoluciona o setor das e...  \n",
       "542603  Now in its fifth year, the Wards 10 Best UX co...  \n",
       "542604  ATLANTA, Aug. 2, 2020 /PRNewswire/ -- As Tropi...  \n",
       "542605  PITTSBURGH, Aug. 3, 2020 /PRNewswire/ -- An in...  \n",
       "542606  IRVINE, Calif., Aug. 3, 2020 /PRNewswire/ -- T...  \n",
       "\n",
       "[325043 rows x 4 columns]"
      ]
     },
     "execution_count": 36,
     "metadata": {},
     "output_type": "execute_result"
    }
   ],
   "source": [
    "df_clean.drop_duplicates(subset=['news'])"
   ]
  },
  {
   "cell_type": "code",
   "execution_count": 37,
   "metadata": {},
   "outputs": [
    {
     "name": "stderr",
     "output_type": "stream",
     "text": [
      "/home/jwahl/anaconda3/envs/DSE203/lib/python3.7/site-packages/ipykernel_launcher.py:1: SettingWithCopyWarning: \n",
      "A value is trying to be set on a copy of a slice from a DataFrame.\n",
      "Try using .loc[row_indexer,col_indexer] = value instead\n",
      "\n",
      "See the caveats in the documentation: https://pandas.pydata.org/pandas-docs/stable/user_guide/indexing.html#returning-a-view-versus-a-copy\n",
      "  \"\"\"Entry point for launching an IPython kernel.\n",
      "/home/jwahl/anaconda3/envs/DSE203/lib/python3.7/site-packages/ipykernel_launcher.py:2: SettingWithCopyWarning: \n",
      "A value is trying to be set on a copy of a slice from a DataFrame.\n",
      "Try using .loc[row_indexer,col_indexer] = value instead\n",
      "\n",
      "See the caveats in the documentation: https://pandas.pydata.org/pandas-docs/stable/user_guide/indexing.html#returning-a-view-versus-a-copy\n",
      "  \n"
     ]
    }
   ],
   "source": [
    "df_clean['title'] = df_clean['title'].str.lower()\n",
    "df_clean['news'] = df_clean['news'].str.lower()"
   ]
  },
  {
   "cell_type": "code",
   "execution_count": 38,
   "metadata": {},
   "outputs": [],
   "source": [
    "df_clean.to_csv(NEWS.replace('.csv', '_cleaned.csv'), index=False)"
   ]
  },
  {
   "cell_type": "code",
   "execution_count": null,
   "metadata": {},
   "outputs": [],
   "source": []
  }
 ],
 "metadata": {
  "kernelspec": {
   "display_name": "DSE203",
   "language": "python",
   "name": "dse203"
  },
  "language_info": {
   "codemirror_mode": {
    "name": "ipython",
    "version": 3
   },
   "file_extension": ".py",
   "mimetype": "text/x-python",
   "name": "python",
   "nbconvert_exporter": "python",
   "pygments_lexer": "ipython3",
   "version": "3.7.9"
  },
  "toc": {
   "base_numbering": 1,
   "nav_menu": {},
   "number_sections": true,
   "sideBar": true,
   "skip_h1_title": false,
   "title_cell": "Table of Contents",
   "title_sidebar": "Contents",
   "toc_cell": false,
   "toc_position": {},
   "toc_section_display": true,
   "toc_window_display": false
  }
 },
 "nbformat": 4,
 "nbformat_minor": 4
}
