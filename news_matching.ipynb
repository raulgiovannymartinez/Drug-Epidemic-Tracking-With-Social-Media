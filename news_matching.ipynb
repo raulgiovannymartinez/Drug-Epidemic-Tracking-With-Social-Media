{
 "cells": [
  {
   "cell_type": "code",
   "execution_count": 1,
   "metadata": {},
   "outputs": [],
   "source": [
    "import numpy as np\n",
    "import pandas as pd\n",
    "import py_stringmatching as sm\n",
    "import py_stringsimjoin as sj\n",
    "import py_entitymatching as em\n",
    "\n",
    "from collections import defaultdict\n",
    "from collections import Counter\n",
    "from nltk.corpus import stopwords\n",
    "from nltk.corpus import brown"
   ]
  },
  {
   "cell_type": "markdown",
   "metadata": {},
   "source": [
    "# Drugs DF"
   ]
  },
  {
   "cell_type": "code",
   "execution_count": 2,
   "metadata": {},
   "outputs": [],
   "source": [
    "#DRUG_NAMES = './data/cleaned_files/drug_names_fda_VA_filled.csv'\n",
    "DRUG_NAMES = './data/cleaned_files/generic_names.xlsx'"
   ]
  },
  {
   "cell_type": "code",
   "execution_count": 3,
   "metadata": {},
   "outputs": [
    {
     "data": {
      "text/html": [
       "<div>\n",
       "<style scoped>\n",
       "    .dataframe tbody tr th:only-of-type {\n",
       "        vertical-align: middle;\n",
       "    }\n",
       "\n",
       "    .dataframe tbody tr th {\n",
       "        vertical-align: top;\n",
       "    }\n",
       "\n",
       "    .dataframe thead th {\n",
       "        text-align: right;\n",
       "    }\n",
       "</style>\n",
       "<table border=\"1\" class=\"dataframe\">\n",
       "  <thead>\n",
       "    <tr style=\"text-align: right;\">\n",
       "      <th></th>\n",
       "      <th>id</th>\n",
       "      <th>name</th>\n",
       "      <th>name_type</th>\n",
       "      <th>full_generic_name</th>\n",
       "      <th>category</th>\n",
       "      <th>fda_schedule</th>\n",
       "    </tr>\n",
       "  </thead>\n",
       "  <tbody>\n",
       "    <tr>\n",
       "      <th>0</th>\n",
       "      <td>0</td>\n",
       "      <td>fentanyl</td>\n",
       "      <td>generic_name</td>\n",
       "      <td>fentanyl</td>\n",
       "      <td>opioid analgesics</td>\n",
       "      <td>schedule ii</td>\n",
       "    </tr>\n",
       "    <tr>\n",
       "      <th>1</th>\n",
       "      <td>1</td>\n",
       "      <td>coca</td>\n",
       "      <td>generic_name</td>\n",
       "      <td>coca</td>\n",
       "      <td>opioid analgesics</td>\n",
       "      <td>schedule ii</td>\n",
       "    </tr>\n",
       "    <tr>\n",
       "      <th>2</th>\n",
       "      <td>2</td>\n",
       "      <td>laudanum</td>\n",
       "      <td>generic_name</td>\n",
       "      <td>laudanum</td>\n",
       "      <td>opioid analgesics</td>\n",
       "      <td>schedule ii</td>\n",
       "    </tr>\n",
       "    <tr>\n",
       "      <th>3</th>\n",
       "      <td>3</td>\n",
       "      <td>sodium thiopental</td>\n",
       "      <td>generic_name</td>\n",
       "      <td>sodium thiopental</td>\n",
       "      <td>opioid analgesics</td>\n",
       "      <td>schedule iii</td>\n",
       "    </tr>\n",
       "    <tr>\n",
       "      <th>4</th>\n",
       "      <td>4</td>\n",
       "      <td>cathine</td>\n",
       "      <td>generic_name</td>\n",
       "      <td>cathine</td>\n",
       "      <td>opioid analgesics</td>\n",
       "      <td>schedule iv</td>\n",
       "    </tr>\n",
       "    <tr>\n",
       "      <th>...</th>\n",
       "      <td>...</td>\n",
       "      <td>...</td>\n",
       "      <td>...</td>\n",
       "      <td>...</td>\n",
       "      <td>...</td>\n",
       "      <td>...</td>\n",
       "    </tr>\n",
       "    <tr>\n",
       "      <th>355</th>\n",
       "      <td>355</td>\n",
       "      <td>testosterone</td>\n",
       "      <td>generic_name</td>\n",
       "      <td>testosterone</td>\n",
       "      <td>hormones/synthetics/modifiers,other</td>\n",
       "      <td>schedule iii</td>\n",
       "    </tr>\n",
       "    <tr>\n",
       "      <th>356</th>\n",
       "      <td>356</td>\n",
       "      <td>hydromorphone</td>\n",
       "      <td>generic_name</td>\n",
       "      <td>hydromorphone</td>\n",
       "      <td>opioid analgesics</td>\n",
       "      <td>schedule ii</td>\n",
       "    </tr>\n",
       "    <tr>\n",
       "      <th>357</th>\n",
       "      <td>357</td>\n",
       "      <td>oxymorphone</td>\n",
       "      <td>generic_name</td>\n",
       "      <td>oxymorphone hydrochloride extended-release tablets</td>\n",
       "      <td>opioid analgesics</td>\n",
       "      <td>schedule ii</td>\n",
       "    </tr>\n",
       "    <tr>\n",
       "      <th>358</th>\n",
       "      <td>358</td>\n",
       "      <td>methadone</td>\n",
       "      <td>generic_name</td>\n",
       "      <td>methadone hydrochloride tablets</td>\n",
       "      <td>opioid analgesics</td>\n",
       "      <td>schedule ii</td>\n",
       "    </tr>\n",
       "    <tr>\n",
       "      <th>359</th>\n",
       "      <td>359</td>\n",
       "      <td>tapentadol</td>\n",
       "      <td>generic_name</td>\n",
       "      <td>tapentadol extended-release oral tablets</td>\n",
       "      <td>opioid analgesics</td>\n",
       "      <td>schedule ii</td>\n",
       "    </tr>\n",
       "  </tbody>\n",
       "</table>\n",
       "<p>360 rows × 6 columns</p>\n",
       "</div>"
      ],
      "text/plain": [
       "      id               name     name_type  \\\n",
       "0      0           fentanyl  generic_name   \n",
       "1      1               coca  generic_name   \n",
       "2      2           laudanum  generic_name   \n",
       "3      3  sodium thiopental  generic_name   \n",
       "4      4            cathine  generic_name   \n",
       "..   ...                ...           ...   \n",
       "355  355       testosterone  generic_name   \n",
       "356  356      hydromorphone  generic_name   \n",
       "357  357        oxymorphone  generic_name   \n",
       "358  358          methadone  generic_name   \n",
       "359  359         tapentadol  generic_name   \n",
       "\n",
       "                                      full_generic_name  \\\n",
       "0                                              fentanyl   \n",
       "1                                                  coca   \n",
       "2                                              laudanum   \n",
       "3                                     sodium thiopental   \n",
       "4                                               cathine   \n",
       "..                                                  ...   \n",
       "355                                        testosterone   \n",
       "356                                       hydromorphone   \n",
       "357  oxymorphone hydrochloride extended-release tablets   \n",
       "358                     methadone hydrochloride tablets   \n",
       "359            tapentadol extended-release oral tablets   \n",
       "\n",
       "                                category  fda_schedule  \n",
       "0                      opioid analgesics   schedule ii  \n",
       "1                      opioid analgesics   schedule ii  \n",
       "2                      opioid analgesics   schedule ii  \n",
       "3                      opioid analgesics  schedule iii  \n",
       "4                      opioid analgesics   schedule iv  \n",
       "..                                   ...           ...  \n",
       "355  hormones/synthetics/modifiers,other  schedule iii  \n",
       "356                    opioid analgesics   schedule ii  \n",
       "357                    opioid analgesics   schedule ii  \n",
       "358                    opioid analgesics   schedule ii  \n",
       "359                    opioid analgesics   schedule ii  \n",
       "\n",
       "[360 rows x 6 columns]"
      ]
     },
     "execution_count": 3,
     "metadata": {},
     "output_type": "execute_result"
    }
   ],
   "source": [
    "# Drugs DataFrame\n",
    "drugs_df = pd.read_excel(DRUG_NAMES)\n",
    "drugs_df"
   ]
  },
  {
   "cell_type": "code",
   "execution_count": 4,
   "metadata": {},
   "outputs": [],
   "source": [
    "#drugs_df['NAME'] = drugs_df['NAME'].str.lower()\n",
    "#drugs_df['GENERIC_NAME'] = drugs_df['GENERIC_NAME'].str.lower()"
   ]
  },
  {
   "cell_type": "code",
   "execution_count": 5,
   "metadata": {},
   "outputs": [
    {
     "data": {
      "text/html": [
       "<div>\n",
       "<style scoped>\n",
       "    .dataframe tbody tr th:only-of-type {\n",
       "        vertical-align: middle;\n",
       "    }\n",
       "\n",
       "    .dataframe tbody tr th {\n",
       "        vertical-align: top;\n",
       "    }\n",
       "\n",
       "    .dataframe thead th {\n",
       "        text-align: right;\n",
       "    }\n",
       "</style>\n",
       "<table border=\"1\" class=\"dataframe\">\n",
       "  <thead>\n",
       "    <tr style=\"text-align: right;\">\n",
       "      <th></th>\n",
       "      <th>id</th>\n",
       "      <th>name</th>\n",
       "      <th>name_type</th>\n",
       "      <th>full_generic_name</th>\n",
       "      <th>category</th>\n",
       "      <th>fda_schedule</th>\n",
       "    </tr>\n",
       "  </thead>\n",
       "  <tbody>\n",
       "    <tr>\n",
       "      <th>0</th>\n",
       "      <td>0</td>\n",
       "      <td>fentanyl</td>\n",
       "      <td>generic_name</td>\n",
       "      <td>fentanyl</td>\n",
       "      <td>opioid analgesics</td>\n",
       "      <td>schedule ii</td>\n",
       "    </tr>\n",
       "    <tr>\n",
       "      <th>1</th>\n",
       "      <td>1</td>\n",
       "      <td>coca</td>\n",
       "      <td>generic_name</td>\n",
       "      <td>coca</td>\n",
       "      <td>opioid analgesics</td>\n",
       "      <td>schedule ii</td>\n",
       "    </tr>\n",
       "    <tr>\n",
       "      <th>2</th>\n",
       "      <td>2</td>\n",
       "      <td>laudanum</td>\n",
       "      <td>generic_name</td>\n",
       "      <td>laudanum</td>\n",
       "      <td>opioid analgesics</td>\n",
       "      <td>schedule ii</td>\n",
       "    </tr>\n",
       "    <tr>\n",
       "      <th>3</th>\n",
       "      <td>3</td>\n",
       "      <td>sodium thiopental</td>\n",
       "      <td>generic_name</td>\n",
       "      <td>sodium thiopental</td>\n",
       "      <td>opioid analgesics</td>\n",
       "      <td>schedule iii</td>\n",
       "    </tr>\n",
       "    <tr>\n",
       "      <th>4</th>\n",
       "      <td>4</td>\n",
       "      <td>cathine</td>\n",
       "      <td>generic_name</td>\n",
       "      <td>cathine</td>\n",
       "      <td>opioid analgesics</td>\n",
       "      <td>schedule iv</td>\n",
       "    </tr>\n",
       "  </tbody>\n",
       "</table>\n",
       "</div>"
      ],
      "text/plain": [
       "   id               name     name_type  full_generic_name           category  \\\n",
       "0   0           fentanyl  generic_name           fentanyl  opioid analgesics   \n",
       "1   1               coca  generic_name               coca  opioid analgesics   \n",
       "2   2           laudanum  generic_name           laudanum  opioid analgesics   \n",
       "3   3  sodium thiopental  generic_name  sodium thiopental  opioid analgesics   \n",
       "4   4            cathine  generic_name            cathine  opioid analgesics   \n",
       "\n",
       "   fda_schedule  \n",
       "0   schedule ii  \n",
       "1   schedule ii  \n",
       "2   schedule ii  \n",
       "3  schedule iii  \n",
       "4   schedule iv  "
      ]
     },
     "execution_count": 5,
     "metadata": {},
     "output_type": "execute_result"
    }
   ],
   "source": [
    "#drugs_df = drugs_df.drop(['name'], axis=1).drop(drugs_df[drugs_df.NAME_TYPE != 'GENERIC_NAME'].index).reset_index(drop=True)\n",
    "drugs_df.head()"
   ]
  },
  {
   "cell_type": "code",
   "execution_count": 6,
   "metadata": {},
   "outputs": [],
   "source": [
    "#!head -n 2 $DRUG_NAMES"
   ]
  },
  {
   "cell_type": "code",
   "execution_count": 7,
   "metadata": {},
   "outputs": [
    {
     "data": {
      "text/plain": [
       "\"\\n# Alternative names\\nalt_names = defaultdict(set)\\nwith open(DRUG_NAMES, 'r') as f:\\n    header = True\\n    for line in f:\\n        if header:\\n            header = False\\n            continue\\n            \\n        line = line.lower().split(',')\\n        name = line[0]\\n        gen_name = line[1]\\n        \\n        alt_names[gen_name].add(name)\\n        \\nfor k, v in alt_names.items():\\n    alt_names[k] = ' '.join(v)\\n\""
      ]
     },
     "execution_count": 7,
     "metadata": {},
     "output_type": "execute_result"
    }
   ],
   "source": [
    "'''\n",
    "# Alternative names\n",
    "alt_names = defaultdict(set)\n",
    "with open(DRUG_NAMES, 'r') as f:\n",
    "    header = True\n",
    "    for line in f:\n",
    "        if header:\n",
    "            header = False\n",
    "            continue\n",
    "            \n",
    "        line = line.lower().split(',')\n",
    "        name = line[0]\n",
    "        gen_name = line[1]\n",
    "        \n",
    "        alt_names[gen_name].add(name)\n",
    "        \n",
    "for k, v in alt_names.items():\n",
    "    alt_names[k] = ' '.join(v)\n",
    "'''"
   ]
  },
  {
   "cell_type": "code",
   "execution_count": 8,
   "metadata": {},
   "outputs": [],
   "source": [
    "#drugs_df['ALTNAMES'] = drugs_df.apply(lambda x: alt_names[x['GENERIC_NAME']], axis=1)\n",
    "#drugs_df = drugs_df.rename(columns={'NAME_TYPE': 'NAMETYPE'})"
   ]
  },
  {
   "cell_type": "code",
   "execution_count": 9,
   "metadata": {},
   "outputs": [
    {
     "data": {
      "text/html": [
       "<div>\n",
       "<style scoped>\n",
       "    .dataframe tbody tr th:only-of-type {\n",
       "        vertical-align: middle;\n",
       "    }\n",
       "\n",
       "    .dataframe tbody tr th {\n",
       "        vertical-align: top;\n",
       "    }\n",
       "\n",
       "    .dataframe thead th {\n",
       "        text-align: right;\n",
       "    }\n",
       "</style>\n",
       "<table border=\"1\" class=\"dataframe\">\n",
       "  <thead>\n",
       "    <tr style=\"text-align: right;\">\n",
       "      <th></th>\n",
       "      <th>id</th>\n",
       "      <th>name</th>\n",
       "      <th>name_type</th>\n",
       "      <th>full_generic_name</th>\n",
       "      <th>category</th>\n",
       "      <th>fda_schedule</th>\n",
       "    </tr>\n",
       "  </thead>\n",
       "  <tbody>\n",
       "    <tr>\n",
       "      <th>0</th>\n",
       "      <td>0</td>\n",
       "      <td>fentanyl</td>\n",
       "      <td>generic_name</td>\n",
       "      <td>fentanyl</td>\n",
       "      <td>opioid analgesics</td>\n",
       "      <td>schedule ii</td>\n",
       "    </tr>\n",
       "    <tr>\n",
       "      <th>1</th>\n",
       "      <td>1</td>\n",
       "      <td>coca</td>\n",
       "      <td>generic_name</td>\n",
       "      <td>coca</td>\n",
       "      <td>opioid analgesics</td>\n",
       "      <td>schedule ii</td>\n",
       "    </tr>\n",
       "    <tr>\n",
       "      <th>2</th>\n",
       "      <td>2</td>\n",
       "      <td>laudanum</td>\n",
       "      <td>generic_name</td>\n",
       "      <td>laudanum</td>\n",
       "      <td>opioid analgesics</td>\n",
       "      <td>schedule ii</td>\n",
       "    </tr>\n",
       "    <tr>\n",
       "      <th>3</th>\n",
       "      <td>3</td>\n",
       "      <td>sodium thiopental</td>\n",
       "      <td>generic_name</td>\n",
       "      <td>sodium thiopental</td>\n",
       "      <td>opioid analgesics</td>\n",
       "      <td>schedule iii</td>\n",
       "    </tr>\n",
       "    <tr>\n",
       "      <th>4</th>\n",
       "      <td>4</td>\n",
       "      <td>cathine</td>\n",
       "      <td>generic_name</td>\n",
       "      <td>cathine</td>\n",
       "      <td>opioid analgesics</td>\n",
       "      <td>schedule iv</td>\n",
       "    </tr>\n",
       "  </tbody>\n",
       "</table>\n",
       "</div>"
      ],
      "text/plain": [
       "   id               name     name_type  full_generic_name           category  \\\n",
       "0   0           fentanyl  generic_name           fentanyl  opioid analgesics   \n",
       "1   1               coca  generic_name               coca  opioid analgesics   \n",
       "2   2           laudanum  generic_name           laudanum  opioid analgesics   \n",
       "3   3  sodium thiopental  generic_name  sodium thiopental  opioid analgesics   \n",
       "4   4            cathine  generic_name            cathine  opioid analgesics   \n",
       "\n",
       "   fda_schedule  \n",
       "0   schedule ii  \n",
       "1   schedule ii  \n",
       "2   schedule ii  \n",
       "3  schedule iii  \n",
       "4   schedule iv  "
      ]
     },
     "execution_count": 9,
     "metadata": {},
     "output_type": "execute_result"
    }
   ],
   "source": [
    "drugs_df.head()"
   ]
  },
  {
   "cell_type": "code",
   "execution_count": 10,
   "metadata": {},
   "outputs": [
    {
     "data": {
      "text/plain": [
       "(360, 6)"
      ]
     },
     "execution_count": 10,
     "metadata": {},
     "output_type": "execute_result"
    }
   ],
   "source": [
    "drugs_df.shape"
   ]
  },
  {
   "cell_type": "markdown",
   "metadata": {},
   "source": [
    "## Stop words and common words"
   ]
  },
  {
   "cell_type": "code",
   "execution_count": 11,
   "metadata": {},
   "outputs": [],
   "source": [
    "# Init tokenizer and nltk stopwords\n",
    "tok = sm.AlphanumericTokenizer(return_set=True)\n",
    "stop_words = set(stopwords.words('english')) "
   ]
  },
  {
   "cell_type": "code",
   "execution_count": 12,
   "metadata": {},
   "outputs": [],
   "source": [
    "# These overlap with some of the street names, removing\n",
    "stop_words.add('drug')\n",
    "stop_words.add('drugs')"
   ]
  },
  {
   "cell_type": "code",
   "execution_count": 13,
   "metadata": {},
   "outputs": [],
   "source": [
    "# Common English words from Brown corpus\n",
    "brown_counter = Counter()\n",
    "brown_corpus = [w.lower() for w in brown.words()]\n",
    "brown_words = [w for w in brown_corpus if w not in stop_words]\n",
    "brown_counter.update(brown_words)"
   ]
  },
  {
   "cell_type": "code",
   "execution_count": 14,
   "metadata": {},
   "outputs": [],
   "source": [
    "# Check to see which words are common\n",
    "remove_count = []\n",
    "for name in drugs_df['name'].unique():\n",
    "    if name in brown_counter and brown_counter[name] >= 15:\n",
    "        remove_count.append((name, brown_counter[name]))"
   ]
  },
  {
   "cell_type": "code",
   "execution_count": 15,
   "metadata": {},
   "outputs": [
    {
     "data": {
      "text/plain": [
       "[('opium', 16)]"
      ]
     },
     "execution_count": 15,
     "metadata": {},
     "output_type": "execute_result"
    }
   ],
   "source": [
    "sorted(remove_count, key = lambda x: x[1], reverse=True)"
   ]
  },
  {
   "cell_type": "code",
   "execution_count": 16,
   "metadata": {},
   "outputs": [],
   "source": [
    "# Remove common words and stop words\n",
    "# Keep opium\n",
    "remove = []\n",
    "for name in drugs_df['name'].unique():\n",
    "    if name == 'opium':\n",
    "        continue\n",
    "    if (name in brown_counter and brown_counter[name] >= 15) or (name in stop_words):\n",
    "        remove.append(name)"
   ]
  },
  {
   "cell_type": "code",
   "execution_count": 17,
   "metadata": {},
   "outputs": [],
   "source": [
    "drugs_df = drugs_df[~drugs_df['name'].isin(remove)].copy().reset_index(drop=True)"
   ]
  },
  {
   "cell_type": "code",
   "execution_count": 18,
   "metadata": {},
   "outputs": [
    {
     "data": {
      "text/plain": [
       "(360, 6)"
      ]
     },
     "execution_count": 18,
     "metadata": {},
     "output_type": "execute_result"
    }
   ],
   "source": [
    "drugs_df.shape"
   ]
  },
  {
   "cell_type": "markdown",
   "metadata": {},
   "source": [
    "# Process Reddit data"
   ]
  },
  {
   "cell_type": "code",
   "execution_count": 19,
   "metadata": {},
   "outputs": [],
   "source": [
    "REDDIT_DATA = './data/usnewspaper-Jun-Aug_en_cleaned_relevantNews_v2.csv'"
   ]
  },
  {
   "cell_type": "code",
   "execution_count": 20,
   "metadata": {},
   "outputs": [],
   "source": [
    "# reddit_df = pd.read_excel(REDDIT_DATA)\n",
    "reddit_df = pd.read_csv(REDDIT_DATA)"
   ]
  },
  {
   "cell_type": "code",
   "execution_count": 21,
   "metadata": {
    "scrolled": false
   },
   "outputs": [
    {
     "data": {
      "text/html": [
       "<div>\n",
       "<style scoped>\n",
       "    .dataframe tbody tr th:only-of-type {\n",
       "        vertical-align: middle;\n",
       "    }\n",
       "\n",
       "    .dataframe tbody tr th {\n",
       "        vertical-align: top;\n",
       "    }\n",
       "\n",
       "    .dataframe thead th {\n",
       "        text-align: right;\n",
       "    }\n",
       "</style>\n",
       "<table border=\"1\" class=\"dataframe\">\n",
       "  <thead>\n",
       "    <tr style=\"text-align: right;\">\n",
       "      <th></th>\n",
       "      <th>publishdate</th>\n",
       "      <th>src</th>\n",
       "      <th>title</th>\n",
       "      <th>news</th>\n",
       "      <th>src_name</th>\n",
       "    </tr>\n",
       "  </thead>\n",
       "  <tbody>\n",
       "    <tr>\n",
       "      <th>0</th>\n",
       "      <td>2020-06-01</td>\n",
       "      <td>https://www.prnewswire.com/news-releases/</td>\n",
       "      <td>a natural partnership: popsockets &amp; burt`s bees collaborate on a new product</td>\n",
       "      <td>popgrip lips x burt`s bees will provide consumers with a two-in-one product that features the cl...</td>\n",
       "      <td>prnewswire</td>\n",
       "    </tr>\n",
       "    <tr>\n",
       "      <th>1</th>\n",
       "      <td>2020-06-01</td>\n",
       "      <td>http://www.reuters.com/</td>\n",
       "      <td>keep your distance: people queue for school and ikea in england</td>\n",
       "      <td>warrington, england (reuters) - thousands of people across england queued up for school and ikea...</td>\n",
       "      <td>reuters</td>\n",
       "    </tr>\n",
       "    <tr>\n",
       "      <th>2</th>\n",
       "      <td>2020-06-01</td>\n",
       "      <td>http://www.aljazeera.com/</td>\n",
       "      <td>mapping us cities where george floyd protests have erupted</td>\n",
       "      <td>demonstrations have erupted in dozens of us cities after george floyd, an unarmed black man, die...</td>\n",
       "      <td>aljazeera</td>\n",
       "    </tr>\n",
       "    <tr>\n",
       "      <th>3</th>\n",
       "      <td>2020-06-01</td>\n",
       "      <td>https://www.dallasnews.com/</td>\n",
       "      <td>enjoy the dallas museum of art's exploration of home from the comfort of yours</td>\n",
       "      <td>what does it mean for a house to be a home? for one thing, it means that a structure built of in...</td>\n",
       "      <td>dallasnews</td>\n",
       "    </tr>\n",
       "    <tr>\n",
       "      <th>4</th>\n",
       "      <td>2020-06-01</td>\n",
       "      <td>https://www.dallasnews.com/</td>\n",
       "      <td>target opens some dallas stores as protesters move overnight, causing damage to west end and upt...</td>\n",
       "      <td>the protests that have spread around the country are closing stores at a time when retailers are...</td>\n",
       "      <td>dallasnews</td>\n",
       "    </tr>\n",
       "  </tbody>\n",
       "</table>\n",
       "</div>"
      ],
      "text/plain": [
       "  publishdate                                        src  \\\n",
       "0  2020-06-01  https://www.prnewswire.com/news-releases/   \n",
       "1  2020-06-01                    http://www.reuters.com/   \n",
       "2  2020-06-01                  http://www.aljazeera.com/   \n",
       "3  2020-06-01                https://www.dallasnews.com/   \n",
       "4  2020-06-01                https://www.dallasnews.com/   \n",
       "\n",
       "                                                                                                 title  \\\n",
       "0                         a natural partnership: popsockets & burt`s bees collaborate on a new product   \n",
       "1                                      keep your distance: people queue for school and ikea in england   \n",
       "2                                           mapping us cities where george floyd protests have erupted   \n",
       "3                       enjoy the dallas museum of art's exploration of home from the comfort of yours   \n",
       "4  target opens some dallas stores as protesters move overnight, causing damage to west end and upt...   \n",
       "\n",
       "                                                                                                  news  \\\n",
       "0  popgrip lips x burt`s bees will provide consumers with a two-in-one product that features the cl...   \n",
       "1  warrington, england (reuters) - thousands of people across england queued up for school and ikea...   \n",
       "2  demonstrations have erupted in dozens of us cities after george floyd, an unarmed black man, die...   \n",
       "3  what does it mean for a house to be a home? for one thing, it means that a structure built of in...   \n",
       "4  the protests that have spread around the country are closing stores at a time when retailers are...   \n",
       "\n",
       "     src_name  \n",
       "0  prnewswire  \n",
       "1     reuters  \n",
       "2   aljazeera  \n",
       "3  dallasnews  \n",
       "4  dallasnews  "
      ]
     },
     "execution_count": 21,
     "metadata": {},
     "output_type": "execute_result"
    }
   ],
   "source": [
    "reddit_df.head()"
   ]
  },
  {
   "cell_type": "code",
   "execution_count": 22,
   "metadata": {},
   "outputs": [],
   "source": [
    "reddit_df = reddit_df.rename(columns={'id': 'reddit_id'})"
   ]
  },
  {
   "cell_type": "code",
   "execution_count": 23,
   "metadata": {},
   "outputs": [
    {
     "data": {
      "text/plain": [
       "(293627, 5)"
      ]
     },
     "execution_count": 23,
     "metadata": {},
     "output_type": "execute_result"
    }
   ],
   "source": [
    "reddit_df.shape"
   ]
  },
  {
   "cell_type": "code",
   "execution_count": 24,
   "metadata": {},
   "outputs": [],
   "source": [
    "# Remove unpopular posts\n",
    "#reddit_df = reddit_df[reddit_df['score'] > 0].copy().reset_index(drop=True)\n",
    "#reddit_df.shape"
   ]
  },
  {
   "cell_type": "markdown",
   "metadata": {},
   "source": [
    "## Stop words"
   ]
  },
  {
   "cell_type": "code",
   "execution_count": 25,
   "metadata": {},
   "outputs": [],
   "source": [
    "def process_text(text, tok, stop_words, join=False):\n",
    "    text = text.strip().lower().replace('\\\\n\\\\n', ' ')\n",
    "    result = [w for w in tok.tokenize(text) if w not in stop_words]\n",
    "    if join:\n",
    "        result = ' '.join(result)\n",
    "    return result"
   ]
  },
  {
   "cell_type": "code",
   "execution_count": 26,
   "metadata": {},
   "outputs": [],
   "source": [
    "# Tokenize and remove stopwords from selftext and titles\n",
    "reddit_df['tokTitle'] = reddit_df.apply(lambda x: process_text(x['title'], tok, stop_words), axis=1)\n",
    "reddit_df['tokNews'] = reddit_df.apply(lambda x: process_text(x['news'], tok, stop_words), axis=1)"
   ]
  },
  {
   "cell_type": "code",
   "execution_count": 27,
   "metadata": {},
   "outputs": [
    {
     "data": {
      "text/plain": [
       "0         None\n",
       "1         None\n",
       "2         None\n",
       "3         None\n",
       "4         None\n",
       "          ... \n",
       "293622    None\n",
       "293623    None\n",
       "293624    None\n",
       "293625    None\n",
       "293626    None\n",
       "Name: tokNews, Length: 293627, dtype: object"
      ]
     },
     "execution_count": 27,
     "metadata": {},
     "output_type": "execute_result"
    }
   ],
   "source": [
    "# Just to check the frequency of words in reddit text\n",
    "reddit_counter = Counter()\n",
    "reddit_df['tokTitle'].apply(reddit_counter.update)\n",
    "reddit_df['tokNews'].apply(reddit_counter.update)\n",
    "#print(reddit_counter)"
   ]
  },
  {
   "cell_type": "code",
   "execution_count": 28,
   "metadata": {},
   "outputs": [],
   "source": [
    "# Join text\n",
    "reddit_df['tokTitle'] = reddit_df.apply(lambda x: process_text(x['title'], tok, stop_words, join=True), axis=1)\n",
    "reddit_df['tokNews'] = reddit_df.apply(lambda x: process_text(x['news'], tok, stop_words, join=True), axis=1)"
   ]
  },
  {
   "cell_type": "markdown",
   "metadata": {},
   "source": [
    "# Entity Matching - drugs_df"
   ]
  },
  {
   "cell_type": "markdown",
   "metadata": {},
   "source": [
    "name     name_type\tfull_generic_name\tcategory\tfda_schedule"
   ]
  },
  {
   "cell_type": "code",
   "execution_count": 29,
   "metadata": {},
   "outputs": [],
   "source": [
    "l_output_attrs = ['name', 'category', 'fda_schedule']\n",
    "r_output_attrs = ['tokTitle', 'tokNews']"
   ]
  },
  {
   "cell_type": "code",
   "execution_count": 30,
   "metadata": {},
   "outputs": [],
   "source": [
    "A = drugs_df\n",
    "B = reddit_df"
   ]
  },
  {
   "cell_type": "code",
   "execution_count": 31,
   "metadata": {},
   "outputs": [],
   "source": [
    "A['id'] = A.index\n",
    "B['id'] = B.index"
   ]
  },
  {
   "cell_type": "code",
   "execution_count": 32,
   "metadata": {},
   "outputs": [
    {
     "data": {
      "text/plain": [
       "True"
      ]
     },
     "execution_count": 32,
     "metadata": {},
     "output_type": "execute_result"
    }
   ],
   "source": [
    "em.set_key(A, 'id')\n",
    "em.set_key(B, 'id')"
   ]
  },
  {
   "cell_type": "code",
   "execution_count": 33,
   "metadata": {},
   "outputs": [],
   "source": [
    "#A['ALTNAMES'] = A['ALTNAMES'].astype(str)"
   ]
  },
  {
   "cell_type": "code",
   "execution_count": 34,
   "metadata": {},
   "outputs": [
    {
     "name": "stderr",
     "output_type": "stream",
     "text": [
      "C:\\Users\\rmartinez4\\Anaconda3\\envs\\py37\\lib\\site-packages\\py_entitymatching\\feature\\attributeutils.py:191: FutureWarning: The pandas.np module is deprecated and will be removed from pandas in a future version. Import numpy directly instead\n",
      "  if returned_type == bool or returned_type == pd.np.bool_:\n"
     ]
    }
   ],
   "source": [
    "atypes_A = em.get_attr_types(A)\n",
    "atypes_B = em.get_attr_types(B)"
   ]
  },
  {
   "cell_type": "code",
   "execution_count": 35,
   "metadata": {},
   "outputs": [
    {
     "data": {
      "text/plain": [
       "[('id', 'numeric'),\n",
       " ('name', 'str_bt_1w_5w'),\n",
       " ('name_type', 'str_eq_1w'),\n",
       " ('full_generic_name', 'str_bt_1w_5w'),\n",
       " ('category', 'str_bt_1w_5w'),\n",
       " ('fda_schedule', 'str_bt_1w_5w')]"
      ]
     },
     "execution_count": 35,
     "metadata": {},
     "output_type": "execute_result"
    }
   ],
   "source": [
    "[(col, atypes_A[col]) for col in A.columns]"
   ]
  },
  {
   "cell_type": "code",
   "execution_count": 36,
   "metadata": {},
   "outputs": [
    {
     "data": {
      "text/plain": [
       "[('publishdate', 'str_eq_1w'),\n",
       " ('src', 'str_eq_1w'),\n",
       " ('title', 'str_gt_10w'),\n",
       " ('news', 'str_gt_10w'),\n",
       " ('src_name', 'str_eq_1w'),\n",
       " ('tokTitle', 'str_bt_5w_10w'),\n",
       " ('tokNews', 'str_gt_10w'),\n",
       " ('id', 'numeric')]"
      ]
     },
     "execution_count": 36,
     "metadata": {},
     "output_type": "execute_result"
    }
   ],
   "source": [
    "[(col, atypes_B[col]) for col in B.columns]"
   ]
  },
  {
   "cell_type": "code",
   "execution_count": 37,
   "metadata": {},
   "outputs": [
    {
     "data": {
      "text/plain": [
       "[('id', 'id')]"
      ]
     },
     "execution_count": 37,
     "metadata": {},
     "output_type": "execute_result"
    }
   ],
   "source": [
    "em.get_attr_corres(A, B)['corres']"
   ]
  },
  {
   "cell_type": "code",
   "execution_count": 38,
   "metadata": {},
   "outputs": [],
   "source": [
    "atypes_A['name'] = atypes_B['tokNews']\n",
    "#atypes_A['GENERIC_NAME'] = atypes_B['tokNews']\n",
    "atypes_B['tokTitle'] = atypes_B['tokNews']"
   ]
  },
  {
   "cell_type": "code",
   "execution_count": 39,
   "metadata": {},
   "outputs": [],
   "source": [
    "block_c = em.get_attr_corres(A, B)\n",
    "block_c['corres'] = [('name', 'tokTitle'), ('name', 'tokNews')]"
   ]
  },
  {
   "cell_type": "code",
   "execution_count": 40,
   "metadata": {},
   "outputs": [
    {
     "data": {
      "text/plain": [
       "{'qgm_2': <function py_entitymatching.feature.tokenizers._make_tok_qgram.<locals>.tok_qgram>,\n",
       " 'qgm_3': <function py_entitymatching.feature.tokenizers._make_tok_qgram.<locals>.tok_qgram>,\n",
       " 'wspace': <function py_entitymatching.feature.tokenizers.tok_wspace>,\n",
       " 'alphabetic': <function py_entitymatching.feature.tokenizers.tok_alphabetic>,\n",
       " 'alphanumeric': <function py_entitymatching.feature.tokenizers.tok_alphanumeric>,\n",
       " 'dlm_dc0': <function py_entitymatching.feature.tokenizers._make_tok_delim.<locals>.tok_delim>}"
      ]
     },
     "execution_count": 40,
     "metadata": {},
     "output_type": "execute_result"
    }
   ],
   "source": [
    "toks = em.get_tokenizers_for_blocking()\n",
    "toks"
   ]
  },
  {
   "cell_type": "code",
   "execution_count": 41,
   "metadata": {},
   "outputs": [
    {
     "data": {
      "text/plain": [
       "{'affine': <function py_entitymatching.feature.simfunctions.affine>,\n",
       " 'hamming_dist': <function py_entitymatching.feature.simfunctions.hamming_dist>,\n",
       " 'hamming_sim': <function py_entitymatching.feature.simfunctions.hamming_sim>,\n",
       " 'lev_dist': <function py_entitymatching.feature.simfunctions.lev_dist>,\n",
       " 'lev_sim': <function py_entitymatching.feature.simfunctions.lev_sim>,\n",
       " 'jaro': <function py_entitymatching.feature.simfunctions.jaro>,\n",
       " 'jaro_winkler': <function py_entitymatching.feature.simfunctions.jaro_winkler>,\n",
       " 'needleman_wunsch': <function py_entitymatching.feature.simfunctions.needleman_wunsch>,\n",
       " 'smith_waterman': <function py_entitymatching.feature.simfunctions.smith_waterman>,\n",
       " 'overlap_coeff': <function py_entitymatching.feature.simfunctions.overlap_coeff>,\n",
       " 'jaccard': <function py_entitymatching.feature.simfunctions.jaccard>,\n",
       " 'dice': <function py_entitymatching.feature.simfunctions.dice>,\n",
       " 'monge_elkan': <function py_entitymatching.feature.simfunctions.monge_elkan>,\n",
       " 'cosine': <function py_entitymatching.feature.simfunctions.cosine>,\n",
       " 'exact_match': <function py_entitymatching.feature.simfunctions.exact_match>,\n",
       " 'rel_diff': <function py_entitymatching.feature.simfunctions.rel_diff>,\n",
       " 'abs_norm': <function py_entitymatching.feature.simfunctions.abs_norm>}"
      ]
     },
     "execution_count": 41,
     "metadata": {},
     "output_type": "execute_result"
    }
   ],
   "source": [
    "sim = em.get_sim_funs_for_blocking()\n",
    "sim"
   ]
  },
  {
   "cell_type": "code",
   "execution_count": 42,
   "metadata": {},
   "outputs": [],
   "source": [
    "block_f = em.get_features(A, B, atypes_A, atypes_B, block_c, toks, sim)"
   ]
  },
  {
   "cell_type": "code",
   "execution_count": 43,
   "metadata": {},
   "outputs": [
    {
     "data": {
      "text/html": [
       "<div>\n",
       "<style scoped>\n",
       "    .dataframe tbody tr th:only-of-type {\n",
       "        vertical-align: middle;\n",
       "    }\n",
       "\n",
       "    .dataframe tbody tr th {\n",
       "        vertical-align: top;\n",
       "    }\n",
       "\n",
       "    .dataframe thead th {\n",
       "        text-align: right;\n",
       "    }\n",
       "</style>\n",
       "<table border=\"1\" class=\"dataframe\">\n",
       "  <thead>\n",
       "    <tr style=\"text-align: right;\">\n",
       "      <th></th>\n",
       "      <th>feature_name</th>\n",
       "      <th>left_attribute</th>\n",
       "      <th>right_attribute</th>\n",
       "      <th>left_attr_tokenizer</th>\n",
       "      <th>right_attr_tokenizer</th>\n",
       "      <th>simfunction</th>\n",
       "      <th>function</th>\n",
       "      <th>function_source</th>\n",
       "      <th>is_auto_generated</th>\n",
       "    </tr>\n",
       "  </thead>\n",
       "  <tbody>\n",
       "    <tr>\n",
       "      <th>0</th>\n",
       "      <td>name_tokTitle_jac_qgm_3_qgm_3</td>\n",
       "      <td>name</td>\n",
       "      <td>tokTitle</td>\n",
       "      <td>qgm_3</td>\n",
       "      <td>qgm_3</td>\n",
       "      <td>jaccard</td>\n",
       "      <td>&lt;function name_tokTitle_jac_qgm_3_qgm_3 at 0x000002280FE12828&gt;</td>\n",
       "      <td>from py_entitymatching.feature.simfunctions import *\\nfrom py_entitymatching.feature.tokenizers ...</td>\n",
       "      <td>True</td>\n",
       "    </tr>\n",
       "    <tr>\n",
       "      <th>1</th>\n",
       "      <td>name_tokTitle_cos_dlm_dc0_dlm_dc0</td>\n",
       "      <td>name</td>\n",
       "      <td>tokTitle</td>\n",
       "      <td>dlm_dc0</td>\n",
       "      <td>dlm_dc0</td>\n",
       "      <td>cosine</td>\n",
       "      <td>&lt;function name_tokTitle_cos_dlm_dc0_dlm_dc0 at 0x000002280FE12B88&gt;</td>\n",
       "      <td>from py_entitymatching.feature.simfunctions import *\\nfrom py_entitymatching.feature.tokenizers ...</td>\n",
       "      <td>True</td>\n",
       "    </tr>\n",
       "    <tr>\n",
       "      <th>2</th>\n",
       "      <td>name_tokNews_jac_qgm_3_qgm_3</td>\n",
       "      <td>name</td>\n",
       "      <td>tokNews</td>\n",
       "      <td>qgm_3</td>\n",
       "      <td>qgm_3</td>\n",
       "      <td>jaccard</td>\n",
       "      <td>&lt;function name_tokNews_jac_qgm_3_qgm_3 at 0x000002280FE12CA8&gt;</td>\n",
       "      <td>from py_entitymatching.feature.simfunctions import *\\nfrom py_entitymatching.feature.tokenizers ...</td>\n",
       "      <td>True</td>\n",
       "    </tr>\n",
       "    <tr>\n",
       "      <th>3</th>\n",
       "      <td>name_tokNews_cos_dlm_dc0_dlm_dc0</td>\n",
       "      <td>name</td>\n",
       "      <td>tokNews</td>\n",
       "      <td>dlm_dc0</td>\n",
       "      <td>dlm_dc0</td>\n",
       "      <td>cosine</td>\n",
       "      <td>&lt;function name_tokNews_cos_dlm_dc0_dlm_dc0 at 0x000002280FE12DC8&gt;</td>\n",
       "      <td>from py_entitymatching.feature.simfunctions import *\\nfrom py_entitymatching.feature.tokenizers ...</td>\n",
       "      <td>True</td>\n",
       "    </tr>\n",
       "  </tbody>\n",
       "</table>\n",
       "</div>"
      ],
      "text/plain": [
       "                        feature_name left_attribute right_attribute  \\\n",
       "0      name_tokTitle_jac_qgm_3_qgm_3           name        tokTitle   \n",
       "1  name_tokTitle_cos_dlm_dc0_dlm_dc0           name        tokTitle   \n",
       "2       name_tokNews_jac_qgm_3_qgm_3           name         tokNews   \n",
       "3   name_tokNews_cos_dlm_dc0_dlm_dc0           name         tokNews   \n",
       "\n",
       "  left_attr_tokenizer right_attr_tokenizer simfunction  \\\n",
       "0               qgm_3                qgm_3     jaccard   \n",
       "1             dlm_dc0              dlm_dc0      cosine   \n",
       "2               qgm_3                qgm_3     jaccard   \n",
       "3             dlm_dc0              dlm_dc0      cosine   \n",
       "\n",
       "                                                             function  \\\n",
       "0      <function name_tokTitle_jac_qgm_3_qgm_3 at 0x000002280FE12828>   \n",
       "1  <function name_tokTitle_cos_dlm_dc0_dlm_dc0 at 0x000002280FE12B88>   \n",
       "2       <function name_tokNews_jac_qgm_3_qgm_3 at 0x000002280FE12CA8>   \n",
       "3   <function name_tokNews_cos_dlm_dc0_dlm_dc0 at 0x000002280FE12DC8>   \n",
       "\n",
       "                                                                                       function_source  \\\n",
       "0  from py_entitymatching.feature.simfunctions import *\\nfrom py_entitymatching.feature.tokenizers ...   \n",
       "1  from py_entitymatching.feature.simfunctions import *\\nfrom py_entitymatching.feature.tokenizers ...   \n",
       "2  from py_entitymatching.feature.simfunctions import *\\nfrom py_entitymatching.feature.tokenizers ...   \n",
       "3  from py_entitymatching.feature.simfunctions import *\\nfrom py_entitymatching.feature.tokenizers ...   \n",
       "\n",
       "   is_auto_generated  \n",
       "0               True  \n",
       "1               True  \n",
       "2               True  \n",
       "3               True  "
      ]
     },
     "execution_count": 43,
     "metadata": {},
     "output_type": "execute_result"
    }
   ],
   "source": [
    "block_f"
   ]
  },
  {
   "cell_type": "code",
   "execution_count": 44,
   "metadata": {},
   "outputs": [],
   "source": [
    "# Black box function that checks if NAME is exactly in the reddit text\n",
    "def street_name_titleselftext_exact(x, y):\n",
    "    x = x['name']\n",
    "    y = y['tokTitle'] + ' ' + y['tokNews']\n",
    "    return not x in y"
   ]
  },
  {
   "cell_type": "code",
   "execution_count": 45,
   "metadata": {},
   "outputs": [],
   "source": [
    "# Blocker to match NAMES and reddit text\n",
    "# This blocker gives us all of the candidate relationships, which are a lot since there may be multiple \n",
    "# relationships with a single Reddit post\n",
    "bb = em.BlackBoxBlocker()\n",
    "bb.set_black_box_function(street_name_titleselftext_exact)"
   ]
  },
  {
   "cell_type": "code",
   "execution_count": 46,
   "metadata": {},
   "outputs": [
    {
     "name": "stderr",
     "output_type": "stream",
     "text": [
      "C:\\Users\\rmartinez4\\Anaconda3\\envs\\py37\\lib\\site-packages\\py_entitymatching\\blocker\\black_box_blocker.py:189: FutureWarning: The pandas.np module is deprecated and will be removed from pandas in a future version. Import numpy directly instead\n",
      "  l_splits = pd.np.array_split(l_df, m)\n",
      "C:\\Users\\rmartinez4\\Anaconda3\\envs\\py37\\lib\\site-packages\\py_entitymatching\\blocker\\black_box_blocker.py:190: FutureWarning: The pandas.np module is deprecated and will be removed from pandas in a future version. Import numpy directly instead\n",
      "  r_splits = pd.np.array_split(r_df, n)\n"
     ]
    }
   ],
   "source": [
    "C1 = bb.block_tables(A, B, l_output_attrs=l_output_attrs, r_output_attrs=r_output_attrs, show_progress=True,\n",
    "                     n_jobs=-1)"
   ]
  },
  {
   "cell_type": "code",
   "execution_count": 47,
   "metadata": {},
   "outputs": [
    {
     "data": {
      "text/html": [
       "<div>\n",
       "<style scoped>\n",
       "    .dataframe tbody tr th:only-of-type {\n",
       "        vertical-align: middle;\n",
       "    }\n",
       "\n",
       "    .dataframe tbody tr th {\n",
       "        vertical-align: top;\n",
       "    }\n",
       "\n",
       "    .dataframe thead th {\n",
       "        text-align: right;\n",
       "    }\n",
       "</style>\n",
       "<table border=\"1\" class=\"dataframe\">\n",
       "  <thead>\n",
       "    <tr style=\"text-align: right;\">\n",
       "      <th></th>\n",
       "      <th>_id</th>\n",
       "      <th>ltable_id</th>\n",
       "      <th>rtable_id</th>\n",
       "      <th>ltable_name</th>\n",
       "      <th>ltable_category</th>\n",
       "      <th>ltable_fda_schedule</th>\n",
       "      <th>rtable_tokTitle</th>\n",
       "      <th>rtable_tokNews</th>\n",
       "    </tr>\n",
       "  </thead>\n",
       "  <tbody>\n",
       "    <tr>\n",
       "      <th>0</th>\n",
       "      <td>0</td>\n",
       "      <td>0</td>\n",
       "      <td>4956</td>\n",
       "      <td>fentanyl</td>\n",
       "      <td>opioid analgesics</td>\n",
       "      <td>schedule ii</td>\n",
       "      <td>cpj 100 press freedom violations reported us protests</td>\n",
       "      <td>media watchdog called us authorities stop targeting journalists covering protests death unarmed ...</td>\n",
       "    </tr>\n",
       "    <tr>\n",
       "      <th>1</th>\n",
       "      <td>1</td>\n",
       "      <td>0</td>\n",
       "      <td>5112</td>\n",
       "      <td>fentanyl</td>\n",
       "      <td>opioid analgesics</td>\n",
       "      <td>schedule ii</td>\n",
       "      <td>medical examiner private autopsy find george floyd death homicide</td>\n",
       "      <td>minneapolis medical examiner monday classified george floyd death homicide saying heart stopped ...</td>\n",
       "    </tr>\n",
       "    <tr>\n",
       "      <th>2</th>\n",
       "      <td>2</td>\n",
       "      <td>0</td>\n",
       "      <td>5604</td>\n",
       "      <td>fentanyl</td>\n",
       "      <td>opioid analgesics</td>\n",
       "      <td>schedule ii</td>\n",
       "      <td>george floyd died asphyxia family medical examiner autopsy</td>\n",
       "      <td>george floyd killed asphyxia due neck back compression according independent medical examiner re...</td>\n",
       "    </tr>\n",
       "    <tr>\n",
       "      <th>3</th>\n",
       "      <td>3</td>\n",
       "      <td>0</td>\n",
       "      <td>5862</td>\n",
       "      <td>fentanyl</td>\n",
       "      <td>opioid analgesics</td>\n",
       "      <td>schedule ii</td>\n",
       "      <td>ex boxer floyd mayweather paying george funeral services per reports</td>\n",
       "      <td>tmz sports published photo 88 500 check mayweather houston area funeral provider fort bend memor...</td>\n",
       "    </tr>\n",
       "    <tr>\n",
       "      <th>4</th>\n",
       "      <td>4</td>\n",
       "      <td>0</td>\n",
       "      <td>6064</td>\n",
       "      <td>fentanyl</td>\n",
       "      <td>opioid analgesics</td>\n",
       "      <td>schedule ii</td>\n",
       "      <td>medical examiner floyd heart stopped restrained</td>\n",
       "      <td>significant conditions said floyd suffered heart disease hypertension listed fentanyl intoxicati...</td>\n",
       "    </tr>\n",
       "    <tr>\n",
       "      <th>...</th>\n",
       "      <td>...</td>\n",
       "      <td>...</td>\n",
       "      <td>...</td>\n",
       "      <td>...</td>\n",
       "      <td>...</td>\n",
       "      <td>...</td>\n",
       "      <td>...</td>\n",
       "      <td>...</td>\n",
       "    </tr>\n",
       "    <tr>\n",
       "      <th>25146</th>\n",
       "      <td>25146</td>\n",
       "      <td>358</td>\n",
       "      <td>253735</td>\n",
       "      <td>methadone</td>\n",
       "      <td>opioid analgesics</td>\n",
       "      <td>schedule ii</td>\n",
       "      <td>covid 19 pandemic could worsening addictions overdoses</td>\n",
       "      <td>covid 19 pandemic disrupted routines vast majority americans left many isolated alone battling a...</td>\n",
       "    </tr>\n",
       "    <tr>\n",
       "      <th>25147</th>\n",
       "      <td>25147</td>\n",
       "      <td>358</td>\n",
       "      <td>261982</td>\n",
       "      <td>methadone</td>\n",
       "      <td>opioid analgesics</td>\n",
       "      <td>schedule ii</td>\n",
       "      <td>former doctor pleads guilty illegally prescribing pain pills officials say</td>\n",
       "      <td>former doctor amityville pleaded guilty monday illegally prescribing thousands highly addictive ...</td>\n",
       "    </tr>\n",
       "    <tr>\n",
       "      <th>25148</th>\n",
       "      <td>25148</td>\n",
       "      <td>358</td>\n",
       "      <td>262788</td>\n",
       "      <td>methadone</td>\n",
       "      <td>opioid analgesics</td>\n",
       "      <td>schedule ii</td>\n",
       "      <td>hotel lucerne upper west side converts temporary homeless shelter</td>\n",
       "      <td>sign special edition newsletter get daily update coronavirus pandemic normally live let upper we...</td>\n",
       "    </tr>\n",
       "    <tr>\n",
       "      <th>25149</th>\n",
       "      <td>25149</td>\n",
       "      <td>358</td>\n",
       "      <td>289991</td>\n",
       "      <td>methadone</td>\n",
       "      <td>opioid analgesics</td>\n",
       "      <td>schedule ii</td>\n",
       "      <td>people color cited often skipping fares mbta</td>\n",
       "      <td>response globe public records request transit police provided two months worth fare evasion cita...</td>\n",
       "    </tr>\n",
       "    <tr>\n",
       "      <th>25150</th>\n",
       "      <td>25150</td>\n",
       "      <td>358</td>\n",
       "      <td>291804</td>\n",
       "      <td>methadone</td>\n",
       "      <td>opioid analgesics</td>\n",
       "      <td>schedule ii</td>\n",
       "      <td>minority riders cited often skipping fares mbta</td>\n",
       "      <td>response globe public records request transit police provided two months worth fare evasion cita...</td>\n",
       "    </tr>\n",
       "  </tbody>\n",
       "</table>\n",
       "<p>25151 rows × 8 columns</p>\n",
       "</div>"
      ],
      "text/plain": [
       "         _id  ltable_id  rtable_id ltable_name    ltable_category  \\\n",
       "0          0          0       4956    fentanyl  opioid analgesics   \n",
       "1          1          0       5112    fentanyl  opioid analgesics   \n",
       "2          2          0       5604    fentanyl  opioid analgesics   \n",
       "3          3          0       5862    fentanyl  opioid analgesics   \n",
       "4          4          0       6064    fentanyl  opioid analgesics   \n",
       "...      ...        ...        ...         ...                ...   \n",
       "25146  25146        358     253735   methadone  opioid analgesics   \n",
       "25147  25147        358     261982   methadone  opioid analgesics   \n",
       "25148  25148        358     262788   methadone  opioid analgesics   \n",
       "25149  25149        358     289991   methadone  opioid analgesics   \n",
       "25150  25150        358     291804   methadone  opioid analgesics   \n",
       "\n",
       "      ltable_fda_schedule  \\\n",
       "0             schedule ii   \n",
       "1             schedule ii   \n",
       "2             schedule ii   \n",
       "3             schedule ii   \n",
       "4             schedule ii   \n",
       "...                   ...   \n",
       "25146         schedule ii   \n",
       "25147         schedule ii   \n",
       "25148         schedule ii   \n",
       "25149         schedule ii   \n",
       "25150         schedule ii   \n",
       "\n",
       "                                                                  rtable_tokTitle  \\\n",
       "0                           cpj 100 press freedom violations reported us protests   \n",
       "1               medical examiner private autopsy find george floyd death homicide   \n",
       "2                      george floyd died asphyxia family medical examiner autopsy   \n",
       "3            ex boxer floyd mayweather paying george funeral services per reports   \n",
       "4                                 medical examiner floyd heart stopped restrained   \n",
       "...                                                                           ...   \n",
       "25146                      covid 19 pandemic could worsening addictions overdoses   \n",
       "25147  former doctor pleads guilty illegally prescribing pain pills officials say   \n",
       "25148           hotel lucerne upper west side converts temporary homeless shelter   \n",
       "25149                                people color cited often skipping fares mbta   \n",
       "25150                             minority riders cited often skipping fares mbta   \n",
       "\n",
       "                                                                                            rtable_tokNews  \n",
       "0      media watchdog called us authorities stop targeting journalists covering protests death unarmed ...  \n",
       "1      minneapolis medical examiner monday classified george floyd death homicide saying heart stopped ...  \n",
       "2      george floyd killed asphyxia due neck back compression according independent medical examiner re...  \n",
       "3      tmz sports published photo 88 500 check mayweather houston area funeral provider fort bend memor...  \n",
       "4      significant conditions said floyd suffered heart disease hypertension listed fentanyl intoxicati...  \n",
       "...                                                                                                    ...  \n",
       "25146  covid 19 pandemic disrupted routines vast majority americans left many isolated alone battling a...  \n",
       "25147  former doctor amityville pleaded guilty monday illegally prescribing thousands highly addictive ...  \n",
       "25148  sign special edition newsletter get daily update coronavirus pandemic normally live let upper we...  \n",
       "25149  response globe public records request transit police provided two months worth fare evasion cita...  \n",
       "25150  response globe public records request transit police provided two months worth fare evasion cita...  \n",
       "\n",
       "[25151 rows x 8 columns]"
      ]
     },
     "execution_count": 47,
     "metadata": {},
     "output_type": "execute_result"
    }
   ],
   "source": [
    "C1"
   ]
  },
  {
   "cell_type": "markdown",
   "metadata": {},
   "source": [
    " # Save C1 to csv"
   ]
  },
  {
   "cell_type": "code",
   "execution_count": 48,
   "metadata": {},
   "outputs": [],
   "source": [
    "C1.to_csv('C1_output.csv',index=False)\n",
    "#C1 = pd.read_csv('C1_output.csv')"
   ]
  },
  {
   "cell_type": "code",
   "execution_count": 49,
   "metadata": {},
   "outputs": [],
   "source": [
    "# Check to see what didn't get matched\n",
    "missing_reddit = ~reddit_df['id'].isin(C1['rtable_id'])"
   ]
  },
  {
   "cell_type": "code",
   "execution_count": 50,
   "metadata": {},
   "outputs": [
    {
     "data": {
      "text/plain": [
       "0         popgrip lips x burt bees provide consumers two one product features classic functionality combin...\n",
       "1         warrington england reuters thousands people across queued school ikea monday british government ...\n",
       "2         demonstrations erupted dozens us cities george floyd unarmed black man died police custody thous...\n",
       "5         canyon ranch bills place guests get away stress modern life days includes global pandemic shutte...\n",
       "6         past week protesters converged city streets across country including dallas voice anger death ge...\n",
       "                                                         ...                                                 \n",
       "293621    oakdale minn aug 3 2020 prnewswire st croix hospice announced today mandy cogswell rn chief clin...\n",
       "293623    fifth year wards 10 best ux competition focuses user experience driver interacts vehicle well ea...\n",
       "293624    atlanta aug 2 2020 prnewswire tropical storm isaias tracks along southeastern coastline includin...\n",
       "293625    pittsburgh aug 3 2020 prnewswire inventor wellsville n wanted fulfill need fencing picket extens...\n",
       "293626    irvine calif aug 3 2020 prnewswire valuation analysts kelley blue book today reported estimated ...\n",
       "Name: tokNews, Length: 270757, dtype: object"
      ]
     },
     "execution_count": 50,
     "metadata": {},
     "output_type": "execute_result"
    }
   ],
   "source": [
    "reddit_df[missing_reddit]['tokNews']"
   ]
  },
  {
   "cell_type": "code",
   "execution_count": 68,
   "metadata": {},
   "outputs": [
    {
     "data": {
      "text/plain": [
       "'_rule_0'"
      ]
     },
     "execution_count": 68,
     "metadata": {},
     "output_type": "execute_result"
    }
   ],
   "source": [
    "# Blocker to get a subset of the above for manual labeling\n",
    "rb = em.RuleBasedBlocker()\n",
    "rb.add_rule(['name_tokNews_cos_dlm_dc0_dlm_dc0 \t(ltuple, rtuple) < 0.1'], block_f)"
   ]
  },
  {
   "cell_type": "code",
   "execution_count": 69,
   "metadata": {},
   "outputs": [
    {
     "name": "stderr",
     "output_type": "stream",
     "text": [
      "C:\\Users\\rmartinez4\\Anaconda3\\envs\\py37\\lib\\site-packages\\py_entitymatching\\blocker\\rule_based_blocker.py:463: FutureWarning: The pandas.np module is deprecated and will be removed from pandas in a future version. Import numpy directly instead\n",
      "  c_splits = pd.np.array_split(c_df, n_procs)\n"
     ]
    }
   ],
   "source": [
    "C2 = rb.block_candset(C1, show_progress=True, n_jobs=-1)"
   ]
  },
  {
   "cell_type": "code",
   "execution_count": 70,
   "metadata": {},
   "outputs": [],
   "source": [
    "# C2.to_csv('C2_output.csv', index=False)\n",
    "# C2 = pd.read_csv_metadata('C2_output.csv')"
   ]
  },
  {
   "cell_type": "markdown",
   "metadata": {},
   "source": [
    "# Label Block"
   ]
  },
  {
   "cell_type": "code",
   "execution_count": 71,
   "metadata": {},
   "outputs": [
    {
     "name": "stderr",
     "output_type": "stream",
     "text": [
      "Column name (gold_label) is not present in dataframe\n"
     ]
    }
   ],
   "source": [
    "# # Generate manually labeled data set\n",
    "\n",
    "# G = em.label_table(C2, 'gold_label')\n",
    "# G.to_csv('./C2_labeled_news.csv', index=False)"
   ]
  },
  {
   "cell_type": "code",
   "execution_count": 68,
   "metadata": {},
   "outputs": [],
   "source": [
    "# !pip install PyQt5"
   ]
  },
  {
   "cell_type": "code",
   "execution_count": null,
   "metadata": {},
   "outputs": [],
   "source": [
    "#G = em.read_csv_metadata('./C2_labeled.csv', key='_id',\n",
    "#                      fk_ltable='ltable_id', fk_rtable='rtable_id',\n",
    "#                      ltable=A, rtable=B)"
   ]
  },
  {
   "cell_type": "code",
   "execution_count": null,
   "metadata": {},
   "outputs": [],
   "source": [
    "# I needed to add features that weren't included in the labeled data set\n",
    "\n",
    "#G.merge(A[['id', 'ALTNAMES']], how='left', left_on='ltable_id', right_on='id').drop(columns=['id']).to_csv('./C2_labeled_2.csv', index=False)\n",
    "#G.merge(A[['id', 'NAMETYPE']], how='left', left_on='ltable_id', right_on='id').drop(columns=['id']).to_csv('./C2_labeled_3.csv', index=False)"
   ]
  },
  {
   "cell_type": "code",
   "execution_count": 72,
   "metadata": {},
   "outputs": [
    {
     "name": "stderr",
     "output_type": "stream",
     "text": [
      "Metadata file is not present in the given path; proceeding to read the csv file.\n"
     ]
    }
   ],
   "source": [
    "# Final labeled set with added features\n",
    "G = em.read_csv_metadata('./C2_labeled_news.csv', key='_id',\n",
    "                      fk_ltable='ltable_id', fk_rtable='rtable_id',\n",
    "                      ltable=A, rtable=B)"
   ]
  },
  {
   "cell_type": "markdown",
   "metadata": {},
   "source": [
    "# Matching"
   ]
  },
  {
   "cell_type": "code",
   "execution_count": 73,
   "metadata": {},
   "outputs": [
    {
     "name": "stderr",
     "output_type": "stream",
     "text": [
      "C:\\Users\\rmartinez4\\Anaconda3\\envs\\py37\\lib\\site-packages\\py_entitymatching\\matcher\\matcherutils.py:98: FutureWarning: The pandas.np module is deprecated and will be removed from pandas in a future version. Import numpy directly instead\n",
      "  idx_values = pd.np.array(labeled_data.index.values)\n"
     ]
    }
   ],
   "source": [
    "# Split data into train and test\n",
    "IJ = em.split_train_test(G, train_proportion=0.6, random_state=0)\n",
    "I = IJ['train']\n",
    "J = IJ['test']"
   ]
  },
  {
   "cell_type": "code",
   "execution_count": 74,
   "metadata": {},
   "outputs": [],
   "source": [
    "# Create a set of ML-matchers\n",
    "dt = em.DTMatcher(name='DecisionTree', random_state=0)\n",
    "svm = em.SVMMatcher(name='SVM', random_state=0)\n",
    "rf = em.RFMatcher(name='RF', random_state=0)\n",
    "lg = em.LogRegMatcher(name='LogReg', random_state=0)\n",
    "ln = em.LinRegMatcher(name='LinReg')"
   ]
  },
  {
   "cell_type": "code",
   "execution_count": 53,
   "metadata": {},
   "outputs": [],
   "source": [
    "# A = A.rename(columns={'NAME_TYPE': 'NAMETYPE'})"
   ]
  },
  {
   "cell_type": "code",
   "execution_count": 76,
   "metadata": {},
   "outputs": [
    {
     "data": {
      "text/plain": [
       "Index(['id', 'name', 'name_type', 'full_generic_name', 'category',\n",
       "       'fda_schedule'],\n",
       "      dtype='object')"
      ]
     },
     "execution_count": 76,
     "metadata": {},
     "output_type": "execute_result"
    }
   ],
   "source": [
    "A.columns"
   ]
  },
  {
   "cell_type": "code",
   "execution_count": 77,
   "metadata": {},
   "outputs": [
    {
     "data": {
      "text/plain": [
       "Index(['publishdate', 'src', 'title', 'news', 'src_name', 'tokTitle',\n",
       "       'tokNews', 'id'],\n",
       "      dtype='object')"
      ]
     },
     "execution_count": 77,
     "metadata": {},
     "output_type": "execute_result"
    }
   ],
   "source": [
    "B.columns"
   ]
  },
  {
   "cell_type": "code",
   "execution_count": 78,
   "metadata": {},
   "outputs": [],
   "source": [
    "A = A.drop(columns=['full_generic_name', 'category','fda_schedule'])\n",
    "B = B.drop(columns=['src', 'title', 'news', 'src_name'])"
   ]
  },
  {
   "cell_type": "code",
   "execution_count": 79,
   "metadata": {},
   "outputs": [
    {
     "name": "stderr",
     "output_type": "stream",
     "text": [
      "C:\\Users\\rmartinez4\\Anaconda3\\envs\\py37\\lib\\site-packages\\py_entitymatching\\feature\\attributeutils.py:191: FutureWarning: The pandas.np module is deprecated and will be removed from pandas in a future version. Import numpy directly instead\n",
      "  if returned_type == bool or returned_type == pd.np.bool_:\n"
     ]
    }
   ],
   "source": [
    "F = em.get_features_for_matching(A, B, validate_inferred_attr_types=False)"
   ]
  },
  {
   "cell_type": "code",
   "execution_count": 80,
   "metadata": {},
   "outputs": [
    {
     "data": {
      "text/html": [
       "<div>\n",
       "<style scoped>\n",
       "    .dataframe tbody tr th:only-of-type {\n",
       "        vertical-align: middle;\n",
       "    }\n",
       "\n",
       "    .dataframe tbody tr th {\n",
       "        vertical-align: top;\n",
       "    }\n",
       "\n",
       "    .dataframe thead th {\n",
       "        text-align: right;\n",
       "    }\n",
       "</style>\n",
       "<table border=\"1\" class=\"dataframe\">\n",
       "  <thead>\n",
       "    <tr style=\"text-align: right;\">\n",
       "      <th></th>\n",
       "      <th>feature_name</th>\n",
       "      <th>left_attribute</th>\n",
       "      <th>right_attribute</th>\n",
       "      <th>left_attr_tokenizer</th>\n",
       "      <th>right_attr_tokenizer</th>\n",
       "      <th>simfunction</th>\n",
       "      <th>function</th>\n",
       "      <th>function_source</th>\n",
       "      <th>is_auto_generated</th>\n",
       "    </tr>\n",
       "  </thead>\n",
       "  <tbody>\n",
       "    <tr>\n",
       "      <th>0</th>\n",
       "      <td>id_id_exm</td>\n",
       "      <td>id</td>\n",
       "      <td>id</td>\n",
       "      <td>None</td>\n",
       "      <td>None</td>\n",
       "      <td>exact_match</td>\n",
       "      <td>&lt;function id_id_exm at 0x000002281B231CA8&gt;</td>\n",
       "      <td>from py_entitymatching.feature.simfunctions import *\\nfrom py_entitymatching.feature.tokenizers ...</td>\n",
       "      <td>True</td>\n",
       "    </tr>\n",
       "    <tr>\n",
       "      <th>1</th>\n",
       "      <td>id_id_anm</td>\n",
       "      <td>id</td>\n",
       "      <td>id</td>\n",
       "      <td>None</td>\n",
       "      <td>None</td>\n",
       "      <td>abs_norm</td>\n",
       "      <td>&lt;function id_id_anm at 0x0000022815F13708&gt;</td>\n",
       "      <td>from py_entitymatching.feature.simfunctions import *\\nfrom py_entitymatching.feature.tokenizers ...</td>\n",
       "      <td>True</td>\n",
       "    </tr>\n",
       "    <tr>\n",
       "      <th>2</th>\n",
       "      <td>id_id_lev_dist</td>\n",
       "      <td>id</td>\n",
       "      <td>id</td>\n",
       "      <td>None</td>\n",
       "      <td>None</td>\n",
       "      <td>lev_dist</td>\n",
       "      <td>&lt;function id_id_lev_dist at 0x0000022815F131F8&gt;</td>\n",
       "      <td>from py_entitymatching.feature.simfunctions import *\\nfrom py_entitymatching.feature.tokenizers ...</td>\n",
       "      <td>True</td>\n",
       "    </tr>\n",
       "    <tr>\n",
       "      <th>3</th>\n",
       "      <td>id_id_lev_sim</td>\n",
       "      <td>id</td>\n",
       "      <td>id</td>\n",
       "      <td>None</td>\n",
       "      <td>None</td>\n",
       "      <td>lev_sim</td>\n",
       "      <td>&lt;function id_id_lev_sim at 0x0000022815F13828&gt;</td>\n",
       "      <td>from py_entitymatching.feature.simfunctions import *\\nfrom py_entitymatching.feature.tokenizers ...</td>\n",
       "      <td>True</td>\n",
       "    </tr>\n",
       "  </tbody>\n",
       "</table>\n",
       "</div>"
      ],
      "text/plain": [
       "     feature_name left_attribute right_attribute left_attr_tokenizer  \\\n",
       "0       id_id_exm             id              id                None   \n",
       "1       id_id_anm             id              id                None   \n",
       "2  id_id_lev_dist             id              id                None   \n",
       "3   id_id_lev_sim             id              id                None   \n",
       "\n",
       "  right_attr_tokenizer  simfunction  \\\n",
       "0                 None  exact_match   \n",
       "1                 None     abs_norm   \n",
       "2                 None     lev_dist   \n",
       "3                 None      lev_sim   \n",
       "\n",
       "                                          function  \\\n",
       "0       <function id_id_exm at 0x000002281B231CA8>   \n",
       "1       <function id_id_anm at 0x0000022815F13708>   \n",
       "2  <function id_id_lev_dist at 0x0000022815F131F8>   \n",
       "3   <function id_id_lev_sim at 0x0000022815F13828>   \n",
       "\n",
       "                                                                                       function_source  \\\n",
       "0  from py_entitymatching.feature.simfunctions import *\\nfrom py_entitymatching.feature.tokenizers ...   \n",
       "1  from py_entitymatching.feature.simfunctions import *\\nfrom py_entitymatching.feature.tokenizers ...   \n",
       "2  from py_entitymatching.feature.simfunctions import *\\nfrom py_entitymatching.feature.tokenizers ...   \n",
       "3  from py_entitymatching.feature.simfunctions import *\\nfrom py_entitymatching.feature.tokenizers ...   \n",
       "\n",
       "   is_auto_generated  \n",
       "0               True  \n",
       "1               True  \n",
       "2               True  \n",
       "3               True  "
      ]
     },
     "execution_count": 80,
     "metadata": {},
     "output_type": "execute_result"
    }
   ],
   "source": [
    "F"
   ]
  },
  {
   "cell_type": "markdown",
   "metadata": {},
   "source": [
    "## Generate Features"
   ]
  },
  {
   "cell_type": "code",
   "execution_count": 59,
   "metadata": {},
   "outputs": [],
   "source": [
    "# Matching NAME to the Reddit text using string and token similarity doesn't really make sense since the\n",
    "# Reddit text is long while the names are 1-2 words. There may be some value in similarity scores between all\n",
    "# of the ALTNAMES and the Reddit text, especially in cases where multiple alt words are used in the text. However,\n",
    "# the length of a post or a short list of alt names may arbitrarily lower these scores."
   ]
  },
  {
   "cell_type": "code",
   "execution_count": 81,
   "metadata": {},
   "outputs": [
    {
     "data": {
      "text/plain": [
       "True"
      ]
     },
     "execution_count": 81,
     "metadata": {},
     "output_type": "execute_result"
    }
   ],
   "source": [
    "feature_string = '''dice(wspace(ltuple['name']),\n",
    "                                wspace((rtuple['tokTitle'] + \" \" + rtuple['tokNews'])))'''\n",
    "feature = em.get_feature_fn(feature_string, sim, toks)\n",
    "em.add_feature(F, 'jac_ws_name_tokTitleNews', feature)"
   ]
  },
  {
   "cell_type": "code",
   "execution_count": 82,
   "metadata": {},
   "outputs": [
    {
     "data": {
      "text/plain": [
       "True"
      ]
     },
     "execution_count": 82,
     "metadata": {},
     "output_type": "execute_result"
    }
   ],
   "source": [
    "feature_string = '''dice(wspace(ltuple['name']),\n",
    "                                wspace((rtuple['tokTitle'] + \" \" + rtuple['tokNews'])))'''\n",
    "feature = em.get_feature_fn(feature_string, sim, toks)\n",
    "em.add_feature(F, 'dc_ws_name_tokTitleNews', feature)"
   ]
  },
  {
   "cell_type": "code",
   "execution_count": 83,
   "metadata": {},
   "outputs": [
    {
     "data": {
      "text/plain": [
       "True"
      ]
     },
     "execution_count": 83,
     "metadata": {},
     "output_type": "execute_result"
    }
   ],
   "source": [
    "feature_string = '''cosine(wspace(ltuple['name']),\n",
    "                                wspace((rtuple['tokTitle'] + \" \" + rtuple['tokNews'])))'''\n",
    "feature = em.get_feature_fn(feature_string, sim, toks)\n",
    "em.add_feature(F, 'cos_ws_name_tokTitleNews', feature)"
   ]
  },
  {
   "cell_type": "code",
   "execution_count": 84,
   "metadata": {},
   "outputs": [],
   "source": [
    "# NAME in Reddit text\n",
    "def street_name_titleselftext_exact_feature(x, y):\n",
    "    x = x['name']\n",
    "    y = y['tokTitle'] + ' ' + y['tokNews']\n",
    "    return int(x in y)"
   ]
  },
  {
   "cell_type": "code",
   "execution_count": 85,
   "metadata": {},
   "outputs": [
    {
     "data": {
      "text/plain": [
       "True"
      ]
     },
     "execution_count": 85,
     "metadata": {},
     "output_type": "execute_result"
    }
   ],
   "source": [
    "em.add_blackbox_feature(F, 'street_name_present', street_name_titleselftext_exact_feature)"
   ]
  },
  {
   "cell_type": "code",
   "execution_count": 86,
   "metadata": {},
   "outputs": [],
   "source": [
    "# Number of alt names in Reddit text\n",
    "def num_alt_matches(x, y):\n",
    "    x = set(x['name'].split(' '))\n",
    "    y = set(y['tokTitle'].split(' ')).union(set(y['tokNews'].split(' ')))\n",
    "    return len(x.intersection(y))"
   ]
  },
  {
   "cell_type": "code",
   "execution_count": 87,
   "metadata": {},
   "outputs": [
    {
     "data": {
      "text/plain": [
       "True"
      ]
     },
     "execution_count": 87,
     "metadata": {},
     "output_type": "execute_result"
    }
   ],
   "source": [
    "em.add_blackbox_feature(F, 'num_alt_matches', num_alt_matches)"
   ]
  },
  {
   "cell_type": "code",
   "execution_count": 67,
   "metadata": {},
   "outputs": [],
   "source": [
    "# # Name type is not street name (to give weight to brand and generic names)\n",
    "# def not_street_name(x, y):\n",
    "#     return int(not x['NAMETYPE'] == 'STREET_NAME')"
   ]
  },
  {
   "cell_type": "code",
   "execution_count": 68,
   "metadata": {},
   "outputs": [
    {
     "data": {
      "text/plain": [
       "True"
      ]
     },
     "execution_count": 68,
     "metadata": {},
     "output_type": "execute_result"
    }
   ],
   "source": [
    "# em.add_blackbox_feature(F, 'not_street_name', not_street_name)"
   ]
  },
  {
   "cell_type": "code",
   "execution_count": 69,
   "metadata": {},
   "outputs": [],
   "source": [
    "# # Generic name is in Reddit text\n",
    "# def generic_in_text(x, y):\n",
    "#     x = x['GENERIC_NAME']\n",
    "#     y = y['tokTitle'] + ' ' + y['tokSelftext']\n",
    "#     return int(x in y)"
   ]
  },
  {
   "cell_type": "code",
   "execution_count": 70,
   "metadata": {},
   "outputs": [
    {
     "data": {
      "text/plain": [
       "True"
      ]
     },
     "execution_count": 70,
     "metadata": {},
     "output_type": "execute_result"
    }
   ],
   "source": [
    "# em.add_blackbox_feature(F, 'generic_in_text', generic_in_text)"
   ]
  },
  {
   "cell_type": "code",
   "execution_count": 88,
   "metadata": {},
   "outputs": [
    {
     "data": {
      "text/html": [
       "<div>\n",
       "<style scoped>\n",
       "    .dataframe tbody tr th:only-of-type {\n",
       "        vertical-align: middle;\n",
       "    }\n",
       "\n",
       "    .dataframe tbody tr th {\n",
       "        vertical-align: top;\n",
       "    }\n",
       "\n",
       "    .dataframe thead th {\n",
       "        text-align: right;\n",
       "    }\n",
       "</style>\n",
       "<table border=\"1\" class=\"dataframe\">\n",
       "  <thead>\n",
       "    <tr style=\"text-align: right;\">\n",
       "      <th></th>\n",
       "      <th>feature_name</th>\n",
       "      <th>left_attribute</th>\n",
       "      <th>right_attribute</th>\n",
       "      <th>left_attr_tokenizer</th>\n",
       "      <th>right_attr_tokenizer</th>\n",
       "      <th>simfunction</th>\n",
       "      <th>function</th>\n",
       "      <th>function_source</th>\n",
       "      <th>is_auto_generated</th>\n",
       "    </tr>\n",
       "  </thead>\n",
       "  <tbody>\n",
       "    <tr>\n",
       "      <th>0</th>\n",
       "      <td>id_id_exm</td>\n",
       "      <td>id</td>\n",
       "      <td>id</td>\n",
       "      <td>None</td>\n",
       "      <td>None</td>\n",
       "      <td>exact_match</td>\n",
       "      <td>&lt;function id_id_exm at 0x000002281B231CA8&gt;</td>\n",
       "      <td>from py_entitymatching.feature.simfunctions import *\\nfrom py_entitymatching.feature.tokenizers ...</td>\n",
       "      <td>True</td>\n",
       "    </tr>\n",
       "    <tr>\n",
       "      <th>1</th>\n",
       "      <td>id_id_anm</td>\n",
       "      <td>id</td>\n",
       "      <td>id</td>\n",
       "      <td>None</td>\n",
       "      <td>None</td>\n",
       "      <td>abs_norm</td>\n",
       "      <td>&lt;function id_id_anm at 0x0000022815F13708&gt;</td>\n",
       "      <td>from py_entitymatching.feature.simfunctions import *\\nfrom py_entitymatching.feature.tokenizers ...</td>\n",
       "      <td>True</td>\n",
       "    </tr>\n",
       "    <tr>\n",
       "      <th>2</th>\n",
       "      <td>id_id_lev_dist</td>\n",
       "      <td>id</td>\n",
       "      <td>id</td>\n",
       "      <td>None</td>\n",
       "      <td>None</td>\n",
       "      <td>lev_dist</td>\n",
       "      <td>&lt;function id_id_lev_dist at 0x0000022815F131F8&gt;</td>\n",
       "      <td>from py_entitymatching.feature.simfunctions import *\\nfrom py_entitymatching.feature.tokenizers ...</td>\n",
       "      <td>True</td>\n",
       "    </tr>\n",
       "    <tr>\n",
       "      <th>3</th>\n",
       "      <td>id_id_lev_sim</td>\n",
       "      <td>id</td>\n",
       "      <td>id</td>\n",
       "      <td>None</td>\n",
       "      <td>None</td>\n",
       "      <td>lev_sim</td>\n",
       "      <td>&lt;function id_id_lev_sim at 0x0000022815F13828&gt;</td>\n",
       "      <td>from py_entitymatching.feature.simfunctions import *\\nfrom py_entitymatching.feature.tokenizers ...</td>\n",
       "      <td>True</td>\n",
       "    </tr>\n",
       "    <tr>\n",
       "      <th>4</th>\n",
       "      <td>jac_ws_name_tokTitleNews</td>\n",
       "      <td>PARSE_EXP</td>\n",
       "      <td>PARSE_EXP</td>\n",
       "      <td>PARSE_EXP</td>\n",
       "      <td>PARSE_EXP</td>\n",
       "      <td>PARSE_EXP</td>\n",
       "      <td>&lt;function fn at 0x000002281B231168&gt;</td>\n",
       "      <td>def fn(ltuple, rtuple):\\n    return dice(wspace(ltuple['name']),\\n                              ...</td>\n",
       "      <td>False</td>\n",
       "    </tr>\n",
       "    <tr>\n",
       "      <th>5</th>\n",
       "      <td>dc_ws_name_tokTitleNews</td>\n",
       "      <td>PARSE_EXP</td>\n",
       "      <td>PARSE_EXP</td>\n",
       "      <td>PARSE_EXP</td>\n",
       "      <td>PARSE_EXP</td>\n",
       "      <td>PARSE_EXP</td>\n",
       "      <td>&lt;function fn at 0x00000228179C25E8&gt;</td>\n",
       "      <td>def fn(ltuple, rtuple):\\n    return dice(wspace(ltuple['name']),\\n                              ...</td>\n",
       "      <td>False</td>\n",
       "    </tr>\n",
       "    <tr>\n",
       "      <th>6</th>\n",
       "      <td>cos_ws_name_tokTitleNews</td>\n",
       "      <td>PARSE_EXP</td>\n",
       "      <td>PARSE_EXP</td>\n",
       "      <td>PARSE_EXP</td>\n",
       "      <td>PARSE_EXP</td>\n",
       "      <td>PARSE_EXP</td>\n",
       "      <td>&lt;function fn at 0x00000228190A40D8&gt;</td>\n",
       "      <td>def fn(ltuple, rtuple):\\n    return cosine(wspace(ltuple['name']),\\n                            ...</td>\n",
       "      <td>False</td>\n",
       "    </tr>\n",
       "    <tr>\n",
       "      <th>7</th>\n",
       "      <td>street_name_present</td>\n",
       "      <td>None</td>\n",
       "      <td>None</td>\n",
       "      <td>None</td>\n",
       "      <td>None</td>\n",
       "      <td>None</td>\n",
       "      <td>&lt;function street_name_titleselftext_exact_feature at 0x000002281908A9D8&gt;</td>\n",
       "      <td>None</td>\n",
       "      <td>False</td>\n",
       "    </tr>\n",
       "    <tr>\n",
       "      <th>8</th>\n",
       "      <td>num_alt_matches</td>\n",
       "      <td>None</td>\n",
       "      <td>None</td>\n",
       "      <td>None</td>\n",
       "      <td>None</td>\n",
       "      <td>None</td>\n",
       "      <td>&lt;function num_alt_matches at 0x00000228147DF1F8&gt;</td>\n",
       "      <td>None</td>\n",
       "      <td>False</td>\n",
       "    </tr>\n",
       "  </tbody>\n",
       "</table>\n",
       "</div>"
      ],
      "text/plain": [
       "               feature_name left_attribute right_attribute  \\\n",
       "0                 id_id_exm             id              id   \n",
       "1                 id_id_anm             id              id   \n",
       "2            id_id_lev_dist             id              id   \n",
       "3             id_id_lev_sim             id              id   \n",
       "4  jac_ws_name_tokTitleNews      PARSE_EXP       PARSE_EXP   \n",
       "5   dc_ws_name_tokTitleNews      PARSE_EXP       PARSE_EXP   \n",
       "6  cos_ws_name_tokTitleNews      PARSE_EXP       PARSE_EXP   \n",
       "7       street_name_present           None            None   \n",
       "8           num_alt_matches           None            None   \n",
       "\n",
       "  left_attr_tokenizer right_attr_tokenizer  simfunction  \\\n",
       "0                None                 None  exact_match   \n",
       "1                None                 None     abs_norm   \n",
       "2                None                 None     lev_dist   \n",
       "3                None                 None      lev_sim   \n",
       "4           PARSE_EXP            PARSE_EXP    PARSE_EXP   \n",
       "5           PARSE_EXP            PARSE_EXP    PARSE_EXP   \n",
       "6           PARSE_EXP            PARSE_EXP    PARSE_EXP   \n",
       "7                None                 None         None   \n",
       "8                None                 None         None   \n",
       "\n",
       "                                                                   function  \\\n",
       "0                                <function id_id_exm at 0x000002281B231CA8>   \n",
       "1                                <function id_id_anm at 0x0000022815F13708>   \n",
       "2                           <function id_id_lev_dist at 0x0000022815F131F8>   \n",
       "3                            <function id_id_lev_sim at 0x0000022815F13828>   \n",
       "4                                       <function fn at 0x000002281B231168>   \n",
       "5                                       <function fn at 0x00000228179C25E8>   \n",
       "6                                       <function fn at 0x00000228190A40D8>   \n",
       "7  <function street_name_titleselftext_exact_feature at 0x000002281908A9D8>   \n",
       "8                          <function num_alt_matches at 0x00000228147DF1F8>   \n",
       "\n",
       "                                                                                       function_source  \\\n",
       "0  from py_entitymatching.feature.simfunctions import *\\nfrom py_entitymatching.feature.tokenizers ...   \n",
       "1  from py_entitymatching.feature.simfunctions import *\\nfrom py_entitymatching.feature.tokenizers ...   \n",
       "2  from py_entitymatching.feature.simfunctions import *\\nfrom py_entitymatching.feature.tokenizers ...   \n",
       "3  from py_entitymatching.feature.simfunctions import *\\nfrom py_entitymatching.feature.tokenizers ...   \n",
       "4  def fn(ltuple, rtuple):\\n    return dice(wspace(ltuple['name']),\\n                              ...   \n",
       "5  def fn(ltuple, rtuple):\\n    return dice(wspace(ltuple['name']),\\n                              ...   \n",
       "6  def fn(ltuple, rtuple):\\n    return cosine(wspace(ltuple['name']),\\n                            ...   \n",
       "7                                                                                                 None   \n",
       "8                                                                                                 None   \n",
       "\n",
       "   is_auto_generated  \n",
       "0               True  \n",
       "1               True  \n",
       "2               True  \n",
       "3               True  \n",
       "4              False  \n",
       "5              False  \n",
       "6              False  \n",
       "7              False  \n",
       "8              False  "
      ]
     },
     "execution_count": 88,
     "metadata": {},
     "output_type": "execute_result"
    }
   ],
   "source": [
    "F"
   ]
  },
  {
   "cell_type": "code",
   "execution_count": 89,
   "metadata": {},
   "outputs": [],
   "source": [
    "# Remove id based features\n",
    "F = F[~F['feature_name'].str.contains('id')].copy().reset_index(drop=True)"
   ]
  },
  {
   "cell_type": "code",
   "execution_count": 90,
   "metadata": {},
   "outputs": [
    {
     "data": {
      "text/html": [
       "<div>\n",
       "<style scoped>\n",
       "    .dataframe tbody tr th:only-of-type {\n",
       "        vertical-align: middle;\n",
       "    }\n",
       "\n",
       "    .dataframe tbody tr th {\n",
       "        vertical-align: top;\n",
       "    }\n",
       "\n",
       "    .dataframe thead th {\n",
       "        text-align: right;\n",
       "    }\n",
       "</style>\n",
       "<table border=\"1\" class=\"dataframe\">\n",
       "  <thead>\n",
       "    <tr style=\"text-align: right;\">\n",
       "      <th></th>\n",
       "      <th>feature_name</th>\n",
       "      <th>left_attribute</th>\n",
       "      <th>right_attribute</th>\n",
       "      <th>left_attr_tokenizer</th>\n",
       "      <th>right_attr_tokenizer</th>\n",
       "      <th>simfunction</th>\n",
       "      <th>function</th>\n",
       "      <th>function_source</th>\n",
       "      <th>is_auto_generated</th>\n",
       "    </tr>\n",
       "  </thead>\n",
       "  <tbody>\n",
       "    <tr>\n",
       "      <th>0</th>\n",
       "      <td>jac_ws_name_tokTitleNews</td>\n",
       "      <td>PARSE_EXP</td>\n",
       "      <td>PARSE_EXP</td>\n",
       "      <td>PARSE_EXP</td>\n",
       "      <td>PARSE_EXP</td>\n",
       "      <td>PARSE_EXP</td>\n",
       "      <td>&lt;function fn at 0x000002281B231168&gt;</td>\n",
       "      <td>def fn(ltuple, rtuple):\\n    return dice(wspace(ltuple['name']),\\n                              ...</td>\n",
       "      <td>False</td>\n",
       "    </tr>\n",
       "    <tr>\n",
       "      <th>1</th>\n",
       "      <td>dc_ws_name_tokTitleNews</td>\n",
       "      <td>PARSE_EXP</td>\n",
       "      <td>PARSE_EXP</td>\n",
       "      <td>PARSE_EXP</td>\n",
       "      <td>PARSE_EXP</td>\n",
       "      <td>PARSE_EXP</td>\n",
       "      <td>&lt;function fn at 0x00000228179C25E8&gt;</td>\n",
       "      <td>def fn(ltuple, rtuple):\\n    return dice(wspace(ltuple['name']),\\n                              ...</td>\n",
       "      <td>False</td>\n",
       "    </tr>\n",
       "    <tr>\n",
       "      <th>2</th>\n",
       "      <td>cos_ws_name_tokTitleNews</td>\n",
       "      <td>PARSE_EXP</td>\n",
       "      <td>PARSE_EXP</td>\n",
       "      <td>PARSE_EXP</td>\n",
       "      <td>PARSE_EXP</td>\n",
       "      <td>PARSE_EXP</td>\n",
       "      <td>&lt;function fn at 0x00000228190A40D8&gt;</td>\n",
       "      <td>def fn(ltuple, rtuple):\\n    return cosine(wspace(ltuple['name']),\\n                            ...</td>\n",
       "      <td>False</td>\n",
       "    </tr>\n",
       "    <tr>\n",
       "      <th>3</th>\n",
       "      <td>street_name_present</td>\n",
       "      <td>None</td>\n",
       "      <td>None</td>\n",
       "      <td>None</td>\n",
       "      <td>None</td>\n",
       "      <td>None</td>\n",
       "      <td>&lt;function street_name_titleselftext_exact_feature at 0x000002281908A9D8&gt;</td>\n",
       "      <td>None</td>\n",
       "      <td>False</td>\n",
       "    </tr>\n",
       "    <tr>\n",
       "      <th>4</th>\n",
       "      <td>num_alt_matches</td>\n",
       "      <td>None</td>\n",
       "      <td>None</td>\n",
       "      <td>None</td>\n",
       "      <td>None</td>\n",
       "      <td>None</td>\n",
       "      <td>&lt;function num_alt_matches at 0x00000228147DF1F8&gt;</td>\n",
       "      <td>None</td>\n",
       "      <td>False</td>\n",
       "    </tr>\n",
       "  </tbody>\n",
       "</table>\n",
       "</div>"
      ],
      "text/plain": [
       "               feature_name left_attribute right_attribute  \\\n",
       "0  jac_ws_name_tokTitleNews      PARSE_EXP       PARSE_EXP   \n",
       "1   dc_ws_name_tokTitleNews      PARSE_EXP       PARSE_EXP   \n",
       "2  cos_ws_name_tokTitleNews      PARSE_EXP       PARSE_EXP   \n",
       "3       street_name_present           None            None   \n",
       "4           num_alt_matches           None            None   \n",
       "\n",
       "  left_attr_tokenizer right_attr_tokenizer simfunction  \\\n",
       "0           PARSE_EXP            PARSE_EXP   PARSE_EXP   \n",
       "1           PARSE_EXP            PARSE_EXP   PARSE_EXP   \n",
       "2           PARSE_EXP            PARSE_EXP   PARSE_EXP   \n",
       "3                None                 None        None   \n",
       "4                None                 None        None   \n",
       "\n",
       "                                                                   function  \\\n",
       "0                                       <function fn at 0x000002281B231168>   \n",
       "1                                       <function fn at 0x00000228179C25E8>   \n",
       "2                                       <function fn at 0x00000228190A40D8>   \n",
       "3  <function street_name_titleselftext_exact_feature at 0x000002281908A9D8>   \n",
       "4                          <function num_alt_matches at 0x00000228147DF1F8>   \n",
       "\n",
       "                                                                                       function_source  \\\n",
       "0  def fn(ltuple, rtuple):\\n    return dice(wspace(ltuple['name']),\\n                              ...   \n",
       "1  def fn(ltuple, rtuple):\\n    return dice(wspace(ltuple['name']),\\n                              ...   \n",
       "2  def fn(ltuple, rtuple):\\n    return cosine(wspace(ltuple['name']),\\n                            ...   \n",
       "3                                                                                                 None   \n",
       "4                                                                                                 None   \n",
       "\n",
       "   is_auto_generated  \n",
       "0              False  \n",
       "1              False  \n",
       "2              False  \n",
       "3              False  \n",
       "4              False  "
      ]
     },
     "execution_count": 90,
     "metadata": {},
     "output_type": "execute_result"
    }
   ],
   "source": [
    "F"
   ]
  },
  {
   "cell_type": "markdown",
   "metadata": {},
   "source": [
    "## Select Matcher"
   ]
  },
  {
   "cell_type": "code",
   "execution_count": 91,
   "metadata": {},
   "outputs": [
    {
     "name": "stderr",
     "output_type": "stream",
     "text": [
      "C:\\Users\\rmartinez4\\Anaconda3\\envs\\py37\\lib\\site-packages\\py_entitymatching\\feature\\extractfeatures.py:157: FutureWarning: The pandas.np module is deprecated and will be removed from pandas in a future version. Import numpy directly instead\n",
      "  c_splits = pd.np.array_split(candset, n_procs)\n"
     ]
    }
   ],
   "source": [
    "H = em.extract_feature_vecs(I, \n",
    "                            feature_table=F, \n",
    "                            attrs_after='gold_label',\n",
    "                            show_progress=False)"
   ]
  },
  {
   "cell_type": "code",
   "execution_count": 92,
   "metadata": {},
   "outputs": [
    {
     "data": {
      "text/html": [
       "<div>\n",
       "<style scoped>\n",
       "    .dataframe tbody tr th:only-of-type {\n",
       "        vertical-align: middle;\n",
       "    }\n",
       "\n",
       "    .dataframe tbody tr th {\n",
       "        vertical-align: top;\n",
       "    }\n",
       "\n",
       "    .dataframe thead th {\n",
       "        text-align: right;\n",
       "    }\n",
       "</style>\n",
       "<table border=\"1\" class=\"dataframe\">\n",
       "  <thead>\n",
       "    <tr style=\"text-align: right;\">\n",
       "      <th></th>\n",
       "      <th>_id</th>\n",
       "      <th>ltable_id</th>\n",
       "      <th>rtable_id</th>\n",
       "      <th>jac_ws_name_tokTitleNews</th>\n",
       "      <th>dc_ws_name_tokTitleNews</th>\n",
       "      <th>cos_ws_name_tokTitleNews</th>\n",
       "      <th>street_name_present</th>\n",
       "      <th>num_alt_matches</th>\n",
       "      <th>gold_label</th>\n",
       "    </tr>\n",
       "  </thead>\n",
       "  <tbody>\n",
       "    <tr>\n",
       "      <th>310</th>\n",
       "      <td>9915</td>\n",
       "      <td>315</td>\n",
       "      <td>119760</td>\n",
       "      <td>0.020619</td>\n",
       "      <td>0.020619</td>\n",
       "      <td>0.102062</td>\n",
       "      <td>1</td>\n",
       "      <td>1</td>\n",
       "      <td>0</td>\n",
       "    </tr>\n",
       "    <tr>\n",
       "      <th>176</th>\n",
       "      <td>2936</td>\n",
       "      <td>13</td>\n",
       "      <td>254800</td>\n",
       "      <td>0.022727</td>\n",
       "      <td>0.022727</td>\n",
       "      <td>0.107211</td>\n",
       "      <td>1</td>\n",
       "      <td>1</td>\n",
       "      <td>1</td>\n",
       "    </tr>\n",
       "    <tr>\n",
       "      <th>390</th>\n",
       "      <td>20194</td>\n",
       "      <td>340</td>\n",
       "      <td>203624</td>\n",
       "      <td>0.042105</td>\n",
       "      <td>0.042105</td>\n",
       "      <td>0.146647</td>\n",
       "      <td>1</td>\n",
       "      <td>2</td>\n",
       "      <td>1</td>\n",
       "    </tr>\n",
       "    <tr>\n",
       "      <th>116</th>\n",
       "      <td>2082</td>\n",
       "      <td>13</td>\n",
       "      <td>208380</td>\n",
       "      <td>0.019417</td>\n",
       "      <td>0.019417</td>\n",
       "      <td>0.099015</td>\n",
       "      <td>1</td>\n",
       "      <td>1</td>\n",
       "      <td>1</td>\n",
       "    </tr>\n",
       "    <tr>\n",
       "      <th>168</th>\n",
       "      <td>2738</td>\n",
       "      <td>1</td>\n",
       "      <td>251089</td>\n",
       "      <td>0.022727</td>\n",
       "      <td>0.022727</td>\n",
       "      <td>0.107211</td>\n",
       "      <td>1</td>\n",
       "      <td>1</td>\n",
       "      <td>0</td>\n",
       "    </tr>\n",
       "  </tbody>\n",
       "</table>\n",
       "</div>"
      ],
      "text/plain": [
       "       _id  ltable_id  rtable_id  jac_ws_name_tokTitleNews  \\\n",
       "310   9915        315     119760                  0.020619   \n",
       "176   2936         13     254800                  0.022727   \n",
       "390  20194        340     203624                  0.042105   \n",
       "116   2082         13     208380                  0.019417   \n",
       "168   2738          1     251089                  0.022727   \n",
       "\n",
       "     dc_ws_name_tokTitleNews  cos_ws_name_tokTitleNews  street_name_present  \\\n",
       "310                 0.020619                  0.102062                    1   \n",
       "176                 0.022727                  0.107211                    1   \n",
       "390                 0.042105                  0.146647                    1   \n",
       "116                 0.019417                  0.099015                    1   \n",
       "168                 0.022727                  0.107211                    1   \n",
       "\n",
       "     num_alt_matches  gold_label  \n",
       "310                1           0  \n",
       "176                1           1  \n",
       "390                2           1  \n",
       "116                1           1  \n",
       "168                1           0  "
      ]
     },
     "execution_count": 92,
     "metadata": {},
     "output_type": "execute_result"
    }
   ],
   "source": [
    "H.head()"
   ]
  },
  {
   "cell_type": "code",
   "execution_count": 93,
   "metadata": {},
   "outputs": [
    {
     "name": "stderr",
     "output_type": "stream",
     "text": [
      "C:\\Users\\rmartinez4\\Anaconda3\\envs\\py37\\lib\\site-packages\\py_entitymatching\\matcherselector\\mlmatcherselection.py:128: FutureWarning: The pandas.np module is deprecated and will be removed from pandas in a future version. Import numpy directly instead\n",
      "  val_list.append(pd.np.mean(scores))\n",
      "C:\\Users\\rmartinez4\\Anaconda3\\envs\\py37\\lib\\site-packages\\py_entitymatching\\matcherselector\\mlmatcherselection.py:132: FutureWarning: The pandas.np module is deprecated and will be removed from pandas in a future version. Import numpy directly instead\n",
      "  mean_score_list.append(pd.np.mean(scores))\n",
      "C:\\Users\\rmartinez4\\Anaconda3\\envs\\py37\\lib\\site-packages\\py_entitymatching\\matcherselector\\mlmatcherselection.py:134: FutureWarning: The pandas.np module is deprecated and will be removed from pandas in a future version. Import numpy directly instead\n",
      "  if met == metric_to_select_matcher and pd.np.mean(scores) > max_score:\n",
      "C:\\Users\\rmartinez4\\Anaconda3\\envs\\py37\\lib\\site-packages\\py_entitymatching\\matcherselector\\mlmatcherselection.py:136: FutureWarning: The pandas.np module is deprecated and will be removed from pandas in a future version. Import numpy directly instead\n",
      "  max_score = pd.np.mean(scores)\n"
     ]
    },
    {
     "data": {
      "text/html": [
       "<div>\n",
       "<style scoped>\n",
       "    .dataframe tbody tr th:only-of-type {\n",
       "        vertical-align: middle;\n",
       "    }\n",
       "\n",
       "    .dataframe tbody tr th {\n",
       "        vertical-align: top;\n",
       "    }\n",
       "\n",
       "    .dataframe thead th {\n",
       "        text-align: right;\n",
       "    }\n",
       "</style>\n",
       "<table border=\"1\" class=\"dataframe\">\n",
       "  <thead>\n",
       "    <tr style=\"text-align: right;\">\n",
       "      <th></th>\n",
       "      <th>Matcher</th>\n",
       "      <th>Average precision</th>\n",
       "      <th>Average recall</th>\n",
       "      <th>Average f1</th>\n",
       "    </tr>\n",
       "  </thead>\n",
       "  <tbody>\n",
       "    <tr>\n",
       "      <th>0</th>\n",
       "      <td>DecisionTree</td>\n",
       "      <td>0.833811</td>\n",
       "      <td>0.832909</td>\n",
       "      <td>0.828410</td>\n",
       "    </tr>\n",
       "    <tr>\n",
       "      <th>1</th>\n",
       "      <td>RF</td>\n",
       "      <td>0.817599</td>\n",
       "      <td>0.880388</td>\n",
       "      <td>0.843995</td>\n",
       "    </tr>\n",
       "    <tr>\n",
       "      <th>2</th>\n",
       "      <td>SVM</td>\n",
       "      <td>0.763636</td>\n",
       "      <td>1.000000</td>\n",
       "      <td>0.863998</td>\n",
       "    </tr>\n",
       "    <tr>\n",
       "      <th>3</th>\n",
       "      <td>LinReg</td>\n",
       "      <td>0.769032</td>\n",
       "      <td>0.985899</td>\n",
       "      <td>0.862365</td>\n",
       "    </tr>\n",
       "    <tr>\n",
       "      <th>4</th>\n",
       "      <td>LogReg</td>\n",
       "      <td>0.763636</td>\n",
       "      <td>1.000000</td>\n",
       "      <td>0.863998</td>\n",
       "    </tr>\n",
       "  </tbody>\n",
       "</table>\n",
       "</div>"
      ],
      "text/plain": [
       "        Matcher  Average precision  Average recall  Average f1\n",
       "0  DecisionTree           0.833811        0.832909    0.828410\n",
       "1            RF           0.817599        0.880388    0.843995\n",
       "2           SVM           0.763636        1.000000    0.863998\n",
       "3        LinReg           0.769032        0.985899    0.862365\n",
       "4        LogReg           0.763636        1.000000    0.863998"
      ]
     },
     "execution_count": 93,
     "metadata": {},
     "output_type": "execute_result"
    }
   ],
   "source": [
    "# Select the best ML matcher using CV\n",
    "result = em.select_matcher([dt, rf, svm, ln, lg], table=H, \n",
    "        exclude_attrs=['_id', 'ltable_id', 'rtable_id', 'gold_label'],\n",
    "        k=5,\n",
    "        target_attr='gold_label', metric_to_select_matcher='f1', random_state=0)\n",
    "result['cv_stats']"
   ]
  },
  {
   "cell_type": "code",
   "execution_count": 94,
   "metadata": {},
   "outputs": [
    {
     "data": {
      "text/html": [
       "<div>\n",
       "<style scoped>\n",
       "    .dataframe tbody tr th:only-of-type {\n",
       "        vertical-align: middle;\n",
       "    }\n",
       "\n",
       "    .dataframe tbody tr th {\n",
       "        vertical-align: top;\n",
       "    }\n",
       "\n",
       "    .dataframe thead th {\n",
       "        text-align: right;\n",
       "    }\n",
       "</style>\n",
       "<table border=\"1\" class=\"dataframe\">\n",
       "  <thead>\n",
       "    <tr style=\"text-align: right;\">\n",
       "      <th></th>\n",
       "      <th>Name</th>\n",
       "      <th>Matcher</th>\n",
       "      <th>Num folds</th>\n",
       "      <th>Fold 1</th>\n",
       "      <th>Fold 2</th>\n",
       "      <th>Fold 3</th>\n",
       "      <th>Fold 4</th>\n",
       "      <th>Fold 5</th>\n",
       "      <th>Mean score</th>\n",
       "    </tr>\n",
       "  </thead>\n",
       "  <tbody>\n",
       "    <tr>\n",
       "      <th>0</th>\n",
       "      <td>DecisionTree</td>\n",
       "      <td>&lt;py_entitymatching.matcher.dtmatcher.DTMatcher object at 0x000002293A5249C8&gt;</td>\n",
       "      <td>5</td>\n",
       "      <td>0.883721</td>\n",
       "      <td>0.864865</td>\n",
       "      <td>0.725490</td>\n",
       "      <td>0.857143</td>\n",
       "      <td>0.837838</td>\n",
       "      <td>0.833811</td>\n",
       "    </tr>\n",
       "    <tr>\n",
       "      <th>1</th>\n",
       "      <td>RF</td>\n",
       "      <td>&lt;py_entitymatching.matcher.rfmatcher.RFMatcher object at 0x000002293A524B08&gt;</td>\n",
       "      <td>5</td>\n",
       "      <td>0.888889</td>\n",
       "      <td>0.822222</td>\n",
       "      <td>0.711538</td>\n",
       "      <td>0.860465</td>\n",
       "      <td>0.804878</td>\n",
       "      <td>0.817599</td>\n",
       "    </tr>\n",
       "    <tr>\n",
       "      <th>2</th>\n",
       "      <td>SVM</td>\n",
       "      <td>&lt;py_entitymatching.matcher.svmmatcher.SVMMatcher object at 0x000002293A524488&gt;</td>\n",
       "      <td>5</td>\n",
       "      <td>0.854545</td>\n",
       "      <td>0.763636</td>\n",
       "      <td>0.690909</td>\n",
       "      <td>0.836364</td>\n",
       "      <td>0.672727</td>\n",
       "      <td>0.763636</td>\n",
       "    </tr>\n",
       "    <tr>\n",
       "      <th>3</th>\n",
       "      <td>LinReg</td>\n",
       "      <td>&lt;py_entitymatching.matcher.linregmatcher.LinRegMatcher object at 0x000002293A5244C8&gt;</td>\n",
       "      <td>5</td>\n",
       "      <td>0.854545</td>\n",
       "      <td>0.763636</td>\n",
       "      <td>0.690909</td>\n",
       "      <td>0.830189</td>\n",
       "      <td>0.705882</td>\n",
       "      <td>0.769032</td>\n",
       "    </tr>\n",
       "    <tr>\n",
       "      <th>4</th>\n",
       "      <td>LogReg</td>\n",
       "      <td>&lt;py_entitymatching.matcher.logregmatcher.LogRegMatcher object at 0x000002293A524A88&gt;</td>\n",
       "      <td>5</td>\n",
       "      <td>0.854545</td>\n",
       "      <td>0.763636</td>\n",
       "      <td>0.690909</td>\n",
       "      <td>0.836364</td>\n",
       "      <td>0.672727</td>\n",
       "      <td>0.763636</td>\n",
       "    </tr>\n",
       "  </tbody>\n",
       "</table>\n",
       "</div>"
      ],
      "text/plain": [
       "           Name  \\\n",
       "0  DecisionTree   \n",
       "1            RF   \n",
       "2           SVM   \n",
       "3        LinReg   \n",
       "4        LogReg   \n",
       "\n",
       "                                                                                Matcher  \\\n",
       "0          <py_entitymatching.matcher.dtmatcher.DTMatcher object at 0x000002293A5249C8>   \n",
       "1          <py_entitymatching.matcher.rfmatcher.RFMatcher object at 0x000002293A524B08>   \n",
       "2        <py_entitymatching.matcher.svmmatcher.SVMMatcher object at 0x000002293A524488>   \n",
       "3  <py_entitymatching.matcher.linregmatcher.LinRegMatcher object at 0x000002293A5244C8>   \n",
       "4  <py_entitymatching.matcher.logregmatcher.LogRegMatcher object at 0x000002293A524A88>   \n",
       "\n",
       "   Num folds    Fold 1    Fold 2    Fold 3    Fold 4    Fold 5  Mean score  \n",
       "0          5  0.883721  0.864865  0.725490  0.857143  0.837838    0.833811  \n",
       "1          5  0.888889  0.822222  0.711538  0.860465  0.804878    0.817599  \n",
       "2          5  0.854545  0.763636  0.690909  0.836364  0.672727    0.763636  \n",
       "3          5  0.854545  0.763636  0.690909  0.830189  0.705882    0.769032  \n",
       "4          5  0.854545  0.763636  0.690909  0.836364  0.672727    0.763636  "
      ]
     },
     "execution_count": 94,
     "metadata": {},
     "output_type": "execute_result"
    }
   ],
   "source": [
    "result['drill_down_cv_stats']['precision']"
   ]
  },
  {
   "cell_type": "code",
   "execution_count": 95,
   "metadata": {},
   "outputs": [
    {
     "data": {
      "text/html": [
       "<div>\n",
       "<style scoped>\n",
       "    .dataframe tbody tr th:only-of-type {\n",
       "        vertical-align: middle;\n",
       "    }\n",
       "\n",
       "    .dataframe tbody tr th {\n",
       "        vertical-align: top;\n",
       "    }\n",
       "\n",
       "    .dataframe thead th {\n",
       "        text-align: right;\n",
       "    }\n",
       "</style>\n",
       "<table border=\"1\" class=\"dataframe\">\n",
       "  <thead>\n",
       "    <tr style=\"text-align: right;\">\n",
       "      <th></th>\n",
       "      <th>Name</th>\n",
       "      <th>Matcher</th>\n",
       "      <th>Num folds</th>\n",
       "      <th>Fold 1</th>\n",
       "      <th>Fold 2</th>\n",
       "      <th>Fold 3</th>\n",
       "      <th>Fold 4</th>\n",
       "      <th>Fold 5</th>\n",
       "      <th>Mean score</th>\n",
       "    </tr>\n",
       "  </thead>\n",
       "  <tbody>\n",
       "    <tr>\n",
       "      <th>0</th>\n",
       "      <td>DecisionTree</td>\n",
       "      <td>&lt;py_entitymatching.matcher.dtmatcher.DTMatcher object at 0x000002293A5249C8&gt;</td>\n",
       "      <td>5</td>\n",
       "      <td>0.808511</td>\n",
       "      <td>0.761905</td>\n",
       "      <td>0.973684</td>\n",
       "      <td>0.782609</td>\n",
       "      <td>0.837838</td>\n",
       "      <td>0.832909</td>\n",
       "    </tr>\n",
       "    <tr>\n",
       "      <th>1</th>\n",
       "      <td>RF</td>\n",
       "      <td>&lt;py_entitymatching.matcher.rfmatcher.RFMatcher object at 0x000002293A524B08&gt;</td>\n",
       "      <td>5</td>\n",
       "      <td>0.851064</td>\n",
       "      <td>0.880952</td>\n",
       "      <td>0.973684</td>\n",
       "      <td>0.804348</td>\n",
       "      <td>0.891892</td>\n",
       "      <td>0.880388</td>\n",
       "    </tr>\n",
       "    <tr>\n",
       "      <th>2</th>\n",
       "      <td>SVM</td>\n",
       "      <td>&lt;py_entitymatching.matcher.svmmatcher.SVMMatcher object at 0x000002293A524488&gt;</td>\n",
       "      <td>5</td>\n",
       "      <td>1.000000</td>\n",
       "      <td>1.000000</td>\n",
       "      <td>1.000000</td>\n",
       "      <td>1.000000</td>\n",
       "      <td>1.000000</td>\n",
       "      <td>1.000000</td>\n",
       "    </tr>\n",
       "    <tr>\n",
       "      <th>3</th>\n",
       "      <td>LinReg</td>\n",
       "      <td>&lt;py_entitymatching.matcher.linregmatcher.LinRegMatcher object at 0x000002293A5244C8&gt;</td>\n",
       "      <td>5</td>\n",
       "      <td>1.000000</td>\n",
       "      <td>1.000000</td>\n",
       "      <td>1.000000</td>\n",
       "      <td>0.956522</td>\n",
       "      <td>0.972973</td>\n",
       "      <td>0.985899</td>\n",
       "    </tr>\n",
       "    <tr>\n",
       "      <th>4</th>\n",
       "      <td>LogReg</td>\n",
       "      <td>&lt;py_entitymatching.matcher.logregmatcher.LogRegMatcher object at 0x000002293A524A88&gt;</td>\n",
       "      <td>5</td>\n",
       "      <td>1.000000</td>\n",
       "      <td>1.000000</td>\n",
       "      <td>1.000000</td>\n",
       "      <td>1.000000</td>\n",
       "      <td>1.000000</td>\n",
       "      <td>1.000000</td>\n",
       "    </tr>\n",
       "  </tbody>\n",
       "</table>\n",
       "</div>"
      ],
      "text/plain": [
       "           Name  \\\n",
       "0  DecisionTree   \n",
       "1            RF   \n",
       "2           SVM   \n",
       "3        LinReg   \n",
       "4        LogReg   \n",
       "\n",
       "                                                                                Matcher  \\\n",
       "0          <py_entitymatching.matcher.dtmatcher.DTMatcher object at 0x000002293A5249C8>   \n",
       "1          <py_entitymatching.matcher.rfmatcher.RFMatcher object at 0x000002293A524B08>   \n",
       "2        <py_entitymatching.matcher.svmmatcher.SVMMatcher object at 0x000002293A524488>   \n",
       "3  <py_entitymatching.matcher.linregmatcher.LinRegMatcher object at 0x000002293A5244C8>   \n",
       "4  <py_entitymatching.matcher.logregmatcher.LogRegMatcher object at 0x000002293A524A88>   \n",
       "\n",
       "   Num folds    Fold 1    Fold 2    Fold 3    Fold 4    Fold 5  Mean score  \n",
       "0          5  0.808511  0.761905  0.973684  0.782609  0.837838    0.832909  \n",
       "1          5  0.851064  0.880952  0.973684  0.804348  0.891892    0.880388  \n",
       "2          5  1.000000  1.000000  1.000000  1.000000  1.000000    1.000000  \n",
       "3          5  1.000000  1.000000  1.000000  0.956522  0.972973    0.985899  \n",
       "4          5  1.000000  1.000000  1.000000  1.000000  1.000000    1.000000  "
      ]
     },
     "execution_count": 95,
     "metadata": {},
     "output_type": "execute_result"
    }
   ],
   "source": [
    "result['drill_down_cv_stats']['recall']"
   ]
  },
  {
   "cell_type": "code",
   "execution_count": 96,
   "metadata": {},
   "outputs": [
    {
     "data": {
      "text/html": [
       "<div>\n",
       "<style scoped>\n",
       "    .dataframe tbody tr th:only-of-type {\n",
       "        vertical-align: middle;\n",
       "    }\n",
       "\n",
       "    .dataframe tbody tr th {\n",
       "        vertical-align: top;\n",
       "    }\n",
       "\n",
       "    .dataframe thead th {\n",
       "        text-align: right;\n",
       "    }\n",
       "</style>\n",
       "<table border=\"1\" class=\"dataframe\">\n",
       "  <thead>\n",
       "    <tr style=\"text-align: right;\">\n",
       "      <th></th>\n",
       "      <th>Name</th>\n",
       "      <th>Matcher</th>\n",
       "      <th>Num folds</th>\n",
       "      <th>Fold 1</th>\n",
       "      <th>Fold 2</th>\n",
       "      <th>Fold 3</th>\n",
       "      <th>Fold 4</th>\n",
       "      <th>Fold 5</th>\n",
       "      <th>Mean score</th>\n",
       "    </tr>\n",
       "  </thead>\n",
       "  <tbody>\n",
       "    <tr>\n",
       "      <th>0</th>\n",
       "      <td>DecisionTree</td>\n",
       "      <td>&lt;py_entitymatching.matcher.dtmatcher.DTMatcher object at 0x000002293A5249C8&gt;</td>\n",
       "      <td>5</td>\n",
       "      <td>0.844444</td>\n",
       "      <td>0.810127</td>\n",
       "      <td>0.831461</td>\n",
       "      <td>0.818182</td>\n",
       "      <td>0.837838</td>\n",
       "      <td>0.828410</td>\n",
       "    </tr>\n",
       "    <tr>\n",
       "      <th>1</th>\n",
       "      <td>RF</td>\n",
       "      <td>&lt;py_entitymatching.matcher.rfmatcher.RFMatcher object at 0x000002293A524B08&gt;</td>\n",
       "      <td>5</td>\n",
       "      <td>0.869565</td>\n",
       "      <td>0.850575</td>\n",
       "      <td>0.822222</td>\n",
       "      <td>0.831461</td>\n",
       "      <td>0.846154</td>\n",
       "      <td>0.843995</td>\n",
       "    </tr>\n",
       "    <tr>\n",
       "      <th>2</th>\n",
       "      <td>SVM</td>\n",
       "      <td>&lt;py_entitymatching.matcher.svmmatcher.SVMMatcher object at 0x000002293A524488&gt;</td>\n",
       "      <td>5</td>\n",
       "      <td>0.921569</td>\n",
       "      <td>0.865979</td>\n",
       "      <td>0.817204</td>\n",
       "      <td>0.910891</td>\n",
       "      <td>0.804348</td>\n",
       "      <td>0.863998</td>\n",
       "    </tr>\n",
       "    <tr>\n",
       "      <th>3</th>\n",
       "      <td>LinReg</td>\n",
       "      <td>&lt;py_entitymatching.matcher.linregmatcher.LinRegMatcher object at 0x000002293A5244C8&gt;</td>\n",
       "      <td>5</td>\n",
       "      <td>0.921569</td>\n",
       "      <td>0.865979</td>\n",
       "      <td>0.817204</td>\n",
       "      <td>0.888889</td>\n",
       "      <td>0.818182</td>\n",
       "      <td>0.862365</td>\n",
       "    </tr>\n",
       "    <tr>\n",
       "      <th>4</th>\n",
       "      <td>LogReg</td>\n",
       "      <td>&lt;py_entitymatching.matcher.logregmatcher.LogRegMatcher object at 0x000002293A524A88&gt;</td>\n",
       "      <td>5</td>\n",
       "      <td>0.921569</td>\n",
       "      <td>0.865979</td>\n",
       "      <td>0.817204</td>\n",
       "      <td>0.910891</td>\n",
       "      <td>0.804348</td>\n",
       "      <td>0.863998</td>\n",
       "    </tr>\n",
       "  </tbody>\n",
       "</table>\n",
       "</div>"
      ],
      "text/plain": [
       "           Name  \\\n",
       "0  DecisionTree   \n",
       "1            RF   \n",
       "2           SVM   \n",
       "3        LinReg   \n",
       "4        LogReg   \n",
       "\n",
       "                                                                                Matcher  \\\n",
       "0          <py_entitymatching.matcher.dtmatcher.DTMatcher object at 0x000002293A5249C8>   \n",
       "1          <py_entitymatching.matcher.rfmatcher.RFMatcher object at 0x000002293A524B08>   \n",
       "2        <py_entitymatching.matcher.svmmatcher.SVMMatcher object at 0x000002293A524488>   \n",
       "3  <py_entitymatching.matcher.linregmatcher.LinRegMatcher object at 0x000002293A5244C8>   \n",
       "4  <py_entitymatching.matcher.logregmatcher.LogRegMatcher object at 0x000002293A524A88>   \n",
       "\n",
       "   Num folds    Fold 1    Fold 2    Fold 3    Fold 4    Fold 5  Mean score  \n",
       "0          5  0.844444  0.810127  0.831461  0.818182  0.837838    0.828410  \n",
       "1          5  0.869565  0.850575  0.822222  0.831461  0.846154    0.843995  \n",
       "2          5  0.921569  0.865979  0.817204  0.910891  0.804348    0.863998  \n",
       "3          5  0.921569  0.865979  0.817204  0.888889  0.818182    0.862365  \n",
       "4          5  0.921569  0.865979  0.817204  0.910891  0.804348    0.863998  "
      ]
     },
     "execution_count": 96,
     "metadata": {},
     "output_type": "execute_result"
    }
   ],
   "source": [
    "result['drill_down_cv_stats']['f1']"
   ]
  },
  {
   "cell_type": "markdown",
   "metadata": {},
   "source": [
    "## Train and Test Matcher"
   ]
  },
  {
   "cell_type": "code",
   "execution_count": 80,
   "metadata": {},
   "outputs": [],
   "source": [
    "# RandomForest did slightly better with Precision, and I think we're more interested in removing FPs than\n",
    "# maximizing TPs"
   ]
  },
  {
   "cell_type": "code",
   "execution_count": 99,
   "metadata": {},
   "outputs": [
    {
     "name": "stderr",
     "output_type": "stream",
     "text": [
      "C:\\Users\\rmartinez4\\Anaconda3\\envs\\py37\\lib\\site-packages\\sklearn\\ensemble\\forest.py:246: FutureWarning: The default value of n_estimators will change from 10 in version 0.20 to 100 in 0.22.\n",
      "  \"10 in version 0.20 to 100 in 0.22.\", FutureWarning)\n"
     ]
    }
   ],
   "source": [
    "rf.fit(table=H, exclude_attrs=['_id', 'ltable_id', 'rtable_id', 'gold_label'],\n",
    "        target_attr='gold_label')"
   ]
  },
  {
   "cell_type": "code",
   "execution_count": 100,
   "metadata": {},
   "outputs": [],
   "source": [
    "#import pickle\n",
    "\n",
    "#with open('./rf_matcher.pkl', 'wb') as f:\n",
    "#    pickle.dump(rf, f)"
   ]
  },
  {
   "cell_type": "code",
   "execution_count": 101,
   "metadata": {},
   "outputs": [
    {
     "name": "stderr",
     "output_type": "stream",
     "text": [
      "C:\\Users\\rmartinez4\\Anaconda3\\envs\\py37\\lib\\site-packages\\py_entitymatching\\feature\\extractfeatures.py:157: FutureWarning: The pandas.np module is deprecated and will be removed from pandas in a future version. Import numpy directly instead\n",
      "  c_splits = pd.np.array_split(candset, n_procs)\n"
     ]
    }
   ],
   "source": [
    "# Test\n",
    "test = em.extract_feature_vecs(J, \n",
    "                               feature_table=F, \n",
    "                               attrs_after='gold_label',\n",
    "                               show_progress=False)"
   ]
  },
  {
   "cell_type": "code",
   "execution_count": 102,
   "metadata": {},
   "outputs": [
    {
     "data": {
      "text/html": [
       "<div>\n",
       "<style scoped>\n",
       "    .dataframe tbody tr th:only-of-type {\n",
       "        vertical-align: middle;\n",
       "    }\n",
       "\n",
       "    .dataframe tbody tr th {\n",
       "        vertical-align: top;\n",
       "    }\n",
       "\n",
       "    .dataframe thead th {\n",
       "        text-align: right;\n",
       "    }\n",
       "</style>\n",
       "<table border=\"1\" class=\"dataframe\">\n",
       "  <thead>\n",
       "    <tr style=\"text-align: right;\">\n",
       "      <th></th>\n",
       "      <th>_id</th>\n",
       "      <th>ltable_id</th>\n",
       "      <th>rtable_id</th>\n",
       "      <th>jac_ws_name_tokTitleNews</th>\n",
       "      <th>dc_ws_name_tokTitleNews</th>\n",
       "      <th>cos_ws_name_tokTitleNews</th>\n",
       "      <th>street_name_present</th>\n",
       "      <th>num_alt_matches</th>\n",
       "      <th>gold_label</th>\n",
       "      <th>prediction</th>\n",
       "    </tr>\n",
       "  </thead>\n",
       "  <tbody>\n",
       "    <tr>\n",
       "      <th>164</th>\n",
       "      <td>2675</td>\n",
       "      <td>1</td>\n",
       "      <td>236477</td>\n",
       "      <td>0.052632</td>\n",
       "      <td>0.052632</td>\n",
       "      <td>0.164399</td>\n",
       "      <td>1</td>\n",
       "      <td>1</td>\n",
       "      <td>0</td>\n",
       "      <td>1</td>\n",
       "    </tr>\n",
       "    <tr>\n",
       "      <th>229</th>\n",
       "      <td>3432</td>\n",
       "      <td>248</td>\n",
       "      <td>31570</td>\n",
       "      <td>0.020000</td>\n",
       "      <td>0.020000</td>\n",
       "      <td>0.100504</td>\n",
       "      <td>1</td>\n",
       "      <td>1</td>\n",
       "      <td>1</td>\n",
       "      <td>0</td>\n",
       "    </tr>\n",
       "    <tr>\n",
       "      <th>311</th>\n",
       "      <td>9917</td>\n",
       "      <td>315</td>\n",
       "      <td>120031</td>\n",
       "      <td>0.025974</td>\n",
       "      <td>0.025974</td>\n",
       "      <td>0.114708</td>\n",
       "      <td>1</td>\n",
       "      <td>1</td>\n",
       "      <td>0</td>\n",
       "      <td>1</td>\n",
       "    </tr>\n",
       "    <tr>\n",
       "      <th>221</th>\n",
       "      <td>3338</td>\n",
       "      <td>199</td>\n",
       "      <td>38406</td>\n",
       "      <td>0.020305</td>\n",
       "      <td>0.020305</td>\n",
       "      <td>0.101274</td>\n",
       "      <td>1</td>\n",
       "      <td>2</td>\n",
       "      <td>1</td>\n",
       "      <td>1</td>\n",
       "    </tr>\n",
       "    <tr>\n",
       "      <th>122</th>\n",
       "      <td>2257</td>\n",
       "      <td>108</td>\n",
       "      <td>176005</td>\n",
       "      <td>0.032787</td>\n",
       "      <td>0.032787</td>\n",
       "      <td>0.129099</td>\n",
       "      <td>1</td>\n",
       "      <td>1</td>\n",
       "      <td>1</td>\n",
       "      <td>1</td>\n",
       "    </tr>\n",
       "    <tr>\n",
       "      <th>...</th>\n",
       "      <td>...</td>\n",
       "      <td>...</td>\n",
       "      <td>...</td>\n",
       "      <td>...</td>\n",
       "      <td>...</td>\n",
       "      <td>...</td>\n",
       "      <td>...</td>\n",
       "      <td>...</td>\n",
       "      <td>...</td>\n",
       "      <td>...</td>\n",
       "    </tr>\n",
       "    <tr>\n",
       "      <th>30</th>\n",
       "      <td>633</td>\n",
       "      <td>117</td>\n",
       "      <td>44784</td>\n",
       "      <td>0.019802</td>\n",
       "      <td>0.019802</td>\n",
       "      <td>0.100000</td>\n",
       "      <td>1</td>\n",
       "      <td>1</td>\n",
       "      <td>1</td>\n",
       "      <td>1</td>\n",
       "    </tr>\n",
       "    <tr>\n",
       "      <th>114</th>\n",
       "      <td>2025</td>\n",
       "      <td>13</td>\n",
       "      <td>194724</td>\n",
       "      <td>0.023810</td>\n",
       "      <td>0.023810</td>\n",
       "      <td>0.109764</td>\n",
       "      <td>1</td>\n",
       "      <td>1</td>\n",
       "      <td>1</td>\n",
       "      <td>1</td>\n",
       "    </tr>\n",
       "    <tr>\n",
       "      <th>191</th>\n",
       "      <td>3168</td>\n",
       "      <td>108</td>\n",
       "      <td>255866</td>\n",
       "      <td>0.040000</td>\n",
       "      <td>0.040000</td>\n",
       "      <td>0.142857</td>\n",
       "      <td>1</td>\n",
       "      <td>1</td>\n",
       "      <td>1</td>\n",
       "      <td>0</td>\n",
       "    </tr>\n",
       "    <tr>\n",
       "      <th>103</th>\n",
       "      <td>1822</td>\n",
       "      <td>1</td>\n",
       "      <td>194351</td>\n",
       "      <td>0.026316</td>\n",
       "      <td>0.026316</td>\n",
       "      <td>0.115470</td>\n",
       "      <td>1</td>\n",
       "      <td>1</td>\n",
       "      <td>0</td>\n",
       "      <td>1</td>\n",
       "    </tr>\n",
       "    <tr>\n",
       "      <th>397</th>\n",
       "      <td>20239</td>\n",
       "      <td>199</td>\n",
       "      <td>228611</td>\n",
       "      <td>0.032520</td>\n",
       "      <td>0.032520</td>\n",
       "      <td>0.128565</td>\n",
       "      <td>1</td>\n",
       "      <td>2</td>\n",
       "      <td>1</td>\n",
       "      <td>1</td>\n",
       "    </tr>\n",
       "  </tbody>\n",
       "</table>\n",
       "<p>184 rows × 10 columns</p>\n",
       "</div>"
      ],
      "text/plain": [
       "       _id  ltable_id  rtable_id  jac_ws_name_tokTitleNews  \\\n",
       "164   2675          1     236477                  0.052632   \n",
       "229   3432        248      31570                  0.020000   \n",
       "311   9917        315     120031                  0.025974   \n",
       "221   3338        199      38406                  0.020305   \n",
       "122   2257        108     176005                  0.032787   \n",
       "..     ...        ...        ...                       ...   \n",
       "30     633        117      44784                  0.019802   \n",
       "114   2025         13     194724                  0.023810   \n",
       "191   3168        108     255866                  0.040000   \n",
       "103   1822          1     194351                  0.026316   \n",
       "397  20239        199     228611                  0.032520   \n",
       "\n",
       "     dc_ws_name_tokTitleNews  cos_ws_name_tokTitleNews  street_name_present  \\\n",
       "164                 0.052632                  0.164399                    1   \n",
       "229                 0.020000                  0.100504                    1   \n",
       "311                 0.025974                  0.114708                    1   \n",
       "221                 0.020305                  0.101274                    1   \n",
       "122                 0.032787                  0.129099                    1   \n",
       "..                       ...                       ...                  ...   \n",
       "30                  0.019802                  0.100000                    1   \n",
       "114                 0.023810                  0.109764                    1   \n",
       "191                 0.040000                  0.142857                    1   \n",
       "103                 0.026316                  0.115470                    1   \n",
       "397                 0.032520                  0.128565                    1   \n",
       "\n",
       "     num_alt_matches  gold_label  prediction  \n",
       "164                1           0           1  \n",
       "229                1           1           0  \n",
       "311                1           0           1  \n",
       "221                2           1           1  \n",
       "122                1           1           1  \n",
       "..               ...         ...         ...  \n",
       "30                 1           1           1  \n",
       "114                1           1           1  \n",
       "191                1           1           0  \n",
       "103                1           0           1  \n",
       "397                2           1           1  \n",
       "\n",
       "[184 rows x 10 columns]"
      ]
     },
     "execution_count": 102,
     "metadata": {},
     "output_type": "execute_result"
    }
   ],
   "source": [
    "# Predict on Test\n",
    "rf.predict(table=test, exclude_attrs=['_id', 'ltable_id', 'rtable_id', 'gold_label'],\n",
    "            target_attr='prediction', append=True, inplace=True)\n"
   ]
  },
  {
   "cell_type": "code",
   "execution_count": 103,
   "metadata": {},
   "outputs": [],
   "source": [
    "TP = ((test['gold_label'] == 1) & (test['prediction'] == 1)).sum()\n",
    "FP = ((test['gold_label'] == 0) & (test['prediction'] == 1)).sum()\n",
    "TN = ((test['gold_label'] == 0) & (test['prediction'] == 0)).sum()\n",
    "FN = ((test['gold_label'] == 1) & (test['prediction'] == 0)).sum()\n",
    "P = (test['gold_label'] == 1).sum()\n",
    "N = (test['gold_label'] == 0).sum()"
   ]
  },
  {
   "cell_type": "code",
   "execution_count": 104,
   "metadata": {},
   "outputs": [
    {
     "data": {
      "text/plain": [
       "0.6521739130434783"
      ]
     },
     "execution_count": 104,
     "metadata": {},
     "output_type": "execute_result"
    }
   ],
   "source": [
    "# Test Accuracy\n",
    "(TP+TN)/(P+N)"
   ]
  },
  {
   "cell_type": "code",
   "execution_count": 105,
   "metadata": {
    "scrolled": true
   },
   "outputs": [
    {
     "data": {
      "text/html": [
       "<div>\n",
       "<style scoped>\n",
       "    .dataframe tbody tr th:only-of-type {\n",
       "        vertical-align: middle;\n",
       "    }\n",
       "\n",
       "    .dataframe tbody tr th {\n",
       "        vertical-align: top;\n",
       "    }\n",
       "\n",
       "    .dataframe thead th {\n",
       "        text-align: right;\n",
       "    }\n",
       "</style>\n",
       "<table border=\"1\" class=\"dataframe\">\n",
       "  <thead>\n",
       "    <tr style=\"text-align: right;\">\n",
       "      <th></th>\n",
       "      <th>ltable_id</th>\n",
       "      <th>rtable_id</th>\n",
       "      <th>ltable_name</th>\n",
       "      <th>ltable_category</th>\n",
       "      <th>ltable_fda_schedule</th>\n",
       "      <th>rtable_tokTitle</th>\n",
       "      <th>rtable_tokNews</th>\n",
       "      <th>gold_label</th>\n",
       "    </tr>\n",
       "    <tr>\n",
       "      <th>_id</th>\n",
       "      <th></th>\n",
       "      <th></th>\n",
       "      <th></th>\n",
       "      <th></th>\n",
       "      <th></th>\n",
       "      <th></th>\n",
       "      <th></th>\n",
       "      <th></th>\n",
       "    </tr>\n",
       "  </thead>\n",
       "  <tbody>\n",
       "    <tr>\n",
       "      <th>2675</th>\n",
       "      <td>1</td>\n",
       "      <td>236477</td>\n",
       "      <td>coca</td>\n",
       "      <td>opioid analgesics</td>\n",
       "      <td>schedule ii</td>\n",
       "      <td>always coca cola right</td>\n",
       "      <td>coca cola slammed coronavirus pandemic remains far clear quickly get back track beverage giant s...</td>\n",
       "      <td>0</td>\n",
       "    </tr>\n",
       "    <tr>\n",
       "      <th>3432</th>\n",
       "      <td>248</td>\n",
       "      <td>31570</td>\n",
       "      <td>methamphetamine</td>\n",
       "      <td>amphetamines</td>\n",
       "      <td>schedule ii</td>\n",
       "      <td>feds link 2018 bay area meth heroin bust sinaloa cartel</td>\n",
       "      <td>san francisco first time federal authorities publicly linked 2018 investigation yielded 37 pound...</td>\n",
       "      <td>1</td>\n",
       "    </tr>\n",
       "    <tr>\n",
       "      <th>9917</th>\n",
       "      <td>315</td>\n",
       "      <td>120031</td>\n",
       "      <td>cannabis</td>\n",
       "      <td>unknown</td>\n",
       "      <td>schedule i</td>\n",
       "      <td>3 reasons dump shares hexo today</td>\n",
       "      <td>company coming third quarter performance impressive canadian cannabis hexo nyse performing well ...</td>\n",
       "      <td>0</td>\n",
       "    </tr>\n",
       "    <tr>\n",
       "      <th>3579</th>\n",
       "      <td>315</td>\n",
       "      <td>29159</td>\n",
       "      <td>cannabis</td>\n",
       "      <td>unknown</td>\n",
       "      <td>schedule i</td>\n",
       "      <td>5 pot stocks posted profits recent earnings</td>\n",
       "      <td>every company cannabis industry struggles stay black many investors come expect losses companies...</td>\n",
       "      <td>0</td>\n",
       "    </tr>\n",
       "    <tr>\n",
       "      <th>1821</th>\n",
       "      <td>1</td>\n",
       "      <td>194345</td>\n",
       "      <td>coca</td>\n",
       "      <td>opioid analgesics</td>\n",
       "      <td>schedule ii</td>\n",
       "      <td>devious fossil fuel propaganda use</td>\n",
       "      <td>moving forward requires focus mashable social good series dedicated exploring pathways greater s...</td>\n",
       "      <td>0</td>\n",
       "    </tr>\n",
       "    <tr>\n",
       "      <th>...</th>\n",
       "      <td>...</td>\n",
       "      <td>...</td>\n",
       "      <td>...</td>\n",
       "      <td>...</td>\n",
       "      <td>...</td>\n",
       "      <td>...</td>\n",
       "      <td>...</td>\n",
       "      <td>...</td>\n",
       "    </tr>\n",
       "    <tr>\n",
       "      <th>20379</th>\n",
       "      <td>313</td>\n",
       "      <td>246472</td>\n",
       "      <td>opium</td>\n",
       "      <td>antidiarrheal agents</td>\n",
       "      <td>schedule ii</td>\n",
       "      <td>birmingham man held 570 000 bond lengthy probe shelby county</td>\n",
       "      <td>lengthy investigation shelby county landed birmingham man behind bars enforcement task force thu...</td>\n",
       "      <td>1</td>\n",
       "    </tr>\n",
       "    <tr>\n",
       "      <th>15397</th>\n",
       "      <td>315</td>\n",
       "      <td>176465</td>\n",
       "      <td>cannabis</td>\n",
       "      <td>unknown</td>\n",
       "      <td>schedule i</td>\n",
       "      <td>facing litigation state temporarily halts enforcement marijuana business rules</td>\n",
       "      <td>pending litigation oklahoma attorney general office temporarily agreed state enforce medical mar...</td>\n",
       "      <td>1</td>\n",
       "    </tr>\n",
       "    <tr>\n",
       "      <th>3466</th>\n",
       "      <td>248</td>\n",
       "      <td>55937</td>\n",
       "      <td>methamphetamine</td>\n",
       "      <td>amphetamines</td>\n",
       "      <td>schedule ii</td>\n",
       "      <td>pomona woman arrested claremont loaded gun ammo methamphetamine</td>\n",
       "      <td>claremont 30 year old pomona woman bail felony evading illegal firearms possession custody frida...</td>\n",
       "      <td>1</td>\n",
       "    </tr>\n",
       "    <tr>\n",
       "      <th>3168</th>\n",
       "      <td>108</td>\n",
       "      <td>255866</td>\n",
       "      <td>buprenorphine</td>\n",
       "      <td>opioid analgesics</td>\n",
       "      <td>schedule iii</td>\n",
       "      <td>teva benign opioid settlement bag yet</td>\n",
       "      <td>investors surprised familiar risk teva pharmaceutical industries soon resurfaces last october ag...</td>\n",
       "      <td>1</td>\n",
       "    </tr>\n",
       "    <tr>\n",
       "      <th>1822</th>\n",
       "      <td>1</td>\n",
       "      <td>194351</td>\n",
       "      <td>coca</td>\n",
       "      <td>opioid analgesics</td>\n",
       "      <td>schedule ii</td>\n",
       "      <td>pepsico quaker foods business notches 55 profit spike</td>\n",
       "      <td>division helped offset sharp declines go beverage sales pepsico nasdaq pep consumer foods enjoyi...</td>\n",
       "      <td>0</td>\n",
       "    </tr>\n",
       "  </tbody>\n",
       "</table>\n",
       "<p>64 rows × 8 columns</p>\n",
       "</div>"
      ],
      "text/plain": [
       "       ltable_id  rtable_id      ltable_name       ltable_category  \\\n",
       "_id                                                                  \n",
       "2675           1     236477             coca     opioid analgesics   \n",
       "3432         248      31570  methamphetamine          amphetamines   \n",
       "9917         315     120031         cannabis               unknown   \n",
       "3579         315      29159         cannabis               unknown   \n",
       "1821           1     194345             coca     opioid analgesics   \n",
       "...          ...        ...              ...                   ...   \n",
       "20379        313     246472            opium  antidiarrheal agents   \n",
       "15397        315     176465         cannabis               unknown   \n",
       "3466         248      55937  methamphetamine          amphetamines   \n",
       "3168         108     255866    buprenorphine     opioid analgesics   \n",
       "1822           1     194351             coca     opioid analgesics   \n",
       "\n",
       "      ltable_fda_schedule  \\\n",
       "_id                         \n",
       "2675          schedule ii   \n",
       "3432          schedule ii   \n",
       "9917           schedule i   \n",
       "3579           schedule i   \n",
       "1821          schedule ii   \n",
       "...                   ...   \n",
       "20379         schedule ii   \n",
       "15397          schedule i   \n",
       "3466          schedule ii   \n",
       "3168         schedule iii   \n",
       "1822          schedule ii   \n",
       "\n",
       "                                                                      rtable_tokTitle  \\\n",
       "_id                                                                                     \n",
       "2675                                                           always coca cola right   \n",
       "3432                          feds link 2018 bay area meth heroin bust sinaloa cartel   \n",
       "9917                                                 3 reasons dump shares hexo today   \n",
       "3579                                      5 pot stocks posted profits recent earnings   \n",
       "1821                                               devious fossil fuel propaganda use   \n",
       "...                                                                               ...   \n",
       "20379                    birmingham man held 570 000 bond lengthy probe shelby county   \n",
       "15397  facing litigation state temporarily halts enforcement marijuana business rules   \n",
       "3466                  pomona woman arrested claremont loaded gun ammo methamphetamine   \n",
       "3168                                            teva benign opioid settlement bag yet   \n",
       "1822                            pepsico quaker foods business notches 55 profit spike   \n",
       "\n",
       "                                                                                            rtable_tokNews  \\\n",
       "_id                                                                                                          \n",
       "2675   coca cola slammed coronavirus pandemic remains far clear quickly get back track beverage giant s...   \n",
       "3432   san francisco first time federal authorities publicly linked 2018 investigation yielded 37 pound...   \n",
       "9917   company coming third quarter performance impressive canadian cannabis hexo nyse performing well ...   \n",
       "3579   every company cannabis industry struggles stay black many investors come expect losses companies...   \n",
       "1821   moving forward requires focus mashable social good series dedicated exploring pathways greater s...   \n",
       "...                                                                                                    ...   \n",
       "20379  lengthy investigation shelby county landed birmingham man behind bars enforcement task force thu...   \n",
       "15397  pending litigation oklahoma attorney general office temporarily agreed state enforce medical mar...   \n",
       "3466   claremont 30 year old pomona woman bail felony evading illegal firearms possession custody frida...   \n",
       "3168   investors surprised familiar risk teva pharmaceutical industries soon resurfaces last october ag...   \n",
       "1822   division helped offset sharp declines go beverage sales pepsico nasdaq pep consumer foods enjoyi...   \n",
       "\n",
       "       gold_label  \n",
       "_id                \n",
       "2675            0  \n",
       "3432            1  \n",
       "9917            0  \n",
       "3579            0  \n",
       "1821            0  \n",
       "...           ...  \n",
       "20379           1  \n",
       "15397           1  \n",
       "3466            1  \n",
       "3168            1  \n",
       "1822            0  \n",
       "\n",
       "[64 rows x 8 columns]"
      ]
     },
     "execution_count": 105,
     "metadata": {},
     "output_type": "execute_result"
    }
   ],
   "source": [
    "# Check what the matcher misclassified\n",
    "G.set_index('_id').loc[test[test['gold_label'] != test['prediction']]['_id']]"
   ]
  },
  {
   "cell_type": "markdown",
   "metadata": {},
   "source": [
    "## Match Full Blocked Dataset"
   ]
  },
  {
   "cell_type": "code",
   "execution_count": 106,
   "metadata": {},
   "outputs": [
    {
     "name": "stderr",
     "output_type": "stream",
     "text": [
      "C:\\Users\\rmartinez4\\Anaconda3\\envs\\py37\\lib\\site-packages\\py_entitymatching\\feature\\extractfeatures.py:157: FutureWarning: The pandas.np module is deprecated and will be removed from pandas in a future version. Import numpy directly instead\n",
      "  c_splits = pd.np.array_split(candset, n_procs)\n"
     ]
    }
   ],
   "source": [
    "real = em.extract_feature_vecs(C1, \n",
    "                               feature_table=F, \n",
    "                               show_progress=False)"
   ]
  },
  {
   "cell_type": "code",
   "execution_count": 107,
   "metadata": {},
   "outputs": [
    {
     "data": {
      "text/html": [
       "<div>\n",
       "<style scoped>\n",
       "    .dataframe tbody tr th:only-of-type {\n",
       "        vertical-align: middle;\n",
       "    }\n",
       "\n",
       "    .dataframe tbody tr th {\n",
       "        vertical-align: top;\n",
       "    }\n",
       "\n",
       "    .dataframe thead th {\n",
       "        text-align: right;\n",
       "    }\n",
       "</style>\n",
       "<table border=\"1\" class=\"dataframe\">\n",
       "  <thead>\n",
       "    <tr style=\"text-align: right;\">\n",
       "      <th></th>\n",
       "      <th>_id</th>\n",
       "      <th>ltable_id</th>\n",
       "      <th>rtable_id</th>\n",
       "      <th>jac_ws_name_tokTitleNews</th>\n",
       "      <th>dc_ws_name_tokTitleNews</th>\n",
       "      <th>cos_ws_name_tokTitleNews</th>\n",
       "      <th>street_name_present</th>\n",
       "      <th>num_alt_matches</th>\n",
       "      <th>prediction</th>\n",
       "      <th>proba</th>\n",
       "    </tr>\n",
       "  </thead>\n",
       "  <tbody>\n",
       "    <tr>\n",
       "      <th>0</th>\n",
       "      <td>0</td>\n",
       "      <td>0</td>\n",
       "      <td>4956</td>\n",
       "      <td>0.007937</td>\n",
       "      <td>0.007937</td>\n",
       "      <td>0.063119</td>\n",
       "      <td>1</td>\n",
       "      <td>1</td>\n",
       "      <td>1</td>\n",
       "      <td>1.0</td>\n",
       "    </tr>\n",
       "    <tr>\n",
       "      <th>1</th>\n",
       "      <td>1</td>\n",
       "      <td>0</td>\n",
       "      <td>5112</td>\n",
       "      <td>0.006349</td>\n",
       "      <td>0.006349</td>\n",
       "      <td>0.056433</td>\n",
       "      <td>1</td>\n",
       "      <td>1</td>\n",
       "      <td>1</td>\n",
       "      <td>1.0</td>\n",
       "    </tr>\n",
       "    <tr>\n",
       "      <th>2</th>\n",
       "      <td>2</td>\n",
       "      <td>0</td>\n",
       "      <td>5604</td>\n",
       "      <td>0.009950</td>\n",
       "      <td>0.009950</td>\n",
       "      <td>0.070711</td>\n",
       "      <td>1</td>\n",
       "      <td>1</td>\n",
       "      <td>1</td>\n",
       "      <td>1.0</td>\n",
       "    </tr>\n",
       "    <tr>\n",
       "      <th>3</th>\n",
       "      <td>3</td>\n",
       "      <td>0</td>\n",
       "      <td>5862</td>\n",
       "      <td>0.008403</td>\n",
       "      <td>0.008403</td>\n",
       "      <td>0.064957</td>\n",
       "      <td>1</td>\n",
       "      <td>1</td>\n",
       "      <td>1</td>\n",
       "      <td>1.0</td>\n",
       "    </tr>\n",
       "    <tr>\n",
       "      <th>4</th>\n",
       "      <td>4</td>\n",
       "      <td>0</td>\n",
       "      <td>6064</td>\n",
       "      <td>0.006369</td>\n",
       "      <td>0.006369</td>\n",
       "      <td>0.056523</td>\n",
       "      <td>1</td>\n",
       "      <td>1</td>\n",
       "      <td>1</td>\n",
       "      <td>1.0</td>\n",
       "    </tr>\n",
       "  </tbody>\n",
       "</table>\n",
       "</div>"
      ],
      "text/plain": [
       "   _id  ltable_id  rtable_id  jac_ws_name_tokTitleNews  \\\n",
       "0    0          0       4956                  0.007937   \n",
       "1    1          0       5112                  0.006349   \n",
       "2    2          0       5604                  0.009950   \n",
       "3    3          0       5862                  0.008403   \n",
       "4    4          0       6064                  0.006369   \n",
       "\n",
       "   dc_ws_name_tokTitleNews  cos_ws_name_tokTitleNews  street_name_present  \\\n",
       "0                 0.007937                  0.063119                    1   \n",
       "1                 0.006349                  0.056433                    1   \n",
       "2                 0.009950                  0.070711                    1   \n",
       "3                 0.008403                  0.064957                    1   \n",
       "4                 0.006369                  0.056523                    1   \n",
       "\n",
       "   num_alt_matches  prediction  proba  \n",
       "0                1           1    1.0  \n",
       "1                1           1    1.0  \n",
       "2                1           1    1.0  \n",
       "3                1           1    1.0  \n",
       "4                1           1    1.0  "
      ]
     },
     "execution_count": 107,
     "metadata": {},
     "output_type": "execute_result"
    }
   ],
   "source": [
    "rf.predict(table=real, exclude_attrs=['_id', 'ltable_id', 'rtable_id'],\n",
    "            target_attr='prediction', return_probs=True, probs_attr='proba', append=True, inplace=True)\n",
    "real.head()"
   ]
  },
  {
   "cell_type": "markdown",
   "metadata": {},
   "source": [
    "# Create Datasets for Cypher"
   ]
  },
  {
   "cell_type": "markdown",
   "metadata": {},
   "source": [
    "## Generic-Reddit Relationship Table"
   ]
  },
  {
   "cell_type": "code",
   "execution_count": 113,
   "metadata": {},
   "outputs": [],
   "source": [
    "# Create relationship table\n",
    "rel_table = C1.merge(real[['_id', 'proba', 'prediction']], how='left', left_on='_id', right_on='_id')"
   ]
  },
  {
   "cell_type": "code",
   "execution_count": 114,
   "metadata": {},
   "outputs": [],
   "source": [
    "final_rel_table = rel_table[rel_table['prediction'] == 1]\n",
    "final_rel_table = final_rel_table.rename(columns={'ltable_id': 'id_names', 'rtable_id': 'id_news'})\n",
    "final_rel_table = final_rel_table[['id_news', 'id_names', 'proba']]"
   ]
  },
  {
   "cell_type": "code",
   "execution_count": 116,
   "metadata": {},
   "outputs": [],
   "source": [
    "final_rel_table.to_csv('./import_cypher/news_relations.csv', index=False)"
   ]
  },
  {
   "cell_type": "markdown",
   "metadata": {},
   "source": [
    "## Final drug names"
   ]
  },
  {
   "cell_type": "code",
   "execution_count": 93,
   "metadata": {},
   "outputs": [],
   "source": [
    "final_drugs_df = drugs_df.copy()\n",
    "final_drugs_df = final_drugs_df.rename(columns={'NAMETYPE': 'name_type', 'NAME': 'name', \n",
    "                                                'FULL_GENERIC_NAME': 'full_generic_name',\n",
    "                                                'CATEGORY': 'category', 'FDA_SCHEDULE': 'fda_schedule'})\n",
    "final_drugs_df = final_drugs_df[['id', 'name', 'name_type', 'full_generic_name', 'category', 'fda_schedule']]\n",
    "final_drugs_df['name_type'] = final_drugs_df['name_type'].str.lower()\n",
    "final_drugs_df['full_generic_name'] = final_drugs_df['full_generic_name'].str.lower()\n",
    "final_drugs_df['category'] = final_drugs_df['category'].str.lower()\n",
    "final_drugs_df['category'] = final_drugs_df['category'].fillna('unknown')\n",
    "final_drugs_df['fda_schedule'] = final_drugs_df['fda_schedule'].str.lower()\n",
    "final_drugs_df['fda_schedule'] = final_drugs_df['fda_schedule'].fillna('unknown')"
   ]
  },
  {
   "cell_type": "code",
   "execution_count": 94,
   "metadata": {},
   "outputs": [],
   "source": [
    "final_drugs_df.to_csv('./import_cypher/drug_names.csv', index=False)"
   ]
  },
  {
   "cell_type": "code",
   "execution_count": 95,
   "metadata": {},
   "outputs": [
    {
     "data": {
      "text/html": [
       "<div>\n",
       "<style scoped>\n",
       "    .dataframe tbody tr th:only-of-type {\n",
       "        vertical-align: middle;\n",
       "    }\n",
       "\n",
       "    .dataframe tbody tr th {\n",
       "        vertical-align: top;\n",
       "    }\n",
       "\n",
       "    .dataframe thead th {\n",
       "        text-align: right;\n",
       "    }\n",
       "</style>\n",
       "<table border=\"1\" class=\"dataframe\">\n",
       "  <thead>\n",
       "    <tr style=\"text-align: right;\">\n",
       "      <th></th>\n",
       "      <th>id</th>\n",
       "      <th>name</th>\n",
       "      <th>name_type</th>\n",
       "      <th>full_generic_name</th>\n",
       "      <th>category</th>\n",
       "      <th>fda_schedule</th>\n",
       "    </tr>\n",
       "  </thead>\n",
       "  <tbody>\n",
       "    <tr>\n",
       "      <th>0</th>\n",
       "      <td>0</td>\n",
       "      <td>fentanyl</td>\n",
       "      <td>generic_name</td>\n",
       "      <td>fentanyl</td>\n",
       "      <td>opioid analgesics</td>\n",
       "      <td>schedule ii</td>\n",
       "    </tr>\n",
       "    <tr>\n",
       "      <th>1</th>\n",
       "      <td>1</td>\n",
       "      <td>apache</td>\n",
       "      <td>street_name</td>\n",
       "      <td>fentanyl</td>\n",
       "      <td>opioid analgesics</td>\n",
       "      <td>schedule ii</td>\n",
       "    </tr>\n",
       "    <tr>\n",
       "      <th>2</th>\n",
       "      <td>2</td>\n",
       "      <td>birria</td>\n",
       "      <td>street_name</td>\n",
       "      <td>fentanyl</td>\n",
       "      <td>opioid analgesics</td>\n",
       "      <td>schedule ii</td>\n",
       "    </tr>\n",
       "    <tr>\n",
       "      <th>3</th>\n",
       "      <td>3</td>\n",
       "      <td>coca</td>\n",
       "      <td>generic_name</td>\n",
       "      <td>coca</td>\n",
       "      <td>opioid analgesics</td>\n",
       "      <td>schedule ii</td>\n",
       "    </tr>\n",
       "    <tr>\n",
       "      <th>4</th>\n",
       "      <td>4</td>\n",
       "      <td>blue diamond</td>\n",
       "      <td>street_name</td>\n",
       "      <td>fentanyl</td>\n",
       "      <td>opioid analgesics</td>\n",
       "      <td>schedule ii</td>\n",
       "    </tr>\n",
       "    <tr>\n",
       "      <th>...</th>\n",
       "      <td>...</td>\n",
       "      <td>...</td>\n",
       "      <td>...</td>\n",
       "      <td>...</td>\n",
       "      <td>...</td>\n",
       "      <td>...</td>\n",
       "    </tr>\n",
       "    <tr>\n",
       "      <th>2370</th>\n",
       "      <td>2370</td>\n",
       "      <td>steroids</td>\n",
       "      <td>street_name</td>\n",
       "      <td>testosterone</td>\n",
       "      <td>hormones/synthetics/modifiers,other</td>\n",
       "      <td>schedule iii</td>\n",
       "    </tr>\n",
       "    <tr>\n",
       "      <th>2371</th>\n",
       "      <td>2371</td>\n",
       "      <td>hydromorphone</td>\n",
       "      <td>generic_name</td>\n",
       "      <td>hydromorphone</td>\n",
       "      <td>opioid analgesics</td>\n",
       "      <td>schedule ii</td>\n",
       "    </tr>\n",
       "    <tr>\n",
       "      <th>2372</th>\n",
       "      <td>2372</td>\n",
       "      <td>oxymorphone</td>\n",
       "      <td>generic_name</td>\n",
       "      <td>oxymorphone hydrochloride extended-release tablets</td>\n",
       "      <td>opioid analgesics</td>\n",
       "      <td>schedule ii</td>\n",
       "    </tr>\n",
       "    <tr>\n",
       "      <th>2373</th>\n",
       "      <td>2373</td>\n",
       "      <td>methadone</td>\n",
       "      <td>generic_name</td>\n",
       "      <td>methadone hydrochloride tablets</td>\n",
       "      <td>opioid analgesics</td>\n",
       "      <td>schedule ii</td>\n",
       "    </tr>\n",
       "    <tr>\n",
       "      <th>2374</th>\n",
       "      <td>2374</td>\n",
       "      <td>tapentadol</td>\n",
       "      <td>generic_name</td>\n",
       "      <td>tapentadol extended-release oral tablets</td>\n",
       "      <td>opioid analgesics</td>\n",
       "      <td>schedule ii</td>\n",
       "    </tr>\n",
       "  </tbody>\n",
       "</table>\n",
       "<p>2375 rows × 6 columns</p>\n",
       "</div>"
      ],
      "text/plain": [
       "        id           name     name_type  \\\n",
       "0        0       fentanyl  generic_name   \n",
       "1        1         apache   street_name   \n",
       "2        2         birria   street_name   \n",
       "3        3           coca  generic_name   \n",
       "4        4   blue diamond   street_name   \n",
       "...    ...            ...           ...   \n",
       "2370  2370       steroids   street_name   \n",
       "2371  2371  hydromorphone  generic_name   \n",
       "2372  2372    oxymorphone  generic_name   \n",
       "2373  2373      methadone  generic_name   \n",
       "2374  2374     tapentadol  generic_name   \n",
       "\n",
       "                                       full_generic_name  \\\n",
       "0                                               fentanyl   \n",
       "1                                               fentanyl   \n",
       "2                                               fentanyl   \n",
       "3                                                   coca   \n",
       "4                                               fentanyl   \n",
       "...                                                  ...   \n",
       "2370                                        testosterone   \n",
       "2371                                       hydromorphone   \n",
       "2372  oxymorphone hydrochloride extended-release tablets   \n",
       "2373                     methadone hydrochloride tablets   \n",
       "2374            tapentadol extended-release oral tablets   \n",
       "\n",
       "                                 category  fda_schedule  \n",
       "0                       opioid analgesics   schedule ii  \n",
       "1                       opioid analgesics   schedule ii  \n",
       "2                       opioid analgesics   schedule ii  \n",
       "3                       opioid analgesics   schedule ii  \n",
       "4                       opioid analgesics   schedule ii  \n",
       "...                                   ...           ...  \n",
       "2370  hormones/synthetics/modifiers,other  schedule iii  \n",
       "2371                    opioid analgesics   schedule ii  \n",
       "2372                    opioid analgesics   schedule ii  \n",
       "2373                    opioid analgesics   schedule ii  \n",
       "2374                    opioid analgesics   schedule ii  \n",
       "\n",
       "[2375 rows x 6 columns]"
      ]
     },
     "execution_count": 95,
     "metadata": {},
     "output_type": "execute_result"
    }
   ],
   "source": [
    "final_drugs_df"
   ]
  },
  {
   "cell_type": "markdown",
   "metadata": {},
   "source": [
    "## Generic Names"
   ]
  },
  {
   "cell_type": "code",
   "execution_count": 96,
   "metadata": {},
   "outputs": [],
   "source": [
    "generic_names_df = final_drugs_df[final_drugs_df['name_type'] == 'generic_name'].drop_duplicates(subset=['name']).copy()\n",
    "generic_names_df = generic_names_df.reset_index(drop=True)\n",
    "generic_names_df['id'] = generic_names_df.index"
   ]
  },
  {
   "cell_type": "code",
   "execution_count": 97,
   "metadata": {},
   "outputs": [],
   "source": [
    "generic_names_df.to_csv('./import_cypher/generic_names.csv', index=False)"
   ]
  },
  {
   "cell_type": "code",
   "execution_count": 98,
   "metadata": {},
   "outputs": [
    {
     "data": {
      "text/html": [
       "<div>\n",
       "<style scoped>\n",
       "    .dataframe tbody tr th:only-of-type {\n",
       "        vertical-align: middle;\n",
       "    }\n",
       "\n",
       "    .dataframe tbody tr th {\n",
       "        vertical-align: top;\n",
       "    }\n",
       "\n",
       "    .dataframe thead th {\n",
       "        text-align: right;\n",
       "    }\n",
       "</style>\n",
       "<table border=\"1\" class=\"dataframe\">\n",
       "  <thead>\n",
       "    <tr style=\"text-align: right;\">\n",
       "      <th></th>\n",
       "      <th>id</th>\n",
       "      <th>name</th>\n",
       "      <th>name_type</th>\n",
       "      <th>full_generic_name</th>\n",
       "      <th>category</th>\n",
       "      <th>fda_schedule</th>\n",
       "    </tr>\n",
       "  </thead>\n",
       "  <tbody>\n",
       "    <tr>\n",
       "      <th>0</th>\n",
       "      <td>0</td>\n",
       "      <td>fentanyl</td>\n",
       "      <td>generic_name</td>\n",
       "      <td>fentanyl</td>\n",
       "      <td>opioid analgesics</td>\n",
       "      <td>schedule ii</td>\n",
       "    </tr>\n",
       "    <tr>\n",
       "      <th>1</th>\n",
       "      <td>1</td>\n",
       "      <td>coca</td>\n",
       "      <td>generic_name</td>\n",
       "      <td>coca</td>\n",
       "      <td>opioid analgesics</td>\n",
       "      <td>schedule ii</td>\n",
       "    </tr>\n",
       "    <tr>\n",
       "      <th>2</th>\n",
       "      <td>2</td>\n",
       "      <td>laudanum</td>\n",
       "      <td>generic_name</td>\n",
       "      <td>laudanum</td>\n",
       "      <td>opioid analgesics</td>\n",
       "      <td>schedule ii</td>\n",
       "    </tr>\n",
       "    <tr>\n",
       "      <th>3</th>\n",
       "      <td>3</td>\n",
       "      <td>sodium thiopental</td>\n",
       "      <td>generic_name</td>\n",
       "      <td>sodium thiopental</td>\n",
       "      <td>opioid analgesics</td>\n",
       "      <td>schedule iii</td>\n",
       "    </tr>\n",
       "    <tr>\n",
       "      <th>4</th>\n",
       "      <td>4</td>\n",
       "      <td>cathine</td>\n",
       "      <td>generic_name</td>\n",
       "      <td>cathine</td>\n",
       "      <td>opioid analgesics</td>\n",
       "      <td>schedule iv</td>\n",
       "    </tr>\n",
       "    <tr>\n",
       "      <th>...</th>\n",
       "      <td>...</td>\n",
       "      <td>...</td>\n",
       "      <td>...</td>\n",
       "      <td>...</td>\n",
       "      <td>...</td>\n",
       "      <td>...</td>\n",
       "    </tr>\n",
       "    <tr>\n",
       "      <th>355</th>\n",
       "      <td>355</td>\n",
       "      <td>testosterone</td>\n",
       "      <td>generic_name</td>\n",
       "      <td>testosterone</td>\n",
       "      <td>hormones/synthetics/modifiers,other</td>\n",
       "      <td>schedule iii</td>\n",
       "    </tr>\n",
       "    <tr>\n",
       "      <th>356</th>\n",
       "      <td>356</td>\n",
       "      <td>hydromorphone</td>\n",
       "      <td>generic_name</td>\n",
       "      <td>hydromorphone</td>\n",
       "      <td>opioid analgesics</td>\n",
       "      <td>schedule ii</td>\n",
       "    </tr>\n",
       "    <tr>\n",
       "      <th>357</th>\n",
       "      <td>357</td>\n",
       "      <td>oxymorphone</td>\n",
       "      <td>generic_name</td>\n",
       "      <td>oxymorphone hydrochloride extended-release tablets</td>\n",
       "      <td>opioid analgesics</td>\n",
       "      <td>schedule ii</td>\n",
       "    </tr>\n",
       "    <tr>\n",
       "      <th>358</th>\n",
       "      <td>358</td>\n",
       "      <td>methadone</td>\n",
       "      <td>generic_name</td>\n",
       "      <td>methadone hydrochloride tablets</td>\n",
       "      <td>opioid analgesics</td>\n",
       "      <td>schedule ii</td>\n",
       "    </tr>\n",
       "    <tr>\n",
       "      <th>359</th>\n",
       "      <td>359</td>\n",
       "      <td>tapentadol</td>\n",
       "      <td>generic_name</td>\n",
       "      <td>tapentadol extended-release oral tablets</td>\n",
       "      <td>opioid analgesics</td>\n",
       "      <td>schedule ii</td>\n",
       "    </tr>\n",
       "  </tbody>\n",
       "</table>\n",
       "<p>360 rows × 6 columns</p>\n",
       "</div>"
      ],
      "text/plain": [
       "      id               name     name_type  \\\n",
       "0      0           fentanyl  generic_name   \n",
       "1      1               coca  generic_name   \n",
       "2      2           laudanum  generic_name   \n",
       "3      3  sodium thiopental  generic_name   \n",
       "4      4            cathine  generic_name   \n",
       "..   ...                ...           ...   \n",
       "355  355       testosterone  generic_name   \n",
       "356  356      hydromorphone  generic_name   \n",
       "357  357        oxymorphone  generic_name   \n",
       "358  358          methadone  generic_name   \n",
       "359  359         tapentadol  generic_name   \n",
       "\n",
       "                                      full_generic_name  \\\n",
       "0                                              fentanyl   \n",
       "1                                                  coca   \n",
       "2                                              laudanum   \n",
       "3                                     sodium thiopental   \n",
       "4                                               cathine   \n",
       "..                                                  ...   \n",
       "355                                        testosterone   \n",
       "356                                       hydromorphone   \n",
       "357  oxymorphone hydrochloride extended-release tablets   \n",
       "358                     methadone hydrochloride tablets   \n",
       "359            tapentadol extended-release oral tablets   \n",
       "\n",
       "                                category  fda_schedule  \n",
       "0                      opioid analgesics   schedule ii  \n",
       "1                      opioid analgesics   schedule ii  \n",
       "2                      opioid analgesics   schedule ii  \n",
       "3                      opioid analgesics  schedule iii  \n",
       "4                      opioid analgesics   schedule iv  \n",
       "..                                   ...           ...  \n",
       "355  hormones/synthetics/modifiers,other  schedule iii  \n",
       "356                    opioid analgesics   schedule ii  \n",
       "357                    opioid analgesics   schedule ii  \n",
       "358                    opioid analgesics   schedule ii  \n",
       "359                    opioid analgesics   schedule ii  \n",
       "\n",
       "[360 rows x 6 columns]"
      ]
     },
     "execution_count": 98,
     "metadata": {},
     "output_type": "execute_result"
    }
   ],
   "source": [
    "generic_names_df"
   ]
  },
  {
   "cell_type": "markdown",
   "metadata": {},
   "source": [
    "## Names"
   ]
  },
  {
   "cell_type": "code",
   "execution_count": 99,
   "metadata": {},
   "outputs": [],
   "source": [
    "alt_names_df = final_drugs_df[['id', 'name']].copy()"
   ]
  },
  {
   "cell_type": "code",
   "execution_count": 100,
   "metadata": {},
   "outputs": [],
   "source": [
    "alt_names_df.to_csv('./import_cypher/alt_names.csv', index=False)"
   ]
  },
  {
   "cell_type": "markdown",
   "metadata": {},
   "source": [
    "## Generic Names-Names Relationship Table"
   ]
  },
  {
   "cell_type": "code",
   "execution_count": 101,
   "metadata": {},
   "outputs": [],
   "source": [
    "gen_alt_rel_table = drugs_df.merge(generic_names_df[['id','name']].rename(columns={'id': 'id_generic'}), \n",
    "                                     how='left', left_on='GENERIC_NAME', right_on='name')\n",
    "gen_alt_rel_table = gen_alt_rel_table.rename(columns={'id': 'id_alt'})\n",
    "gen_alt_rel_table = gen_alt_rel_table[['id_alt', 'id_generic']]\n",
    "gen_alt_rel_table['id_generic'] = gen_alt_rel_table['id_generic'].astype(int)"
   ]
  },
  {
   "cell_type": "code",
   "execution_count": 109,
   "metadata": {},
   "outputs": [],
   "source": [
    "gen_alt_rel_table.to_csv('./import_cypher/gen_alt_rel_table.csv', index=False)"
   ]
  },
  {
   "cell_type": "markdown",
   "metadata": {},
   "source": [
    "# Final Reddit"
   ]
  },
  {
   "cell_type": "code",
   "execution_count": 104,
   "metadata": {},
   "outputs": [],
   "source": [
    "from datetime import datetime"
   ]
  },
  {
   "cell_type": "code",
   "execution_count": 115,
   "metadata": {},
   "outputs": [],
   "source": [
    "final_reddit = reddit_df.copy()"
   ]
  },
  {
   "cell_type": "code",
   "execution_count": 117,
   "metadata": {},
   "outputs": [
    {
     "data": {
      "text/html": [
       "<div>\n",
       "<style scoped>\n",
       "    .dataframe tbody tr th:only-of-type {\n",
       "        vertical-align: middle;\n",
       "    }\n",
       "\n",
       "    .dataframe tbody tr th {\n",
       "        vertical-align: top;\n",
       "    }\n",
       "\n",
       "    .dataframe thead th {\n",
       "        text-align: right;\n",
       "    }\n",
       "</style>\n",
       "<table border=\"1\" class=\"dataframe\">\n",
       "  <thead>\n",
       "    <tr style=\"text-align: right;\">\n",
       "      <th></th>\n",
       "      <th>publishdate</th>\n",
       "      <th>src</th>\n",
       "      <th>title</th>\n",
       "      <th>news</th>\n",
       "      <th>src_name</th>\n",
       "      <th>tokTitle</th>\n",
       "      <th>tokNews</th>\n",
       "      <th>id</th>\n",
       "    </tr>\n",
       "  </thead>\n",
       "  <tbody>\n",
       "    <tr>\n",
       "      <th>0</th>\n",
       "      <td>2020-06-01</td>\n",
       "      <td>https://www.prnewswire.com/news-releases/</td>\n",
       "      <td>a natural partnership: popsockets &amp; burt`s bees collaborate on a new product</td>\n",
       "      <td>popgrip lips x burt`s bees will provide consumers with a two-in-one product that features the cl...</td>\n",
       "      <td>prnewswire</td>\n",
       "      <td>natural partnership popsockets burt bees collaborate new product</td>\n",
       "      <td>popgrip lips x burt bees provide consumers two one product features classic functionality combin...</td>\n",
       "      <td>0</td>\n",
       "    </tr>\n",
       "    <tr>\n",
       "      <th>1</th>\n",
       "      <td>2020-06-01</td>\n",
       "      <td>http://www.reuters.com/</td>\n",
       "      <td>keep your distance: people queue for school and ikea in england</td>\n",
       "      <td>warrington, england (reuters) - thousands of people across england queued up for school and ikea...</td>\n",
       "      <td>reuters</td>\n",
       "      <td>keep distance people queue school ikea england</td>\n",
       "      <td>warrington england reuters thousands people across queued school ikea monday british government ...</td>\n",
       "      <td>1</td>\n",
       "    </tr>\n",
       "    <tr>\n",
       "      <th>2</th>\n",
       "      <td>2020-06-01</td>\n",
       "      <td>http://www.aljazeera.com/</td>\n",
       "      <td>mapping us cities where george floyd protests have erupted</td>\n",
       "      <td>demonstrations have erupted in dozens of us cities after george floyd, an unarmed black man, die...</td>\n",
       "      <td>aljazeera</td>\n",
       "      <td>mapping us cities george floyd protests erupted</td>\n",
       "      <td>demonstrations erupted dozens us cities george floyd unarmed black man died police custody thous...</td>\n",
       "      <td>2</td>\n",
       "    </tr>\n",
       "    <tr>\n",
       "      <th>3</th>\n",
       "      <td>2020-06-01</td>\n",
       "      <td>https://www.dallasnews.com/</td>\n",
       "      <td>enjoy the dallas museum of art's exploration of home from the comfort of yours</td>\n",
       "      <td>what does it mean for a house to be a home? for one thing, it means that a structure built of in...</td>\n",
       "      <td>dallasnews</td>\n",
       "      <td>enjoy dallas museum art exploration home comfort</td>\n",
       "      <td>mean house home one thing means structure built inanimate wood glass somehow become anchor power...</td>\n",
       "      <td>3</td>\n",
       "    </tr>\n",
       "    <tr>\n",
       "      <th>4</th>\n",
       "      <td>2020-06-01</td>\n",
       "      <td>https://www.dallasnews.com/</td>\n",
       "      <td>target opens some dallas stores as protesters move overnight, causing damage to west end and upt...</td>\n",
       "      <td>the protests that have spread around the country are closing stores at a time when retailers are...</td>\n",
       "      <td>dallasnews</td>\n",
       "      <td>target opens dallas stores protesters move overnight causing damage west end uptown businesses</td>\n",
       "      <td>protests spread around country closing stores time retailers still trying operate post pandemic ...</td>\n",
       "      <td>4</td>\n",
       "    </tr>\n",
       "  </tbody>\n",
       "</table>\n",
       "</div>"
      ],
      "text/plain": [
       "  publishdate                                        src  \\\n",
       "0  2020-06-01  https://www.prnewswire.com/news-releases/   \n",
       "1  2020-06-01                    http://www.reuters.com/   \n",
       "2  2020-06-01                  http://www.aljazeera.com/   \n",
       "3  2020-06-01                https://www.dallasnews.com/   \n",
       "4  2020-06-01                https://www.dallasnews.com/   \n",
       "\n",
       "                                                                                                 title  \\\n",
       "0                         a natural partnership: popsockets & burt`s bees collaborate on a new product   \n",
       "1                                      keep your distance: people queue for school and ikea in england   \n",
       "2                                           mapping us cities where george floyd protests have erupted   \n",
       "3                       enjoy the dallas museum of art's exploration of home from the comfort of yours   \n",
       "4  target opens some dallas stores as protesters move overnight, causing damage to west end and upt...   \n",
       "\n",
       "                                                                                                  news  \\\n",
       "0  popgrip lips x burt`s bees will provide consumers with a two-in-one product that features the cl...   \n",
       "1  warrington, england (reuters) - thousands of people across england queued up for school and ikea...   \n",
       "2  demonstrations have erupted in dozens of us cities after george floyd, an unarmed black man, die...   \n",
       "3  what does it mean for a house to be a home? for one thing, it means that a structure built of in...   \n",
       "4  the protests that have spread around the country are closing stores at a time when retailers are...   \n",
       "\n",
       "     src_name  \\\n",
       "0  prnewswire   \n",
       "1     reuters   \n",
       "2   aljazeera   \n",
       "3  dallasnews   \n",
       "4  dallasnews   \n",
       "\n",
       "                                                                                         tokTitle  \\\n",
       "0                                natural partnership popsockets burt bees collaborate new product   \n",
       "1                                                  keep distance people queue school ikea england   \n",
       "2                                                 mapping us cities george floyd protests erupted   \n",
       "3                                                enjoy dallas museum art exploration home comfort   \n",
       "4  target opens dallas stores protesters move overnight causing damage west end uptown businesses   \n",
       "\n",
       "                                                                                               tokNews  \\\n",
       "0  popgrip lips x burt bees provide consumers two one product features classic functionality combin...   \n",
       "1  warrington england reuters thousands people across queued school ikea monday british government ...   \n",
       "2  demonstrations erupted dozens us cities george floyd unarmed black man died police custody thous...   \n",
       "3  mean house home one thing means structure built inanimate wood glass somehow become anchor power...   \n",
       "4  protests spread around country closing stores time retailers still trying operate post pandemic ...   \n",
       "\n",
       "   id  \n",
       "0   0  \n",
       "1   1  \n",
       "2   2  \n",
       "3   3  \n",
       "4   4  "
      ]
     },
     "execution_count": 117,
     "metadata": {},
     "output_type": "execute_result"
    }
   ],
   "source": [
    "final_reddit.head()"
   ]
  },
  {
   "cell_type": "code",
   "execution_count": 125,
   "metadata": {},
   "outputs": [],
   "source": [
    "from datetime import datetime\n",
    "final_reddit = reddit_df.copy()\n",
    "# final_reddit['publishdate'] = final_reddit.apply(lambda x: datetime.(x['publishdate']).strftime('%Y-%m-%d'),axis=1)\n",
    "# final_reddit['link_flair_text'] = final_reddit['link_flair_text'].fillna('none')\n",
    "\n",
    "final_reddit['id'] = final_reddit.index\n",
    "final_reddit = final_reddit[['id', 'title', 'publishdate', 'src_name']]"
   ]
  },
  {
   "cell_type": "code",
   "execution_count": 126,
   "metadata": {},
   "outputs": [
    {
     "data": {
      "text/html": [
       "<div>\n",
       "<style scoped>\n",
       "    .dataframe tbody tr th:only-of-type {\n",
       "        vertical-align: middle;\n",
       "    }\n",
       "\n",
       "    .dataframe tbody tr th {\n",
       "        vertical-align: top;\n",
       "    }\n",
       "\n",
       "    .dataframe thead th {\n",
       "        text-align: right;\n",
       "    }\n",
       "</style>\n",
       "<table border=\"1\" class=\"dataframe\">\n",
       "  <thead>\n",
       "    <tr style=\"text-align: right;\">\n",
       "      <th></th>\n",
       "      <th>id</th>\n",
       "      <th>title</th>\n",
       "      <th>publishdate</th>\n",
       "      <th>src_name</th>\n",
       "    </tr>\n",
       "  </thead>\n",
       "  <tbody>\n",
       "    <tr>\n",
       "      <th>0</th>\n",
       "      <td>0</td>\n",
       "      <td>a natural partnership: popsockets &amp; burt`s bees collaborate on a new product</td>\n",
       "      <td>2020-06-01</td>\n",
       "      <td>prnewswire</td>\n",
       "    </tr>\n",
       "    <tr>\n",
       "      <th>1</th>\n",
       "      <td>1</td>\n",
       "      <td>keep your distance: people queue for school and ikea in england</td>\n",
       "      <td>2020-06-01</td>\n",
       "      <td>reuters</td>\n",
       "    </tr>\n",
       "    <tr>\n",
       "      <th>2</th>\n",
       "      <td>2</td>\n",
       "      <td>mapping us cities where george floyd protests have erupted</td>\n",
       "      <td>2020-06-01</td>\n",
       "      <td>aljazeera</td>\n",
       "    </tr>\n",
       "    <tr>\n",
       "      <th>3</th>\n",
       "      <td>3</td>\n",
       "      <td>enjoy the dallas museum of art's exploration of home from the comfort of yours</td>\n",
       "      <td>2020-06-01</td>\n",
       "      <td>dallasnews</td>\n",
       "    </tr>\n",
       "    <tr>\n",
       "      <th>4</th>\n",
       "      <td>4</td>\n",
       "      <td>target opens some dallas stores as protesters move overnight, causing damage to west end and upt...</td>\n",
       "      <td>2020-06-01</td>\n",
       "      <td>dallasnews</td>\n",
       "    </tr>\n",
       "    <tr>\n",
       "      <th>...</th>\n",
       "      <td>...</td>\n",
       "      <td>...</td>\n",
       "      <td>...</td>\n",
       "      <td>...</td>\n",
       "    </tr>\n",
       "    <tr>\n",
       "      <th>293622</th>\n",
       "      <td>293622</td>\n",
       "      <td>hurricane isaias: u-haul offers 30 days free storage in 3 states</td>\n",
       "      <td>2020-08-03</td>\n",
       "      <td>prnewswire</td>\n",
       "    </tr>\n",
       "    <tr>\n",
       "      <th>293623</th>\n",
       "      <td>293623</td>\n",
       "      <td>2021 kia seltos named to wards 10 best user experience (ux) list</td>\n",
       "      <td>2020-08-03</td>\n",
       "      <td>prnewswire</td>\n",
       "    </tr>\n",
       "    <tr>\n",
       "      <th>293624</th>\n",
       "      <td>293624</td>\n",
       "      <td>georgia power prepares for tropical storm isaias</td>\n",
       "      <td>2020-08-03</td>\n",
       "      <td>prnewswire</td>\n",
       "    </tr>\n",
       "    <tr>\n",
       "      <th>293625</th>\n",
       "      <td>293625</td>\n",
       "      <td>inventhelp inventor presents a fencing component (roh-716)</td>\n",
       "      <td>2020-08-03</td>\n",
       "      <td>prnewswire</td>\n",
       "    </tr>\n",
       "    <tr>\n",
       "      <th>293626</th>\n",
       "      <td>293626</td>\n",
       "      <td>average new-vehicle prices up 2% year-over-year in july 2020, according to kelley blue book</td>\n",
       "      <td>2020-08-03</td>\n",
       "      <td>prnewswire</td>\n",
       "    </tr>\n",
       "  </tbody>\n",
       "</table>\n",
       "<p>293627 rows × 4 columns</p>\n",
       "</div>"
      ],
      "text/plain": [
       "            id  \\\n",
       "0            0   \n",
       "1            1   \n",
       "2            2   \n",
       "3            3   \n",
       "4            4   \n",
       "...        ...   \n",
       "293622  293622   \n",
       "293623  293623   \n",
       "293624  293624   \n",
       "293625  293625   \n",
       "293626  293626   \n",
       "\n",
       "                                                                                                      title  \\\n",
       "0                              a natural partnership: popsockets & burt`s bees collaborate on a new product   \n",
       "1                                           keep your distance: people queue for school and ikea in england   \n",
       "2                                                mapping us cities where george floyd protests have erupted   \n",
       "3                            enjoy the dallas museum of art's exploration of home from the comfort of yours   \n",
       "4       target opens some dallas stores as protesters move overnight, causing damage to west end and upt...   \n",
       "...                                                                                                     ...   \n",
       "293622                                     hurricane isaias: u-haul offers 30 days free storage in 3 states   \n",
       "293623                                     2021 kia seltos named to wards 10 best user experience (ux) list   \n",
       "293624                                                     georgia power prepares for tropical storm isaias   \n",
       "293625                                           inventhelp inventor presents a fencing component (roh-716)   \n",
       "293626          average new-vehicle prices up 2% year-over-year in july 2020, according to kelley blue book   \n",
       "\n",
       "       publishdate    src_name  \n",
       "0       2020-06-01  prnewswire  \n",
       "1       2020-06-01     reuters  \n",
       "2       2020-06-01   aljazeera  \n",
       "3       2020-06-01  dallasnews  \n",
       "4       2020-06-01  dallasnews  \n",
       "...            ...         ...  \n",
       "293622  2020-08-03  prnewswire  \n",
       "293623  2020-08-03  prnewswire  \n",
       "293624  2020-08-03  prnewswire  \n",
       "293625  2020-08-03  prnewswire  \n",
       "293626  2020-08-03  prnewswire  \n",
       "\n",
       "[293627 rows x 4 columns]"
      ]
     },
     "execution_count": 126,
     "metadata": {},
     "output_type": "execute_result"
    }
   ],
   "source": [
    "final_reddit"
   ]
  },
  {
   "cell_type": "code",
   "execution_count": 131,
   "metadata": {},
   "outputs": [
    {
     "data": {
      "text/plain": [
       "id             0\n",
       "title          0\n",
       "publishdate    0\n",
       "src_name       0\n",
       "dtype: int64"
      ]
     },
     "execution_count": 131,
     "metadata": {},
     "output_type": "execute_result"
    }
   ],
   "source": [
    "final_reddit.isnull().sum()"
   ]
  },
  {
   "cell_type": "code",
   "execution_count": 127,
   "metadata": {},
   "outputs": [],
   "source": [
    "final_reddit.to_csv('./import_cypher/usnews.csv', index=False)"
   ]
  },
  {
   "cell_type": "code",
   "execution_count": null,
   "metadata": {},
   "outputs": [],
   "source": []
  },
  {
   "cell_type": "code",
   "execution_count": null,
   "metadata": {},
   "outputs": [],
   "source": []
  }
 ],
 "metadata": {
  "kernelspec": {
   "display_name": "Python 3",
   "language": "python",
   "name": "python3"
  },
  "language_info": {
   "codemirror_mode": {
    "name": "ipython",
    "version": 3
   },
   "file_extension": ".py",
   "mimetype": "text/x-python",
   "name": "python",
   "nbconvert_exporter": "python",
   "pygments_lexer": "ipython3",
   "version": "3.7.9"
  },
  "toc": {
   "base_numbering": 1,
   "nav_menu": {},
   "number_sections": true,
   "sideBar": true,
   "skip_h1_title": false,
   "title_cell": "Table of Contents",
   "title_sidebar": "Contents",
   "toc_cell": false,
   "toc_position": {},
   "toc_section_display": true,
   "toc_window_display": false
  },
  "varInspector": {
   "cols": {
    "lenName": 16,
    "lenType": 16,
    "lenVar": 40
   },
   "kernels_config": {
    "python": {
     "delete_cmd_postfix": "",
     "delete_cmd_prefix": "del ",
     "library": "var_list.py",
     "varRefreshCmd": "print(var_dic_list())"
    },
    "r": {
     "delete_cmd_postfix": ") ",
     "delete_cmd_prefix": "rm(",
     "library": "var_list.r",
     "varRefreshCmd": "cat(var_dic_list()) "
    }
   },
   "types_to_exclude": [
    "module",
    "function",
    "builtin_function_or_method",
    "instance",
    "_Feature"
   ],
   "window_display": false
  }
 },
 "nbformat": 4,
 "nbformat_minor": 4
}
